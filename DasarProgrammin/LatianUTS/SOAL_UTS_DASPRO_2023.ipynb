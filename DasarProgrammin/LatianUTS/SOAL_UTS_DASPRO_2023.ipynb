{
 "cells": [
  {
   "cell_type": "markdown",
   "metadata": {},
   "source": [
    "# UJIAN TENGAH SEMESTER GASAL 2023/2024"
   ]
  },
  {
   "cell_type": "markdown",
   "metadata": {},
   "source": [
    "#### Mata Kuliah : PAIK6102/ AIK21311- Dasar Pemrograman\n",
    "#### Kelas       : A, B, C, D, E\n",
    "#### Pengampu    : Helmie Arif Wibawa, S.Si., M.Cs/ Khadijah, S.Kom., M.Cs / Dr. Eng. Adi Wibowo, S.Si., M.Kom\n",
    "\n",
    "#### Departemen/Program Studi    : Ilmu Komputer / Informatika\n",
    "#### Hari/Tanggal                : Senin, 9 Oktober 2023\n",
    "#### Jam/Ruang                   : 08:00 - 09:30 WIB (90 menit)/E101, E102, E103, A303\n",
    "#### Sifat Ujian                 : Buku Terbuka\n",
    "\n",
    "Capaian Pembelajaran Lulusan (CPL)\n",
    "CPL-P05:\n",
    "Mampu menerapkan konsep teoretis bidang ilmu komputer dalam\n",
    "mengidentifikasi solusi permasalahan kompleks dengan prinsip\n",
    "komputasi dan ilmu lain yang relevan.\n",
    "\n",
    "Capaian Pembelajaran Mata Kuliah (CPMK) dan Sub-CPMK\n",
    "CPMK05-2:\n",
    "Mampu menerapkan (C3) konsep teoretis bidang pengetahuan dan\n",
    "keterampilan Ilmu Komputer dalam menyelesaikan permasalahan\n",
    "(P4) kompleks dengan pemikiran komputasional untuk pengambilan\n",
    "keputusan.\n",
    "Sub CPMKX05-2:\n",
    "1. Mampu memahami dan menerapkan konsep pemrograman\n",
    "fungsional untuk membangun fungsi menggunakan ekspresi\n",
    "dasar sebagai solusi dari suatu permasalahan.\n",
    "2. Mampu memahami dan menerapkan konsep analisa kasus dalam\n",
    "pemrograman fungsional.\n",
    "3. Mampu memahami dan menerapkan konsep tipe bentukan\n",
    "dalam pemrograman fungsional."
   ]
  },
  {
   "cell_type": "markdown",
   "metadata": {},
   "source": [
    "Petunjuk Pengerjaan:\n",
    "A. Tuliskan identitas NIM, Nama, pada setiap lembar jawab!\n",
    "B. Jawablah soal-soal berikut pada lembar jawab dan bila perlu disertai asumsi/gambar!"
   ]
  },
  {
   "cell_type": "markdown",
   "metadata": {},
   "source": []
  },
  {
   "cell_type": "markdown",
   "metadata": {},
   "source": [
    "# 1. [CPMK05-2 (1,2) bobot 25%] \n"
   ]
  },
  {
   "cell_type": "markdown",
   "metadata": {},
   "source": [
    "Buatlah definisi, spesifikasi, realisasi, dan realisasi untuk sebuah fungsi yang menghitung biaya tagihan bulanan dari sebuah perusahaan air\n",
    "berdasarkan kode pelanggan seperti tabel berikut ini:\n",
    "\n",
    "| Kode Pelanggan | Tarif 10 m3 pertama | Tarif setelah 10 m3 berikutnya |\n",
    "|----------------|---------------------|-------------------------------|\n",
    "| A              | Rp. 30.000,-         | Rp. 2.500,- / m3               |\n",
    "| B              | Rp. 50.000,-         | Rp. 3.000,- / m3               |\n",
    "| C              | Rp. 50.000,-         | Rp. 3.500,- / m3               |\n",
    "\n",
    "\n",
    "Contoh: seseorang pelanggan dengan kode pelanggan A dan penggunaan air selama bulan\n",
    "tersebut sebanyak 25 m3, maka tagihannya adalah:\n",
    "Rp 30.000,- + (15 x Rp. 2.500,-) = Rp. 67.500,-"
   ]
  },
  {
   "cell_type": "code",
   "execution_count": 3,
   "metadata": {},
   "outputs": [
    {
     "data": {
      "text/plain": [
       "'\\n**************************************************************\\nBIAYA TAGIHAN BULANAN   | biaya_tagihan_bulanan(kode_pelanggan, penggunaan_air)\\n**************************************************************\\n\\n**************************************************************\\nDEFINISI DAN SPESIFIKASI\\n    biaya_tagihan_bulanan : string, real → real\\n        { biaya_tagihan_bulanan(kode_pelanggan, penggunaan_air) menghitung biaya tagihan bulanan dari pelanggan dengan kode pelanggan kode_pelanggan dan penggunaan air penggunaan_air }\\n**************************************************************\\n'"
      ]
     },
     "execution_count": 3,
     "metadata": {},
     "output_type": "execute_result"
    }
   ],
   "source": [
    "\"\"\"\n",
    "**************************************************************\n",
    "BIAYA TAGIHAN BULANAN   | biaya_tagihan_bulanan(kode_pelanggan, penggunaan_air)\n",
    "**************************************************************\n",
    "\n",
    "**************************************************************\n",
    "DEFINISI DAN SPESIFIKASI\n",
    "    biaya_tagihan_bulanan : string, real → real\n",
    "        { biaya_tagihan_bulanan(kode_pelanggan, penggunaan_air) menghitung biaya tagihan bulanan dari pelanggan dengan kode pelanggan kode_pelanggan dan penggunaan air penggunaan_air }\n",
    "**************************************************************\n",
    "\"\"\""
   ]
  },
  {
   "cell_type": "code",
   "execution_count": 4,
   "metadata": {},
   "outputs": [],
   "source": [
    "\"\"\"\n",
    "**************************************************************\n",
    "REALISASI\n",
    "**************************************************************\n",
    "\"\"\"\n",
    "\n",
    "\n",
    "def biaya_tagihan_bulanan(kode_pelanggan, penggunaan_air):\n",
    "    if kode_pelanggan == \"A\":\n",
    "        if penggunaan_air > 10:\n",
    "            return 30000 + (penggunaan_air - 10) * 2500\n",
    "        return 30000\n",
    "    if kode_pelanggan == \"B\":\n",
    "        if penggunaan_air > 10:\n",
    "            return 50000 + (penggunaan_air - 10) * 3000\n",
    "        return 50000\n",
    "    if kode_pelanggan == \"C\":\n",
    "        if penggunaan_air > 10:\n",
    "            return 50000 + (penggunaan_air - 10) * 3500\n",
    "        return 50000"
   ]
  },
  {
   "cell_type": "code",
   "execution_count": 5,
   "metadata": {},
   "outputs": [
    {
     "name": "stdout",
     "output_type": "stream",
     "text": [
      "biaya_tagihan_bulanan('A', 10) = 30000\n",
      "biaya_tagihan_bulanan('A', 25) = 67500\n",
      "biaya_tagihan_bulanan('B', 25) = 95000\n"
     ]
    }
   ],
   "source": [
    "\"\"\"\n",
    "**************************************************************\n",
    "APLIKASI\n",
    "**************************************************************\n",
    "\"\"\"\n",
    "\n",
    "print(f\"biaya_tagihan_bulanan('A', 10) = {biaya_tagihan_bulanan('A', 10)}\")\n",
    "print(f\"biaya_tagihan_bulanan('A', 25) = {biaya_tagihan_bulanan('A', 25)}\")\n",
    "print(f\"biaya_tagihan_bulanan('B', 25) = {biaya_tagihan_bulanan('B', 25)}\")"
   ]
  },
  {
   "cell_type": "markdown",
   "metadata": {},
   "source": [
    "# 2. [CPMK05-2 (2) bobot 35%]"
   ]
  },
  {
   "cell_type": "markdown",
   "metadata": {},
   "source": [
    "Buatlah definisi, spesifikasi dan realisasi dari suatu predikat IsNextDayFriday? yang akan memeriksa apakah nama hari pada esok harinya setelah tanggal yang diberikan adalah hari Jum'at, jika diketahui suatu data masukan yang berupa tanggal bulan dan tahun, dan diketahui bahwa pada tanggal 1 Januari pada tahun yang bersangkutan adalah hari Senin, dengan memperhatikan tahun kabisatnya!\n",
    "\n",
    "Contoh aplikasi:\n",
    "Is TomorrowFriday?(2,1,1990) → False\n",
    "IsTomorrowFriday?(4,1,1990)  → True\n",
    "IsTomorrowFriday?(9,3,1993)  → True"
   ]
  },
  {
   "cell_type": "code",
   "execution_count": 6,
   "metadata": {},
   "outputs": [
    {
     "data": {
      "text/plain": [
       "\"\\n**************************************************************\\nIs Tomorrow Friday   | IsTomorrowFriday(d,m,y)\\n**************************************************************\\n\\n**************************************************************\\nDEFINISI DAN SPESIFIKASI\\n    IsTomorrowFriday : 3 integer → boolean\\n        { IsTomorrowFriday(d,m,y) memeriksa apakah nama hari pada esok harinya setelah tanggal yang diberikan adalah hari Jum'at,}\\n\\nDEFINISI DAN SPESIFIKASI FUNGSI ANTARA\\n    HariKe1900 : integer [1..31], integer [1..12], integer [0..99] → integer [1..366]\\n        {HariKe1900(d,m,y) dari suatu tanggal <d,m,y> adalah hari absolut dihitung mulai 1 Januari tahun 1900+y. 1 Januari tahun 1900+y adalah hari ke 1}\\n    dpm : integer [1..12] → integer [1..366]\\n        {dpm(B) adalah jumlah hari kumulatif dari tanggal 1 Januari hingga tanggal 1 bulan B pada tahun tertentu, tanpa memperhitungkan tahun kabisat.}\\n    IsKabisat? : integer [0..99] → boolean\\n        {IsKabisat?(y) menghasilkan True jika tahun 1900+y adalah tahun kabisat, yaitu habis dibagi 4 tetapi tidak habis dibagi 100, atau habis dibagi 400.}\\n**************************************************************\\n\""
      ]
     },
     "execution_count": 6,
     "metadata": {},
     "output_type": "execute_result"
    }
   ],
   "source": [
    "\"\"\"\n",
    "**************************************************************\n",
    "Is Tomorrow Friday   | IsTomorrowFriday(d,m,y)\n",
    "**************************************************************\n",
    "\n",
    "**************************************************************\n",
    "DEFINISI DAN SPESIFIKASI\n",
    "    IsTomorrowFriday : 3 integer → boolean\n",
    "        { IsTomorrowFriday(d,m,y) memeriksa apakah nama hari pada esok harinya setelah tanggal yang diberikan adalah hari Jum'at,}\n",
    "\n",
    "DEFINISI DAN SPESIFIKASI FUNGSI ANTARA\n",
    "    HariKe1900 : integer [1..31], integer [1..12], integer [0..99] → integer [1..366]\n",
    "        {HariKe1900(d,m,y) dari suatu tanggal <d,m,y> adalah hari absolut dihitung mulai 1 Januari tahun 1900+y. 1 Januari tahun 1900+y adalah hari ke 1}\n",
    "    dpm : integer [1..12] → integer [1..366]\n",
    "        {dpm(B) adalah jumlah hari kumulatif dari tanggal 1 Januari hingga tanggal 1 bulan B pada tahun tertentu, tanpa memperhitungkan tahun kabisat.}\n",
    "    IsKabisat? : integer [0..99] → boolean\n",
    "        {IsKabisat?(y) menghasilkan True jika tahun 1900+y adalah tahun kabisat, yaitu habis dibagi 4 tetapi tidak habis dibagi 100, atau habis dibagi 400.}\n",
    "**************************************************************\n",
    "\"\"\""
   ]
  },
  {
   "cell_type": "code",
   "execution_count": 7,
   "metadata": {},
   "outputs": [],
   "source": [
    "\"\"\"\n",
    "**************************************************************\n",
    "REALISASI\n",
    "**************************************************************\n",
    "\"\"\"\n",
    "\n",
    "\n",
    "def dpm(bulan):\n",
    "    if bulan == 1:\n",
    "        return 1\n",
    "    if bulan == 2:\n",
    "        return 32\n",
    "    if bulan == 3:\n",
    "        return 60\n",
    "    if bulan == 4:\n",
    "        return 91\n",
    "    if bulan == 5:\n",
    "        return 121\n",
    "    if bulan == 6:\n",
    "        return 152\n",
    "    if bulan == 7:\n",
    "        return 182\n",
    "    if bulan == 8:\n",
    "        return 213\n",
    "    if bulan == 9:\n",
    "        return 244\n",
    "    if bulan == 10:\n",
    "        return 274\n",
    "    if bulan == 11:\n",
    "        return 305\n",
    "    if bulan == 12:\n",
    "        return 335\n",
    "\n",
    "\n",
    "def IsKabisat(y):\n",
    "    return (y % 4 == 0 and y % 100 != 0) or (y % 400 == 0)\n",
    "\n",
    "\n",
    "def HariKe1900(d, m, y):\n",
    "    return dpm(m) + d - 1 + (1 if m > 2 and IsKabisat(y) else 0)\n",
    "\n",
    "\n",
    "def IsTomorrowFriday(d, m, y):\n",
    "    return HariKe1900(d, m, y) % 7 + 1 == 5"
   ]
  },
  {
   "cell_type": "code",
   "execution_count": 8,
   "metadata": {},
   "outputs": [
    {
     "name": "stdout",
     "output_type": "stream",
     "text": [
      "IsTomorrowFriday(2,1,1990) = False\n",
      "IsTomorrowFriday(4,1,1990) = True\n",
      "IsTomorrowFriday(9,3,1993) = False\n"
     ]
    }
   ],
   "source": [
    "\"\"\"\n",
    "**************************************************************\n",
    "APLIKASI\n",
    "**************************************************************\n",
    "\"\"\"\n",
    "\n",
    "print(f\"IsTomorrowFriday(2,1,1990) = {IsTomorrowFriday(2, 1, 1990)}\")\n",
    "print(f\"IsTomorrowFriday(4,1,1990) = {IsTomorrowFriday(4, 1, 1990)}\")\n",
    "print(f\"IsTomorrowFriday(9,3,1993) = {IsTomorrowFriday(9, 3, 1993)}\")"
   ]
  },
  {
   "cell_type": "markdown",
   "metadata": {},
   "source": [
    "# 3. [CPMK05-2 (2,3) bobot 40%]"
   ]
  },
  {
   "cell_type": "markdown",
   "metadata": {},
   "source": [
    "Definisikan sebuah tipe bentukan untuk garis yang terdiri atas 2 tipe\n",
    "point <P1: point, P2:point>\n",
    "\n",
    "Tuliskan notasi fungsionalnya untuk:\n",
    "a. Definisi dan spesifikasi tipe garis tersebut\n",
    "b. Definisi dan spesifikasi selektor\n",
    "c. Definisi dan spesifikasi konstruktor\n",
    "d. Definisi, spesifikasi, realisasi dan aplikasi operator/fungsi berikut:\n",
    "PanjangGaris(G) yang menghitung panjang garis G\n",
    "e. Definisi, spesifikasi,realisasi dan aplikasi predikat berikut:\n",
    "IsKuadran3?(G) di mana predikat tersebut memberikan nilai True apabila keseluruhan garis berada pada kuadran III"
   ]
  },
  {
   "cell_type": "code",
   "execution_count": 9,
   "metadata": {},
   "outputs": [
    {
     "data": {
      "text/plain": [
       "'\\n**************************************************************\\nTYPE GARIS\\n**************************************************************\\n\\n**************************************************************\\nDEFINISI TYPE\\n    type point : <x: real, y: real>\\n        { <x: real, y: real> merepresentasikan sebuah titik dalam bidang dua dimensi. x adalah absis (horizontal) dan y adalah ordinat (vertical) }\\n    type garis : <P1: point, P2: point>\\n        { Sebuah garis direpresentasikan oleh dua titik P1 dan P2 yang berada dalam bidang dua dimensi }\\n**************************************************************\\n\\n**************************************************************\\nDEFINISI DAN SPESIFIKASI SELEKTOR \\n    Absis : point  → real \\n        { Absis(P) Memberikan Absis Point P } \\n    Ordinat : point  → real \\n        { Ordinat(P) Memberikan ordinat Point P } \\n    GarisAwal : garis → point \\n        { GarisAwal(G) memberikan titik awal garis G } \\n    GarisAkhir : garis → point \\n        { GarisAkhir(G) memberikan titik akhir garis G }\\n**************************************************************\\n\\n**************************************************************\\nDEFINISI DAN SPESIFIKASI KONSTRUKTOR \\n    MakePoint  : 2 real  → point \\n        { MakePoint(a,b) membentuk sebuah point dari a dan b dengan a sebagai absis dan b sebagai ordinat } \\n    MakeGaris  : 2 point  → garis \\n        { MakeGaris(P1, P2) membentuk sebuah garis dengan titik awal P1 dan titik akhir P2 }\\n**************************************************************\\n\\n**************************************************************\\nDEFINISI DAN SPESIFIKASI OPERATOR TERHADAP GARIS \\n    PanjangGaris : garis → boolean \\n        { PanjangGaris(garis) menghitung panjang garis antara dua titik Absis(garis) dan Ordinat(garis) menggunakan rumus jarak Euclidean }\\n**************************************************************\\n\\n**************************************************************\\nDEFINISI DAN SPESIFIKASI PREDIKAT\\n    IsKuadran3 : point → boolean\\n        { IsKuadran3(P) mengecek apakah point P adalah kuadran 3 }\\n**************************************************************\\n'"
      ]
     },
     "execution_count": 9,
     "metadata": {},
     "output_type": "execute_result"
    }
   ],
   "source": [
    "\"\"\"\n",
    "**************************************************************\n",
    "TYPE GARIS\n",
    "**************************************************************\n",
    "\n",
    "**************************************************************\n",
    "DEFINISI TYPE\n",
    "    type point : <x: real, y: real>\n",
    "        { <x: real, y: real> merepresentasikan sebuah titik dalam bidang dua dimensi. x adalah absis (horizontal) dan y adalah ordinat (vertical) }\n",
    "    type garis : <P1: point, P2: point>\n",
    "        { Sebuah garis direpresentasikan oleh dua titik P1 dan P2 yang berada dalam bidang dua dimensi }\n",
    "**************************************************************\n",
    "\n",
    "**************************************************************\n",
    "DEFINISI DAN SPESIFIKASI SELEKTOR \n",
    "    Absis : point  → real \n",
    "        { Absis(P) Memberikan Absis Point P } \n",
    "    Ordinat : point  → real \n",
    "        { Ordinat(P) Memberikan ordinat Point P } \n",
    "    GarisAwal : garis → point \n",
    "        { GarisAwal(G) memberikan titik awal garis G } \n",
    "    GarisAkhir : garis → point \n",
    "        { GarisAkhir(G) memberikan titik akhir garis G }\n",
    "**************************************************************\n",
    "\n",
    "**************************************************************\n",
    "DEFINISI DAN SPESIFIKASI KONSTRUKTOR \n",
    "    MakePoint  : 2 real  → point \n",
    "        { MakePoint(a,b) membentuk sebuah point dari a dan b dengan a sebagai absis dan b sebagai ordinat } \n",
    "    MakeGaris  : 2 point  → garis \n",
    "        { MakeGaris(P1, P2) membentuk sebuah garis dengan titik awal P1 dan titik akhir P2 }\n",
    "**************************************************************\n",
    "\n",
    "**************************************************************\n",
    "DEFINISI DAN SPESIFIKASI OPERATOR TERHADAP GARIS \n",
    "    PanjangGaris : garis → boolean \n",
    "        { PanjangGaris(garis) menghitung panjang garis antara dua titik Absis(garis) dan Ordinat(garis) menggunakan rumus jarak Euclidean }\n",
    "**************************************************************\n",
    "\n",
    "**************************************************************\n",
    "DEFINISI DAN SPESIFIKASI PREDIKAT\n",
    "    IsKuadran3 : point → boolean\n",
    "        { IsKuadran3(P) mengecek apakah point P adalah kuadran 3 }\n",
    "**************************************************************\n",
    "\"\"\""
   ]
  },
  {
   "cell_type": "code",
   "execution_count": 10,
   "metadata": {},
   "outputs": [],
   "source": [
    "\"\"\"\n",
    "**************************************************************\n",
    "REALISASI\n",
    "**************************************************************\n",
    "\"\"\"\n",
    "\n",
    "\n",
    "def MakePoint(x, y):\n",
    "    return [x, y]\n",
    "\n",
    "\n",
    "def Absis(P):\n",
    "    return P[0]\n",
    "\n",
    "\n",
    "def Ordinat(P):\n",
    "    return P[1]\n",
    "\n",
    "\n",
    "def MakeGaris(P1, P2):\n",
    "    return [P1, P2]\n",
    "\n",
    "\n",
    "def GarisAwal(G):\n",
    "    return G[0]\n",
    "\n",
    "\n",
    "def GarisAkhir(G):\n",
    "    return G[1]\n",
    "\n",
    "\n",
    "def FX2(x):\n",
    "    return x * x\n",
    "\n",
    "\n",
    "def PanjangGaris(G):\n",
    "    return (\n",
    "        FX2(Absis(GarisAwal(G)) - Absis(GarisAkhir(G)))\n",
    "        + FX2(Ordinat(GarisAwal(G)) - Ordinat(GarisAkhir(G)))\n",
    "    ) ** 0.5\n",
    "\n",
    "\n",
    "def IsKuadran3(P):\n",
    "    return Absis(P) < 0 and Ordinat(P) < 0"
   ]
  },
  {
   "cell_type": "code",
   "execution_count": 11,
   "metadata": {},
   "outputs": [
    {
     "name": "stdout",
     "output_type": "stream",
     "text": [
      "PanjangGaris: <1,3>, <2,3> -> 1.0\n"
     ]
    }
   ],
   "source": [
    "\"\"\"\n",
    "**************************************************************\n",
    "APLIKASI\n",
    "**************************************************************\n",
    "\"\"\"\n",
    "print(\n",
    "    f\"\"\"PanjangGaris: <1,3>, <2,3> -> {\n",
    "    PanjangGaris(\n",
    "        MakeGaris(\n",
    "            MakePoint(1, 3), \n",
    "            MakePoint(2, 3)\n",
    "            )\n",
    "        )\n",
    "    }\"\"\"\n",
    ")\n"
   ]
  }
 ],
 "metadata": {
  "kernelspec": {
   "display_name": "Python 3",
   "language": "python",
   "name": "python3"
  },
  "language_info": {
   "codemirror_mode": {
    "name": "ipython",
    "version": 3
   },
   "file_extension": ".py",
   "mimetype": "text/x-python",
   "name": "python",
   "nbconvert_exporter": "python",
   "pygments_lexer": "ipython3",
   "version": "3.10.0"
  }
 },
 "nbformat": 4,
 "nbformat_minor": 2
}
