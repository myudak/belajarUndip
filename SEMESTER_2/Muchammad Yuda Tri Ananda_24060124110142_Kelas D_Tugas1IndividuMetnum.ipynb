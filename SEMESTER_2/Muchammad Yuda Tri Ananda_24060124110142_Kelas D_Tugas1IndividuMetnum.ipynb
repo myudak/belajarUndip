{
 "cells": [
  {
   "cell_type": "markdown",
   "metadata": {},
   "source": [
    "## **TUGAS 1 GALAT METNUM**\n",
    "\n",
    "**NAMA : Muchammad Yuda Tri Ananda**\n",
    "\n",
    "**NIM : 24060124110142**\n",
    "\n",
    "**NAMA : Kelas D**\n",
    "\n",
    "---"
   ]
  },
  {
   "cell_type": "markdown",
   "metadata": {},
   "source": [
    "## **Penjelasan Deret Taylor dan Maclaurin**\n",
    "Deret Taylor adalah ekspansi fungsi ke dalam bentuk polinomial di sekitar suatu titik x = a. Jika titik pusatnya adalah x = 0, maka disebut deret Maclaurin. Deret ini digunakan untuk mendekati fungsi yang kompleks dengan polinomial yang lebih sederhana, sehingga dapat digunakan dalam komputasi, analisis limit, dan pemecahan persamaan diferensial.\n",
    "\n",
    "Ekspansi deret Taylor secara umum:  \n",
    "f(x) ≈ f(a) + f'(a)(x - a) + (f''(a)/2!)(x - a)^2 + (f'''(a)/3!)(x - a)^3 + ...  \n",
    "\n",
    "---"
   ]
  },
  {
   "cell_type": "code",
   "execution_count": 26,
   "metadata": {},
   "outputs": [],
   "source": [
    "#  IMPORT MODULE\n",
    "\n",
    "\"\"\"\n",
    "> 8. Module atau package Python yang boleh digunakan (di-import) untuk Tugas 1 ini hanyalah NumPy, \n",
    "> Tabulate, SciPy dan SymPy.\n",
    "\"\"\"\n",
    "\n",
    "from sympy import symbols, cos\n",
    "from tabulate import tabulate"
   ]
  },
  {
   "cell_type": "code",
   "execution_count": null,
   "metadata": {},
   "outputs": [],
   "source": [
    "# DEFINE SYMBOL\n",
    "x = symbols('x', real=True) # real artinya bilangan real\n",
    "\n",
    "\"\"\"\n",
    "> Ketentuan :\n",
    ">    1. Gunakan Deret Taylor dan Deret MacLaurin untuk x = 0.2 dan n = 5 suku pertama!\n",
    ">    2. NIM digit terakhir mengerjakan soal A dan soal B sesuai nomor urut soal!\n",
    "\"\"\"\n",
    "SUKU_N = 5 # DEFINE KONSTANTA N SUKU PERTAMA\n",
    "NILAI_X = 0.2 # DEFINE KONSTANTA NILAI X\n"
   ]
  },
  {
   "cell_type": "markdown",
   "metadata": {},
   "source": [
    "### **1. Fungsi y = cos(x)**\n",
    "\n",
    "Deret Maclaurin untuk cos(x) diperoleh dari turunan berulangnya:\n",
    "- f(x) = cos(x)  \n",
    "- f'(x) = -sin(x) \n",
    "- f''(x) = -cos(x)   \n",
    "- f'''(x) = sin(x)   \n",
    "- f''''(x) = cos(x)  (pola berulang setiap 4 turunan)  \n",
    "\n",
    "Pada x = 0 , nilai turunan-turunannya adalah:  \n",
    "- f(0) = 1 ,  \n",
    "- f'(0) = 0 ,  \n",
    "- f''(0) = -1 ,  \n",
    "- f'''(0) = 0 ,  \n",
    "- f''''(0) = 1 , dan seterusnya.  \n",
    "\n",
    "---\n",
    "\n",
    "cos(x) = 1 - (x² / 2!) + (x⁴ / 4!) - (x⁶ / 6!) + (x⁸ / 8!)\n"
   ]
  },
  {
   "cell_type": "code",
   "execution_count": null,
   "metadata": {},
   "outputs": [
    {
     "name": "stdout",
     "output_type": "stream",
     "text": [
      "DERET TAYLOR : x**8/40320 - x**6/720 + x**4/24 - x**2/2 + 1\n",
      "NILAI EXACT : 0.980066577841242\n",
      "NILAI APPROKS: 0.980066577841270\n",
      "NILAI GALAT ABSOLUT : 2.81996648254790e-14\n",
      "NILAI GALAT RELATIF : 2.87732134357580e-14\n",
      "\n",
      "===== HASIL RANGKUMAN Soal A =====\n",
      "| Fungsi A   |   Approx Taylor |    Exact |   Galat Absolute |   Galat Relative |\n",
      "|------------|-----------------|----------|------------------|------------------|\n",
      "| cos(x)     |        0.980067 | 0.980067 |      2.81997e-14 |      2.87732e-14 |\n"
     ]
    }
   ],
   "source": [
    "# SOAL A\n",
    "FUNGSI_A = cos(x)\n",
    "SERIES_A = FUNGSI_A.series(x, 0 , 9).removeO() # Buat taylor series 5 suku pertama, sampai x**8 {8+1 dalam python}, X0 = 0 Maclaurin series\n",
    "\n",
    "APPROX_A = SERIES_A.subs(x, NILAI_X) # SUBTITUSI NILAI X KE TAYLOR SERIES\n",
    "EXACT_A = FUNGSI_A.subs(x, NILAI_X) # SUBTITUSI NILAI X KE FUNGSI\n",
    "GALAT_ABSOLUT_A =  abs(EXACT_A - APPROX_A)\n",
    "GALAT_RELATIVE_A = GALAT_ABSOLUT_A / abs(EXACT_A)\n",
    "\n",
    "# BIKIN TABEL\n",
    "HEADERS_A = [\"Fungsi A\",  \"Approx Taylor\", \"Exact\", \"Galat Absolute\", \"Galat Relative\"]\n",
    "RES_A = [[\"cos(x)\",  float(APPROX_A), float(EXACT_A), float(GALAT_ABSOLUT_A), float(GALAT_RELATIVE_A)]]\n",
    "\n",
    "print(\"DERET TAYLOR :\", SERIES_A)\n",
    "print(\"NILAI EXACT :\",EXACT_A)\n",
    "print(\"NILAI APPROKS:\",APPROX_A)\n",
    "print(\"NILAI GALAT ABSOLUT :\",GALAT_ABSOLUT_A)\n",
    "print(\"NILAI GALAT RELATIF :\",GALAT_RELATIVE_A)\n",
    "print()\n",
    "print(\"===== HASIL RANGKUMAN Soal A =====\")\n",
    "print(tabulate(RES_A, headers=HEADERS_A, tablefmt=\"github\"))"
   ]
  },
  {
   "cell_type": "markdown",
   "metadata": {},
   "source": [
    "### **2. Fungsi y = 1 / (1 - 2x)**\n",
    "\n",
    "Deret Taylor untuk 1 / (1 - 2x) di sekitar x = 0 (Deret Maclaurin)\n",
    "\n",
    "**1 / (1 - 2x) ≈ 1 + 2x + (2x)^2 + (2x)^3 + (2x)^4 + ...**\n",
    "\n",
    "Deret ini konvergen selama |2x| < 1 atau |x| < 0.5."
   ]
  },
  {
   "cell_type": "code",
   "execution_count": null,
   "metadata": {},
   "outputs": [
    {
     "name": "stdout",
     "output_type": "stream",
     "text": [
      "DERET TAYLOR : 16*x**4 + 8*x**3 + 4*x**2 + 2*x + 1\n",
      "NILAI EXACT : 1.66666666666667\n",
      "NILAI APPROKS: 1.64960000000000\n",
      "NILAI GALAT ABSOLUT : 0.0170666666666666\n",
      "NILAI GALAT RELATIF : 0.0102399999999999\n",
      "\n",
      "===== HASIL RANGKUMAN Soal A =====\n",
      "| Fungsi B   |   Approx Taylor |   Exact |   Galat Absolut |   Galat Relative |\n",
      "|------------|-----------------|---------|-----------------|------------------|\n",
      "| 1/(1-2x)   |          1.6496 | 1.66667 |       0.0170667 |          0.01024 |\n"
     ]
    }
   ],
   "source": [
    "# SOAL B\n",
    "FUNGSI_B = 1 / (1 - 2*x)\n",
    "SERIES_B = FUNGSI_B.series(x, 0, SUKU_N).removeO() # Buat taylor series 5 suku pertama SUBTITUSI SUKU N, X0 = 0 Maclaurin series\n",
    "\n",
    "APPROX_B = SERIES_B.subs(x, NILAI_X) # SUBTITUSI NILAI X KE TAYLOR SERIES\n",
    "EXACT_B = FUNGSI_B.subs(x, NILAI_X) # SUBTITUSI NILAI X KE FUNGSI\n",
    "GALAT_ABSOLUT_B = abs(EXACT_B - APPROX_B) # hitung galat absolut\n",
    "GALAT_RELATIVE_B = GALAT_ABSOLUT_B / abs(EXACT_B) # hitung galat relatif\n",
    "\n",
    "# BIKIN TABEL\n",
    "HEADERS_B = [\"Fungsi B\",  \"Approx Taylor\", \"Exact\", \"Galat Absolut\", \"Galat Relative\"]\n",
    "RES_B = [[\"1/(1-2x)\",  float(APPROX_B), float(EXACT_B), float(GALAT_ABSOLUT_B), float(GALAT_RELATIVE_B)]]\n",
    "\n",
    "print(\"DERET TAYLOR :\", SERIES_B)\n",
    "print(\"NILAI EXACT :\",EXACT_B)\n",
    "print(\"NILAI APPROKS:\",APPROX_B)\n",
    "print(\"NILAI GALAT ABSOLUT :\",GALAT_ABSOLUT_B)\n",
    "print(\"NILAI GALAT RELATIF :\",GALAT_RELATIVE_B)\n",
    "print()\n",
    "print(\"===== HASIL RANGKUMAN Soal A =====\")\n",
    "print(tabulate(RES_B, headers=HEADERS_B, tablefmt=\"github\"))"
   ]
  },
  {
   "cell_type": "markdown",
   "metadata": {},
   "source": [
    "### **Kesimpulan**\n",
    "Aproksimasi Taylor memberikan hasil yang semakin akurat dengan penambahan suku dalam deret. Untuk fungsi yang halus dan dalam domain tertentu, deret ini bisa sangat efektif. Namun, jika x terlalu besar, aproksimasi Taylor mungkin kurang akurat dibandingkan dengan nilai eksaknya."
   ]
  }
 ],
 "metadata": {
  "kernelspec": {
   "display_name": "Python 3",
   "language": "python",
   "name": "python3"
  },
  "language_info": {
   "codemirror_mode": {
    "name": "ipython",
    "version": 3
   },
   "file_extension": ".py",
   "mimetype": "text/x-python",
   "name": "python",
   "nbconvert_exporter": "python",
   "pygments_lexer": "ipython3",
   "version": "3.10.0"
  }
 },
 "nbformat": 4,
 "nbformat_minor": 2
}
