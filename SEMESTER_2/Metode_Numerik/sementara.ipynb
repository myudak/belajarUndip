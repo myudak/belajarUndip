{
 "cells": [
  {
   "cell_type": "code",
   "execution_count": null,
   "metadata": {},
   "outputs": [
    {
     "name": "stdout",
     "output_type": "stream",
     "text": [
      "DERET TAYLOR : -x**4/4 + x**3/3 - x**2/2 + x\n",
      "NILAI EXACT : 0.182321556793955\n",
      "NILAI APPROX: 0.182266666666667\n",
      "NILAI GALAT ABSOLUT : 5.48901272879321e-5\n",
      "NILAI GALAT RELATIF : 0.000301062190632590\n",
      "\n"
     ]
    }
   ],
   "source": [
    "# import\n",
    "from sympy import ln, symbols, cos\n",
    "from tabulate import tabulate\n",
    "\n",
    "x = symbols('x', real=True)\n",
    "fungsi = ln(1+x).series\n",
    "taylor_series = fungsi.series(x, 0, 5).removeO() # Buat taylor series 5 suku pertama SUBTITUSI SUKU N, X0 = 0 Maclaurin series\n",
    "\n",
    "approx = taylor_series.subs(x, 0.2) # SUBTITUSI NILAI X KE TAYLOR SERIES\n",
    "exact = fungsi.subs(x, 0.2) # SUBTITUSI NILAI X KE FUNGSI\n",
    "galat_absolut =  abs(exact - approx)\n",
    "galat_relative = galat_absolut / abs(exact)\n",
    "\n",
    "# PRINT \n",
    "print(\"DERET TAYLOR :\", taylor_series)\n",
    "print(\"NILAI EXACT :\", exact)\n",
    "print(\"NILAI APPROX:\", approx)\n",
    "print(\"NILAI GALAT ABSOLUT :\", galat_absolut)\n",
    "print(\"NILAI GALAT RELATIF :\", galat_relative)\n",
    "print()\n"
   ]
  },
  {
   "cell_type": "code",
   "execution_count": 6,
   "metadata": {},
   "outputs": [
    {
     "name": "stdout",
     "output_type": "stream",
     "text": [
      "Root (Bisection): 2.7065279483795166\n",
      "Root (Newton-Raphson): 2.706527954497935\n",
      "Root (Secant): 2.706527954497937\n",
      "Root (Regula Falsi): 2.7065279131342495\n"
     ]
    },
    {
     "data": {
      "image/png": "[encoded data removed]",
      "text/plain": [
       "<Figure size 432x288 with 1 Axes>"
      ]
     },
     "metadata": {
      "needs_background": "light"
     },
     "output_type": "display_data"
    },
    {
     "data": {
      "text/plain": [
       "\"\\nExplanation:\\n1. **Bisection Method** - A bracketing method that narrows down the interval containing the root.\\n2. **Newton-Raphson Method** - Uses the function's derivative to make rapid converging estimates.\\n3. **Secant Method** - Similar to Newton-Raphson but approximates the derivative using secants.\\n4. **Regula Falsi Method** - A hybrid between Bisection and Secant, ensuring the root is bracketed.\\n\\nEach method has been implemented and compared for a sample function f(x) = x^3 - 4x - 9.\\n\""
      ]
     },
     "execution_count": 6,
     "metadata": {},
     "output_type": "execute_result"
    }
   ],
   "source": [
    "import numpy as np\n",
    "import matplotlib.pyplot as plt\n",
    "\n",
    "def bisection_method(f, a, b, tol=1e-6, max_iter=100):\n",
    "    \"\"\"\n",
    "    Bisection Method: A root-finding method that repeatedly divides an interval in half\n",
    "    and selects the subinterval that contains the root.\n",
    "    \n",
    "    Parameters:\n",
    "    f: Function for which the root is to be found\n",
    "    a, b: Interval [a, b] where f(a) * f(b) < 0 (sign change)\n",
    "    tol: Tolerance level for stopping condition\n",
    "    max_iter: Maximum number of iterations\n",
    "    \"\"\"\n",
    "    if f(a) * f(b) >= 0:\n",
    "        print(\"Bisection method fails.\")\n",
    "        return None\n",
    "    for i in range(max_iter):\n",
    "        c = (a + b) / 2\n",
    "        if abs(f(c)) < tol:\n",
    "            return c\n",
    "        elif f(a) * f(c) < 0:\n",
    "            b = c\n",
    "        else:\n",
    "            a = c\n",
    "    return c\n",
    "\n",
    "def newton_raphson_method(f, df, x0, tol=1e-6, max_iter=100):\n",
    "    \"\"\"\n",
    "    Newton-Raphson Method: Uses the function's derivative to iteratively approach a root.\n",
    "    \n",
    "    Parameters:\n",
    "    f: Function for which the root is to be found\n",
    "    df: Derivative of f\n",
    "    x0: Initial guess for the root\n",
    "    tol: Tolerance level for stopping condition\n",
    "    max_iter: Maximum number of iterations\n",
    "    \"\"\"\n",
    "    x = x0\n",
    "    for i in range(max_iter):\n",
    "        x_new = x - f(x) / df(x)\n",
    "        if abs(x_new - x) < tol:\n",
    "            return x_new\n",
    "        x = x_new\n",
    "    return x\n",
    "\n",
    "def secant_method(f, x0, x1, tol=1e-6, max_iter=100):\n",
    "    \"\"\"\n",
    "    Secant Method: A root-finding algorithm that approximates the derivative by using\n",
    "    secant lines instead of the actual derivative.\n",
    "    \n",
    "    Parameters:\n",
    "    f: Function for which the root is to be found\n",
    "    x0, x1: Initial two guesses\n",
    "    tol: Tolerance level for stopping condition\n",
    "    max_iter: Maximum number of iterations\n",
    "    \"\"\"\n",
    "    for i in range(max_iter):\n",
    "        x_new = x1 - f(x1) * (x1 - x0) / (f(x1) - f(x0))\n",
    "        if abs(x_new - x1) < tol:\n",
    "            return x_new\n",
    "        x0, x1 = x1, x_new\n",
    "    return x1\n",
    "\n",
    "def regula_falsi_method(f, a, b, tol=1e-6, max_iter=100):\n",
    "    \"\"\"\n",
    "    Regula Falsi (False Position) Method: Similar to the secant method but always\n",
    "    maintains a bracketing interval.\n",
    "    \n",
    "    Parameters:\n",
    "    f: Function for which the root is to be found\n",
    "    a, b: Interval [a, b] where f(a) * f(b) < 0 (sign change)\n",
    "    tol: Tolerance level for stopping condition\n",
    "    max_iter: Maximum number of iterations\n",
    "    \"\"\"\n",
    "    if f(a) * f(b) >= 0:\n",
    "        print(\"Regula Falsi method fails.\")\n",
    "        return None\n",
    "    for i in range(max_iter):\n",
    "        c = b - f(b) * (b - a) / (f(b) - f(a))\n",
    "        if abs(f(c)) < tol:\n",
    "            return c\n",
    "        elif f(a) * f(c) < 0:\n",
    "            b = c\n",
    "        else:\n",
    "            a = c\n",
    "    return c\n",
    "\n",
    "# Example function and its derivative\n",
    "f = lambda x: x**3 - 4*x - 9  # Example function: x^3 - 4x - 9\n",
    "df = lambda x: 3*x**2 - 4     # Derivative of the function\n",
    "\n",
    "a, b = 2, 3  # Interval for methods that require bracketing\n",
    "x0, x1 = 2, 3  # Initial guesses for iterative methods\n",
    "\n",
    "# Finding roots using different methods\n",
    "root_bisection = bisection_method(f, a, b)\n",
    "root_newton = newton_raphson_method(f, df, x0)\n",
    "root_secant = secant_method(f, x0, x1)\n",
    "root_regula = regula_falsi_method(f, a, b)\n",
    "\n",
    "# Printing results\n",
    "print(\"Root (Bisection):\", root_bisection)\n",
    "print(\"Root (Newton-Raphson):\", root_newton)\n",
    "print(\"Root (Secant):\", root_secant)\n",
    "print(\"Root (Regula Falsi):\", root_regula)\n",
    "\n",
    "# Plotting the function\n",
    "d = np.linspace(1, 4, 400)\n",
    "y = f(d)\n",
    "plt.plot(d, y, label='f(x) = x^3 - 4x - 9')\n",
    "plt.axhline(0, color='black', linewidth=0.5)\n",
    "plt.scatter([root_bisection, root_newton, root_secant, root_regula], [0, 0, 0, 0], color=['r', 'g', 'b', 'y'], label='Roots')\n",
    "plt.legend()\n",
    "plt.title(\"Non-Linear Equation Solutions\")\n",
    "plt.xlabel(\"x\")\n",
    "plt.ylabel(\"f(x)\")\n",
    "plt.grid()\n",
    "plt.show()\n",
    "\n",
    "\"\"\"\n",
    "Explanation:\n",
    "1. **Bisection Method** - A bracketing method that narrows down the interval containing the root.\n",
    "2. **Newton-Raphson Method** - Uses the function's derivative to make rapid converging estimates.\n",
    "3. **Secant Method** - Similar to Newton-Raphson but approximates the derivative using secants.\n",
    "4. **Regula Falsi Method** - A hybrid between Bisection and Secant, ensuring the root is bracketed.\n",
    "\n",
    "Each method has been implemented and compared for a sample function f(x) = x^3 - 4x - 9.\n",
    "\"\"\"\n"
   ]
  },
  {
   "cell_type": "code",
   "execution_count": null,
   "metadata": {},
   "outputs": [],
   "source": []
  }
 ],
 "metadata": {
  "kernelspec": {
   "display_name": "Python 3",
   "language": "python",
   "name": "python3"
  },
  "language_info": {
   "codemirror_mode": {
    "name": "ipython",
    "version": 3
   },
   "file_extension": ".py",
   "mimetype": "text/x-python",
   "name": "python",
   "nbconvert_exporter": "python",
   "pygments_lexer": "ipython3",
   "version": "3.10.0"
  }
 },
 "nbformat": 4,
 "nbformat_minor": 2
}
