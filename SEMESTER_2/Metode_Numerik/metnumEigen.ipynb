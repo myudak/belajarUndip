{
  "cells": [
    {
      "cell_type": "markdown",
      "metadata": {
        "id": "IZuKI9Slu7XB"
      },
      "source": [
        "# Tugas Kelompok Aproksimasi Eigenvalue\n",
        "\n",
        "Metode Numerik Informatika'24 Kelompok-8:\n",
        "- Muchammad Yuda Tri Ananda (24060124110142)\n",
        "- Muhamad Kemal Faza (24060124120013)\n",
        "- Muhammad Akmal Fazli (24060124130123)\n",
        "- Muhammad Dimas Arya Putra (24060124130062)\n",
        "- Muhammad Zaidaan Ardiansyah (24060124140200)\n",
        "\n",
        "\n",
        "\n"
      ]
    },
    {
      "cell_type": "markdown",
      "metadata": {
        "id": "HjgJ5t_6DT31"
      },
      "source": [
        "# Eigenvalue\n",
        "\n",
        "Dalam aljabar linear, sebuah eigenvalue (sering dilambangkan dengan $λ$) dari sebuah matriks persegi A berukuran $n \\times n$ adalah sebuah skalar sedemikian rupa sehingga terdapat vektor tak nol $v$ berukuran $n \\times 1$ yang memenuhi persamaan:\n",
        "\n",
        "$$\n",
        "Av=λv\n",
        "$$\n",
        "\n",
        "Vektor $v$ yang memenuhi persamaan ini untuk suatu eigenvalue $λ$ disebut sebagai eigenvector yang bersesuaian dengan eigenvalue $λ$."
      ]
    },
    {
      "cell_type": "markdown",
      "metadata": {
        "id": "tGfeSZs1DW5j"
      },
      "source": [
        "# Aproksimasi Eigenvalue\n",
        "\n",
        "Dalam konteks metode numerik, aproksimasi eigenvalue merujuk pada teknik-teknik yang digunakan untuk mencari nilai perkiraan (aproksimasi) dari eigenvalue suatu matriks. Hal ini diperlukan karena dalam banyak kasus, terutama untuk matriks berukuran besar atau matriks dengan struktur yang kompleks, perhitungan eigenvalue secara analitik (menggunakan persamaan karakteristik) menjadi sangat sulit atau bahkan tidak mungkin dilakukan secara efisien.\n",
        "\n",
        "Beberapa metode numerik yang umum digunakan untuk mengaproksimasi eigenvalue meliputi:\n",
        "\n",
        "1.  Metode Pangkat (Power Iteration)\n",
        "2.  Metode Householder's (Transformasi Householder)\n",
        "3.  Metode QR Algorithm\n",
        "4.  SVD (Singular Value Decomposition)\n",
        "\n",
        "Berikut penjelasan lebih rincinya beserta implementasinya dalam kode bahasa Python."
      ]
    },
    {
      "cell_type": "markdown",
      "metadata": {
        "id": "j65CDt9qvGOB"
      },
      "source": [
        "## 1. Power method\n",
        "\n",
        "Metode Power adalah teknik iteratif yang digunakan untuk menentukan nilai eigen dominan dari suatu matriks, yaitu nilai eigen dengan magnitudo terbesar. Algoritma dasarnya adalah dengan mengalikan matriks $A$ secara berulang-ulang dengan vektor tebakan awal. Vektor hasil akan cenderung konvergen ke eigenvector yang bersesuaian dengan eigenvalue dominan, dan rasio elemen-elemen vektor pada iterasi berurutan akan memberikan aproksimasi eigenvalue dominan.\n",
        "\n",
        "Dengan sedikit memodifikasi metode, metode ini juga dapat digunakan untuk menentukan nilai eigen lainnya. Salah satu fitur yang berguna dari metode Power adalah metode ini tidak hanya menghasilkan nilai eigen, tetapi juga vektor eigen terkait. Faktanya, metode Power sering kali diterapkan untuk menemukan vektor eigen untuk nilai eigen yang ditentukan oleh cara lain.\n",
        "\n",
        "\n",
        "* Kelebihan: Relatif sederhana dan efisien untuk menemukan eigenvalue dominan dan eigenvectornya.\n",
        "* Kekurangan: Hanya memberikan satu eigenvalue (yang dominan) dan konvergensinya bisa lambat jika terdapat eigenvalue lain yang magnitudonya dekat dengan eigenvalue dominan."
      ]
    },
    {
      "cell_type": "code",
      "execution_count": 1,
      "metadata": {
        "colab": {
          "base_uri": "https://localhost:8080/"
        },
        "id": "LitcyuOAuUI9",
        "outputId": "2f740218-9c35-415e-9750-3ee1872910d2"
      },
      "outputs": [
        {
          "ename": "ValueError",
          "evalue": "could not convert string to float: ''",
          "output_type": "error",
          "traceback": [
            "\u001b[1;31m---------------------------------------------------------------------------\u001b[0m",
            "\u001b[1;31mValueError\u001b[0m                                Traceback (most recent call last)",
            "Input \u001b[1;32mIn [1]\u001b[0m, in \u001b[0;36m<cell line: 55>\u001b[1;34m()\u001b[0m\n\u001b[0;32m     53\u001b[0m n \u001b[38;5;241m=\u001b[39m \u001b[38;5;28mint\u001b[39m(\u001b[38;5;28minput\u001b[39m(\u001b[38;5;124m\"\u001b[39m\u001b[38;5;124minput dimensi matriks n: \u001b[39m\u001b[38;5;124m\"\u001b[39m))\n\u001b[0;32m     54\u001b[0m N \u001b[38;5;241m=\u001b[39m \u001b[38;5;28mint\u001b[39m(\u001b[38;5;28minput\u001b[39m(\u001b[38;5;124m\"\u001b[39m\u001b[38;5;124minput jumlah iterasi N: \u001b[39m\u001b[38;5;124m\"\u001b[39m))\n\u001b[1;32m---> 55\u001b[0m TOL \u001b[38;5;241m=\u001b[39m \u001b[38;5;28;43mfloat\u001b[39;49m\u001b[43m(\u001b[49m\u001b[38;5;28;43minput\u001b[39;49m\u001b[43m(\u001b[49m\u001b[38;5;124;43m\"\u001b[39;49m\u001b[38;5;124;43mnilai toleransi: \u001b[39;49m\u001b[38;5;124;43m\"\u001b[39;49m\u001b[43m)\u001b[49m\u001b[43m)\u001b[49m\n\u001b[0;32m     57\u001b[0m \u001b[38;5;66;03m# input matriks A\u001b[39;00m\n\u001b[0;32m     58\u001b[0m A \u001b[38;5;241m=\u001b[39m []\n",
            "\u001b[1;31mValueError\u001b[0m: could not convert string to float: ''"
          ]
        }
      ],
      "source": [
        "def max_abs_vec(x):\n",
        "    # find maximum of the variable x\n",
        "    max_val = abs(x[0][0])\n",
        "    for i in range(len(x)):\n",
        "        if abs(x[i][0]) > max_val:\n",
        "            max_val = abs(x[i][0])\n",
        "    return max_val\n",
        "\n",
        "def power_method(n, N, x, A, TOL):\n",
        "    # Normalisasi awal x\n",
        "    max_x = max_abs_vec(x)\n",
        "    for i in range(n):\n",
        "        x[i][0] = x[i][0] / max_x\n",
        "\n",
        "    y = [[0] for _ in range(n)]\n",
        "    k = 1\n",
        "    while k <= N:\n",
        "        # y = A * x\n",
        "        for i in range(n):\n",
        "            total = 0\n",
        "            for j in range(n):\n",
        "                total += A[i][j] * x[j][0]\n",
        "            y[i][0] = total\n",
        "\n",
        "        max_y = max_abs_vec(y)\n",
        "        if max_y == 0:\n",
        "            print(\"A memiliki eigenvalue 0, pilih vektor x lain.\")\n",
        "            return 0\n",
        "\n",
        "        # Hitung error\n",
        "        ERR = [[0] for _ in range(n)]\n",
        "        for i in range(n):\n",
        "            nilai_baru = y[i][0] / max_y\n",
        "            galat = abs(nilai_baru - x[i][0])\n",
        "            ERR[i][0] = galat\n",
        "\n",
        "        # print(f\"Eigenvalue ke-{k}: {max_y}, Galat: {galat}\")\n",
        "\n",
        "        # Update x\n",
        "        for i in range(n):\n",
        "            x[i][0] = y[i][0] / max_y\n",
        "\n",
        "        # cek max ERR, kalo < TOL berhenti\n",
        "        iter = 0\n",
        "        if max_abs_vec(ERR) < TOL:\n",
        "            break\n",
        "\n",
        "\n",
        "        k += 1\n",
        "    return max_y, x, k\n",
        "\n",
        "# Input\n",
        "n = int(input(\"input dimensi matriks n: \"))\n",
        "N = int(input(\"input jumlah iterasi N: \"))\n",
        "TOL = float(input(\"nilai toleransi: \"))\n",
        "\n",
        "# input matriks A\n",
        "A = []\n",
        "for i in range(n):\n",
        "    baris = list(map(float, input(f\"input nilai elemen baris ke-{i+1} (dipisah spasi): \").split()))\n",
        "    A.append(baris)\n",
        "\n",
        "# input vector x ukuran nx1\n",
        "x = []\n",
        "print(\"input vector x: \")\n",
        "for i in range(n):\n",
        "    elemen = float(input())\n",
        "\n",
        "    x.append([elemen])\n",
        "\n",
        "eigenvalue, eigenvector, iterasi = power_method(n, N, x, A, TOL)\n",
        "print(f\"Aproksimasi Eigenvalue = {eigenvalue}\")\n",
        "print(f\"Aproksimasi Eigenvector:{eigenvector}\")\n",
        "print(f\"konvergen pada iterasi : {iterasi}\")\n"
      ]
    },
    {
      "cell_type": "markdown",
      "metadata": {
        "id": "DAKeTH1BF2u7"
      },
      "source": [
        "## 2. Metode Householder's (Transformasi Householder)\n",
        "\n",
        "Transformasi Householder adalah teknik yang digunakan untuk mengubah matriks menjadi bentuk yang lebih sederhana, seperti bentuk tridiagonal atau Hessenberg. Bentuk-bentuk ini memudahkan perhitungan eigenvalue menggunakan metode lain, seperti metode QR. Transformasi Householder sendiri bukanlah metode langsung untuk mengaproksimasi eigenvalue, tetapi merupakan langkah penting dalam algoritma yang lebih canggih.\n"
      ]
    },
    {
      "cell_type": "markdown",
      "metadata": {
        "id": "ddOL7VncckEc"
      },
      "source": [
        "Berikut ini kode dan contoh transformasi Householder."
      ]
    },
    {
      "cell_type": "code",
      "execution_count": null,
      "metadata": {
        "colab": {
          "base_uri": "https://localhost:8080/"
        },
        "collapsed": true,
        "id": "A9S8hbT0CcBF",
        "outputId": "a3413919-f80a-47cf-ccc3-7a6b03428b79"
      },
      "outputs": [
        {
          "name": "stdout",
          "output_type": "stream",
          "text": [
            "Matriks A:\n",
            "⎡4   1  -2  2 ⎤\n",
            "⎢             ⎥\n",
            "⎢1   2  0   1 ⎥\n",
            "⎢             ⎥\n",
            "⎢-2  0  3   -2⎥\n",
            "⎢             ⎥\n",
            "⎣2   1  -2  -1⎦\n",
            "Matriks A dalam bentuk tridiagonal:\n",
            "⎡4    -3    0     0 ⎤\n",
            "⎢                   ⎥\n",
            "⎢-3  10/3  -5/3   0 ⎥\n",
            "⎢                   ⎥\n",
            "⎢          -33   68 ⎥\n",
            "⎢0   -5/3  ────  ── ⎥\n",
            "⎢           25   75 ⎥\n",
            "⎢                   ⎥\n",
            "⎢           68   149⎥\n",
            "⎢0    0     ──   ───⎥\n",
            "⎣           75   75 ⎦\n"
          ]
        }
      ],
      "source": [
        "#Bentuk Tridiagonal\n",
        "import sympy as sp\n",
        "from sympy import Matrix, sympify\n",
        "\n",
        "'''\n",
        "N = int(input(\"Masukkan ordo matriks (N x N): \"))\n",
        "matriks = []\n",
        "\n",
        "for i in range(N):\n",
        "    baris = []\n",
        "    for j in range(N):\n",
        "        nilai_str = input(f\"Masukkan elemen [{i}][{j}]: \")  # misalnya 1/2, 3, sqrt(2)\n",
        "        nilai = sympify(nilai_str)  # ubah ke bentuk sympy\n",
        "        baris.append(nilai)\n",
        "    matriks.append(baris)\n",
        "\n",
        "A = Matrix(matriks)\n",
        "\n",
        "'''\n",
        "#Langsung input matriks\n",
        "A = Matrix([\n",
        "    [4, 1, -2, 2],\n",
        "    [1, 2, 0, 1],\n",
        "    [-2, 0, 3, -2],\n",
        "    [2, 1, -2, -1]\n",
        "])\n",
        "\n",
        "print(\"Matriks A:\")\n",
        "sp.pprint(A)\n",
        "\n",
        "def householder_tridiagonal_rational(A):\n",
        "    A = sp.Matrix(A)\n",
        "    n = A.shape[0]\n",
        "\n",
        "    for k in range(n - 2):\n",
        "        x = A[k+1:, k]\n",
        "\n",
        "        # Hitung alpha secara simbolik\n",
        "        alpha = -sp.sign(x[0]) * sp.sqrt(sum(x[i]**2 for i in range(len(x))))\n",
        "\n",
        "        # Hitung r\n",
        "        r = sp.sqrt(sp.Rational(1, 2) * (alpha**2 - alpha * x[0]))\n",
        "\n",
        "        # Buat vektor w (vektor kolom n x 1)\n",
        "        w = sp.zeros(n, 1)\n",
        "        w[k+1] = (x[0] - alpha) / (2 * r)\n",
        "        for i in range(1, len(x)):\n",
        "            w[k+1+i] = x[i] / (2 * r)\n",
        "\n",
        "        # Matriks Householder\n",
        "        P = sp.eye(n) - 2 * w * w.T\n",
        "\n",
        "        # Update A\n",
        "        A = (P * A * P).applyfunc(sp.simplify)\n",
        "\n",
        "    return A\n",
        "\n",
        "A_tri = householder_tridiagonal_rational(A)\n",
        "print(\"Matriks A dalam bentuk tridiagonal:\")\n",
        "sp.pprint(A_tri)  # Tampilkan dalam bentuk pecahan\n"
      ]
    },
    {
      "cell_type": "markdown",
      "metadata": {
        "id": "cWYwXYogcrfP"
      },
      "source": [
        "Kemudian di bawah ini adalah kode penggunaan transformasi Householder ini dalam menemukan eigenvalue."
      ]
    },
    {
      "cell_type": "code",
      "execution_count": null,
      "metadata": {
        "colab": {
          "base_uri": "https://localhost:8080/"
        },
        "collapsed": true,
        "id": "abnZs0EMJlu8",
        "outputId": "c932753b-c1ae-4107-b88d-a3a877f4bd63"
      },
      "outputs": [
        {
          "name": "stdout",
          "output_type": "stream",
          "text": [
            "=== Transformasi Householder ke bentuk Upper Hessenberg ===\n",
            "Masukkan ukuran matriks persegi n × n: 4\n",
            "Masukkan elemen A[1][1]: 69\n",
            "Masukkan elemen A[1][2]: 42\n",
            "Masukkan elemen A[1][3]: 12\n",
            "Masukkan elemen A[1][4]: 11\n",
            "Masukkan elemen A[2][1]: 1\n",
            "Masukkan elemen A[2][2]: 2\n",
            "Masukkan elemen A[2][3]: 3\n",
            "Masukkan elemen A[2][4]: 4\n",
            "Masukkan elemen A[3][1]: 5\n",
            "Masukkan elemen A[3][2]: 6\n",
            "Masukkan elemen A[3][3]: 7\n",
            "Masukkan elemen A[3][4]: 8\n",
            "Masukkan elemen A[4][1]: 9\n",
            "Masukkan elemen A[4][2]: 10\n",
            "Masukkan elemen A[4][3]: 1\n",
            "Masukkan elemen A[4][4]: 12\n",
            "\n",
            "Bentuk Hessenberg:\n",
            "['69.0', '-19.431403429817834', '-31.481554138749228', '-25.69693191329783']\n",
            "['-10.344080432788598', '16.1214953271028', '4.78345937978824', '9.637883687634956']\n",
            "['1.561501486795667e-15', '5.20371951871134', '3.0461304050985727', '-2.3734225231796895']\n",
            "['9.562279821905554e-16', '6.661338147750939e-16', '-1.406686034134026', '1.8323742677986186']\n"
          ]
        }
      ],
      "source": [
        "#Bentuk Hessenberg\n",
        "import numpy as np\n",
        "from fractions import Fraction\n",
        "from math import copysign, sqrt\n",
        "\n",
        "def input_matrix():\n",
        "    n = int(input(\"Masukkan ukuran matriks persegi n × n: \"))\n",
        "    A = [[Fraction(input(f\"Masukkan elemen A[{i+1}][{j+1}]: \")) for j in range(n)] for i in range(n)]\n",
        "    return np.array(A, dtype=object)\n",
        "\n",
        "def householder_hessenberg_exact(A):\n",
        "    n = A.shape[0]\n",
        "    A_k = A.copy()\n",
        "\n",
        "    for k in range(n - 2):\n",
        "        # Ambil kolom ke-k dari baris k+1 ke bawah\n",
        "        x = np.array([A_k[j, k] for j in range(k+1, n)], dtype=object)\n",
        "\n",
        "        # Hitung alpha\n",
        "        sum_squares = sum(x[j]**2 for j in range(len(x)))\n",
        "        alpha = -copysign(Fraction(1), x[0]) * Fraction(sqrt(sum_squares))\n",
        "\n",
        "        # Hitung r\n",
        "        r = sqrt(Fraction(1, 2) * alpha**2 - Fraction(1, 2) * alpha * x[0])\n",
        "\n",
        "        # Bentuk vektor w^(k)\n",
        "        w = np.zeros(n, dtype=object)\n",
        "        w[k+1] = (x[0] - alpha) / (2 * r)\n",
        "        for j in range(k+2, n):\n",
        "            w[j] = A_k[j, k] / (2 * r)\n",
        "\n",
        "        # Matriks Householder P^(k)\n",
        "        w = w.reshape((n, 1))\n",
        "        P_k = np.identity(n, dtype=object) - 2 * (w @ w.T)\n",
        "\n",
        "        # Update A^(k+1) = P A P\n",
        "        A_k = P_k @ A_k @ P_k\n",
        "\n",
        "    return A_k\n",
        "\n",
        "# Jalankan program\n",
        "print(\"=== Transformasi Householder ke bentuk Upper Hessenberg ===\")\n",
        "A_input = input_matrix()\n",
        "Hessenberg = householder_hessenberg_exact(A_input)\n",
        "\n",
        "print(\"\\nBentuk Hessenberg:\")\n",
        "for row in Hessenberg:\n",
        "    print([str(val) for val in row])\n"
      ]
    },
    {
      "cell_type": "markdown",
      "metadata": {
        "id": "a89DYLTCF4Df"
      },
      "source": [
        "## 3. Metode QR Algorithm\n",
        "\n",
        "Metode QR adalah algoritma iteratif yang digunakan untuk menghitung semua eigenvalue dari matriks persegi $A$. Ide dasarnya adalah dengan faktorisasi matriks $Q$ (matriks ortogonal) dan $R$ (matriks segitiga atas) kemudian mengalikan $QR$ dalam urutan terbalik untuk mendapatkan matriks baru $A_1$.\n",
        "\n",
        "$$\n",
        "A_k = Q_kR_k\n",
        "$$\n",
        "\n",
        "$$\n",
        "A_{k+1} = R_kQ_k\n",
        "$$\n",
        "\n",
        "Proses ini diulang, hingga menghasilkan matriks konfergen bentuk segitiga atas (untuk matriks real) atau bentuk blok segitiga atas (untuk matriks kompleks). Nilai-nilai pada diagonal matriks hasil konvergensi ini adalah aproksimasi dari eigenvalue matriks $A$ yang artinya akan dihasilkan $n$ buah eigenvalue.\n",
        "\n",
        "- Kelebihan: Dapat menemukan semua eigenvalue secara relatif stabil dan efisien.\n",
        "- Kekurangan: Lebih kompleks untuk diimplementasikan dibandingkan metode pangkat."
      ]
    },
    {
      "cell_type": "code",
      "execution_count": null,
      "metadata": {
        "colab": {
          "base_uri": "https://localhost:8080/"
        },
        "collapsed": true,
        "id": "mqKQzxklDcg4",
        "outputId": "9bfbb34f-38a3-46d4-ede7-1b7687faebb5"
      },
      "outputs": [
        {
          "name": "stdout",
          "output_type": "stream",
          "text": [
            "input dimensi matriks n: 3\n",
            "input jumlah iterasi: 25\n",
            "nilai toleransi: 0.0001\n",
            "input nilai elemen baris ke-1: 2 1 1\n",
            "input nilai elemen baris ke-2: 1 2 1\n",
            "input nilai elemen baris ke-3: 1 1 2\n",
            "Memproses matriks A:\n",
            "Matriks setelah reduksi ke bentuk Hessenberg:\n",
            "[[ 2.00000000e+00 -1.41421354e+00  7.65366870e-09]\n",
            " [-1.41421354e+00  2.99999992e+00 -2.16478440e-08]\n",
            " [ 7.65366870e-09 -2.16478441e-08  9.99999996e-01]]\n",
            "------------------------------\n",
            "Iterasi ke-1:\n",
            "Q:\n",
            "[[-8.16496584e-01 -5.77350264e-01  1.91341725e-09]\n",
            " [ 5.77350264e-01 -8.16496584e-01  8.11794177e-09]\n",
            " [-3.12459718e-09  7.73298369e-09  1.00000000e+00]]\n",
            "R:\n",
            "[[-2.44948973e+00  2.88675128e+00 -2.18721799e-08]\n",
            " [ 0.00000000e+00 -1.63299313e+00  2.09895267e-08]\n",
            " [ 0.00000000e+00  0.00000000e+00  9.99999996e-01]]\n",
            "Ak+1:\n",
            "[[ 3.66666661e+00 -9.42809013e-01 -3.12459708e-09]\n",
            " [-9.42809013e-01  1.33333331e+00  7.73298354e-09]\n",
            " [-3.12459716e-09  7.73298365e-09  9.99999996e-01]]\n",
            "------------------------------\n",
            "Iterasi ke-2:\n",
            "Q:\n",
            "[[-9.68495998e-01 -2.49029119e-01 -7.81149323e-10]\n",
            " [ 2.49029119e-01 -9.68495998e-01 -6.35209382e-09]\n",
            " [ 8.25316334e-10 -6.34650637e-09  1.00000000e+00]]\n",
            "R:\n",
            "[[-3.78593884e+00  1.24514558e+00  5.77721418e-09]\n",
            " [ 0.00000000e+00 -1.05654108e+00 -1.30577543e-08]\n",
            " [ 0.00000000e+00  0.00000000e+00  9.99999996e-01]]\n",
            "Ak+1:\n",
            "[[ 3.97674412e+00 -2.63109494e-01  8.25316227e-10]\n",
            " [-2.63109494e-01  1.02325580e+00 -6.34650625e-09]\n",
            " [ 8.25316330e-10 -6.34650634e-09  9.99999996e-01]]\n",
            "------------------------------\n",
            "Iterasi ke-3:\n",
            "Q:\n",
            "[[-9.97818452e-01 -6.60177019e-02  2.06329091e-10]\n",
            " [ 6.60177019e-02 -9.97818452e-01  6.25532096e-09]\n",
            " [-2.07082940e-10  6.25529605e-09  1.00000000e+00]]\n",
            "R:\n",
            "[[-3.98543854e+00  3.30088504e-01 -1.44958046e-09]\n",
            " [ 0.00000000e+00 -1.00365364e+00  1.25334716e-08]\n",
            " [ 0.00000000e+00  0.00000000e+00  9.99999996e-01]]\n",
            "Ak+1:\n",
            "[[ 3.99853580e+00 -6.62589067e-02 -2.07082830e-10]\n",
            " [-6.62589067e-02  1.00146412e+00  6.25529594e-09]\n",
            " [-2.07082939e-10  6.25529602e-09  9.99999996e-01]]\n",
            "------------------------------\n",
            "Iterasi ke-4:\n",
            "Q:\n",
            "[[-9.99862733e-01 -1.65685178e-02 -5.17707369e-11]\n",
            " [ 1.65685178e-02 -9.99862733e-01 -6.24957616e-09]\n",
            " [ 5.17825833e-11 -6.24957607e-09  1.00000000e+00]]\n",
            "R:\n",
            "[[-3.99908475e+00  8.28425876e-02  3.62477970e-10]\n",
            " [ 0.00000000e+00 -1.00022884e+00 -1.25005823e-08]\n",
            " [ 0.00000000e+00  0.00000000e+00  9.99999996e-01]]\n",
            "Ak+1:\n",
            "[[ 3.99990838e+00 -1.65723093e-02  5.17824732e-11]\n",
            " [-1.65723093e-02  1.00009154e+00 -6.24957596e-09]\n",
            " [ 5.17825831e-11 -6.24957604e-09  9.99999996e-01]]\n",
            "------------------------------\n",
            "Iterasi ke-5:\n",
            "Q:\n",
            "[[-9.99991417e-01 -4.14313667e-03  1.29456463e-11]\n",
            " [ 4.14313667e-03 -9.99991417e-01  6.24921852e-09]\n",
            " [-1.29458312e-11  6.24921852e-09  1.00000000e+00]]\n",
            "R:\n",
            "[[-3.99994271e+00  2.07156830e-02 -9.06207072e-11]\n",
            " [ 0.00000000e+00 -1.00001430e+00  1.24985263e-08]\n",
            " [ 0.00000000e+00  0.00000000e+00  9.99999996e-01]]\n",
            "Ak+1:\n",
            "[[ 3.99999421e+00 -4.14319590e-03 -1.29457209e-11]\n",
            " [-4.14319590e-03  1.00000571e+00  6.24921841e-09]\n",
            " [-1.29458311e-11  6.24921849e-09  9.99999996e-01]]\n",
            "------------------------------\n",
            "Iterasi ke-6:\n",
            "Q:\n",
            "[[-9.99999464e-01 -1.03579992e-03 -3.23645792e-12]\n",
            " [ 1.03579992e-03 -9.99999464e-01 -6.24919619e-09]\n",
            " [ 3.23646073e-12 -6.24919619e-09  1.00000000e+00]]\n",
            "R:\n",
            "[[-3.99999635e+00  5.17899951e-03  2.26551146e-11]\n",
            " [ 0.00000000e+00 -1.00000089e+00 -1.24983978e-08]\n",
            " [ 0.00000000e+00  0.00000000e+00  9.99999996e-01]]\n",
            "Ak+1:\n",
            "[[ 3.99999957e+00 -1.03580084e-03  3.23635040e-12]\n",
            " [-1.03580084e-03  1.00000035e+00 -6.24919609e-09]\n",
            " [ 3.23646072e-12 -6.24919617e-09  9.99999996e-01]]\n",
            "------------------------------\n",
            "Iterasi ke-7:\n",
            "Q:\n",
            "[[-9.99999966e-01 -2.58950228e-04  8.09115213e-13]\n",
            " [ 2.58950228e-04 -9.99999966e-01  6.24919482e-09]\n",
            " [-8.09115239e-13  6.24919482e-09  1.00000000e+00]]\n",
            "R:\n",
            "[[-3.99999971e+00  1.29475112e-03 -5.66369628e-12]\n",
            " [ 0.00000000e+00 -1.00000005e+00  1.24983898e-08]\n",
            " [ 0.00000000e+00  0.00000000e+00  9.99999996e-01]]\n",
            "Ak+1:\n",
            "[[ 3.99999991e+00 -2.58950240e-04 -8.09004896e-13]\n",
            " [-2.58950240e-04  1.00000001e+00  6.24919472e-09]\n",
            " [-8.09115235e-13  6.24919479e-09  9.99999996e-01]]\n",
            "------------------------------\n",
            "Iterasi ke-8:\n",
            "Q:\n",
            "[[-9.99999998e-01 -6.47375614e-05 -2.02278817e-13]\n",
            " [ 6.47375614e-05 -9.99999998e-01 -6.24919476e-09]\n",
            " [ 2.02278813e-13 -6.24919476e-09  1.00000000e+00]]\n",
            "R:\n",
            "[[-3.99999992e+00  3.23687802e-04  1.41584133e-12]\n",
            " [ 0.00000000e+00 -9.99999995e-01 -1.24983894e-08]\n",
            " [ 0.00000000e+00  0.00000000e+00  9.99999996e-01]]\n",
            "Ak+1:\n",
            "[[ 3.99999993e+00 -6.47375611e-05  2.02168469e-13]\n",
            " [-6.47375611e-05  9.99999993e-01 -6.24919466e-09]\n",
            " [ 2.02278812e-13 -6.24919473e-09  9.99999996e-01]]\n",
            "------------------------------\n",
            "Konvergensi tercapai pada iterasi ke-8.\n",
            "\n",
            "Eigenvalues dari A:\n",
            "[3.99999993 0.99999999 1.        ]\n"
          ]
        }
      ],
      "source": [
        "import numpy as np\n",
        "from scipy.linalg import qr\n",
        "\n",
        "def householder_reduce_hessenberg(A):\n",
        "    # Reduksi matriks A menjadi bentuk Hessenberg menggunakan transformasi Householder\n",
        "    n = A.shape[0]\n",
        "    H = np.copy(A)\n",
        "    Q = np.identity(n)\n",
        "\n",
        "    for k in range(n - 2):\n",
        "        x = H[k + 1:, k]\n",
        "        alpha = -np.sign(x[0]) * np.linalg.norm(x)\n",
        "        e = np.zeros_like(x)\n",
        "        e[0] = 1\n",
        "        u = x - alpha * e\n",
        "        v = u / (np.linalg.norm(u) + 1e-8)  # Tambahkan epsilon untuk menghindari division by zero\n",
        "\n",
        "        H_k = np.identity(n)\n",
        "        H_k[k + 1:, k + 1:] -= 2 * np.outer(v, v)\n",
        "\n",
        "        H = H_k @ H @ H_k\n",
        "        Q = Q @ H_k\n",
        "\n",
        "    return H, Q\n",
        "\n",
        "def qr_algorithm(A, iterations, tolerance):\n",
        "    # Implementasi algoritma QR untuk mencari eigenvalue dari matriks A.\n",
        "    n = A.shape[0]\n",
        "    Ak, _ = householder_reduce_hessenberg(np.copy(A))\n",
        "    print(\"Matriks setelah reduksi ke bentuk Hessenberg:\")\n",
        "    print(Ak)\n",
        "    print(\"-\" * 30)\n",
        "\n",
        "    for i in range(iterations):\n",
        "        print(f\"Iterasi ke-{i+1}:\")\n",
        "        Q, R = qr(Ak)\n",
        "        print(\"Q:\")\n",
        "        print(Q)\n",
        "        print(\"R:\")\n",
        "        print(R)\n",
        "        Ak_next = R @ Q\n",
        "        print(\"Ak+1:\")\n",
        "        print(Ak_next)\n",
        "        print(\"-\" * 30)\n",
        "\n",
        "        off_diagonal_sum = np.sum(np.abs(np.tril(Ak_next, -1)))\n",
        "        Ak = Ak_next\n",
        "\n",
        "        if off_diagonal_sum < tolerance:\n",
        "            print(f\"Konvergensi tercapai pada iterasi ke-{i+1}.\")\n",
        "            break\n",
        "\n",
        "    eigenvalues = np.diag(Ak)\n",
        "    return eigenvalues\n",
        "\n",
        "if __name__ == \"__main__\":\n",
        "  # Input\n",
        "    n = int(input(\"input dimensi matriks n: \"))\n",
        "    I = int(input(\"input jumlah iterasi: \"))\n",
        "    E = float(input(\"nilai toleransi: \"))\n",
        "\n",
        "    # input matriks A\n",
        "    A_list = []\n",
        "    for i in range(n):\n",
        "        baris = list(map(float, input(f\"input nilai elemen baris ke-{i+1}: \").split()))\n",
        "        A_list.append(baris)\n",
        "    A = np.array(A_list)\n",
        "\n",
        "    print(\"Memproses matriks A:\")\n",
        "    eigenvalues_A = qr_algorithm(A, iterations=I, tolerance=E)\n",
        "    print(\"\\nEigenvalues dari A:\")\n",
        "    print(eigenvalues_A)"
      ]
    },
    {
      "cell_type": "markdown",
      "metadata": {
        "id": "hzasigsuF5WM"
      },
      "source": [
        "## 4. SVD (Singular Value Decomposition)\n",
        "\n",
        "SVD adalah faktorisasi matriks menjadi tiga matriks: $A = U \\Sigma V^T$, di mana $\\Sigma$ adalah matriks diagonal dengan nilai singular non-negatif pada diagonalnya. **Secara langsung, SVD tidak memberikan eigenvalue.** Namun, jika matriks $A$ adalah matriks simetris positif-definit, maka nilai singularnya akan sama dengan eigenvalue-nya. Untuk matriks umum (tidak harus persegi atau simetris), nilai singular dan eigenvalue adalah konsep yang berbeda."
      ]
    },
    {
      "cell_type": "code",
      "execution_count": null,
      "metadata": {
        "colab": {
          "base_uri": "https://localhost:8080/"
        },
        "id": "ztiJnIyFeIVx",
        "outputId": "91475b13-7451-4c18-a67e-5fbd1b367695"
      },
      "outputs": [
        {
          "name": "stdout",
          "output_type": "stream",
          "text": [
            "input dimensi matriks n: 2\n",
            "input nilai elemen baris ke-1: 1 2\n",
            "input nilai elemen baris ke-2: 2 3\n",
            "\n",
            "Eigenvalues:\n",
            "[-0.23606798  4.23606798]\n",
            "\n",
            "Singular values:\n",
            "[4.23606798 0.23606798]\n"
          ]
        }
      ],
      "source": [
        "#Bentuk SVD\n",
        "import numpy as np\n",
        "\n",
        "# Input\n",
        "n = int(input(\"input dimensi matriks n: \"))\n",
        "\n",
        "# Input matriks A\n",
        "A_list = []\n",
        "for i in range(n):\n",
        "    baris = list(map(float, input(f\"input nilai elemen baris ke-{i+1}: \").split()))\n",
        "    A_list.append(baris)\n",
        "A = np.array(A_list)\n",
        "\n",
        "# Hitung EVD (eigen values) sebagai pembanding\n",
        "eigvals, eigvecs = np.linalg.eig(A)\n",
        "print(\"\\nEigenvalues:\")\n",
        "print(eigvals)\n",
        "\n",
        "# Hitung SVD (singular values)\n",
        "U, S, VT = np.linalg.svd(A)\n",
        "print(\"\\nSingular values:\")\n",
        "print(S)"
      ]
    },
    {
      "cell_type": "markdown",
      "metadata": {
        "id": "ivWiG8f1HOB5"
      },
      "source": [
        "# Kesimpulan\n",
        "\n",
        "* **Metode Power** dan **Metode QR** adalah metode langsung untuk mengaproksimasi atau menghitung eigenvalue.\n",
        "* **Metode Householder's** adalah teknik reduksi matriks yang sering digunakan sebagai langkah awal dalam algoritma eigenvalue yang lebih canggih, terutama sebelum menerapkan metode QR.\n",
        "* **SVD (Singular Value Decomposition)** memberikan nilai singular, yang berbeda dari eigenvalue kecuali untuk kasus matriks simetris positif-definit. Jadi, SVD tidak secara umum dianggap sebagai teknik aproksimasi eigenvalue.\n",
        "\n",
        "Oleh karena itu, dari daftar yang Anda berikan, **Metode Power** dan **Metode QR** adalah teknik utama untuk aproksimasi eigenvalue. Metode Householder's berperan penting dalam mempermudah perhitungan eigenvalue, terutama dalam konteks metode QR. SVD memberikan informasi yang berbeda (nilai singular)."
      ]
    },
    {
      "cell_type": "markdown",
      "metadata": {
        "id": "hkIGqoX13ynR"
      },
      "source": [
        "PERBEDAAN QR SHIFT"
      ]
    },
    {
      "cell_type": "code",
      "execution_count": null,
      "metadata": {
        "colab": {
          "base_uri": "https://localhost:8080/"
        },
        "id": "0TTFhk0u32fD",
        "outputId": "a239e09b-a7d0-49d5-a5f6-ee2855a1c930"
      },
      "outputs": [
        {
          "name": "stdout",
          "output_type": "stream",
          "text": [
            "mu -1.0\n",
            "mu -1.0\n",
            "Metode QR tanpa shift:\n",
            "Eigenvalue: [ 6.84462111  2.2683083  -2.19729387  1.08436446]\n",
            "Jumlah iterasi: 100\n",
            "\n",
            "Metode QR dengan shift:\n",
            "Eigenvalue: [ 6.84462111  2.26853141  1.08436446 -2.19751698]\n",
            "Jumlah iterasi: 75\n"
          ]
        }
      ],
      "source": [
        "import numpy as np\n",
        "\n",
        "def qr_iteration(A, max_iter=100, tol=1e-10, use_shift=False):\n",
        "    n = A.shape[0]\n",
        "    Ak = A.copy()\n",
        "    print(\"mu\",Ak[-1,-1])\n",
        "    for k in range(max_iter):\n",
        "        if use_shift:\n",
        "            # Shift: gunakan elemen terakhir diagonal sebagai mu\n",
        "            mu = Ak[-1, -1]\n",
        "            # print(\"mu :\",mu)\n",
        "            Q, R = np.linalg.qr(Ak - mu * np.eye(n))\n",
        "            Ak = R @ Q + mu * np.eye(n)\n",
        "        else:\n",
        "            Q, R = np.linalg.qr(Ak)\n",
        "            Ak = R @ Q\n",
        "\n",
        "        # Cek konvergensi (lihat nilai sub-diagonal mengecil)\n",
        "        off_diagonal_norm = np.sqrt(np.sum(np.tril(Ak, -1)**2))\n",
        "        if off_diagonal_norm < tol:\n",
        "            break\n",
        "    return np.diag(Ak), k + 1  # k+1 iterasi dilakukan\n",
        "\n",
        "# Contoh matriks\n",
        "A = np.array([[4.0, 1.0, -2.0, 2.0],\n",
        "              [1.0, 2.0, 0.0, 1.0],\n",
        "              [-2.0, 0.0, 3.0, -2.0],\n",
        "              [2.0, 1.0, -2.0, -1.0]])\n",
        "\n",
        "eigen_no_shift, iter_no_shift = qr_iteration(A, use_shift=False)\n",
        "eigen_with_shift, iter_with_shift = qr_iteration(A, use_shift=True)\n",
        "\n",
        "print(\"Metode QR tanpa shift:\")\n",
        "print(\"Eigenvalue:\", eigen_no_shift)\n",
        "print(\"Jumlah iterasi:\", iter_no_shift)\n",
        "\n",
        "print(\"\\nMetode QR dengan shift:\")\n",
        "print(\"Eigenvalue:\", eigen_with_shift)\n",
        "print(\"Jumlah iterasi:\", iter_with_shift)\n"
      ]
    },
    {
      "cell_type": "code",
      "execution_count": null,
      "metadata": {
        "id": "vhLbTb3U5MJp"
      },
      "outputs": [],
      "source": []
    }
  ],
  "metadata": {
    "colab": {
      "provenance": []
    },
    "kernelspec": {
      "display_name": "Python 3",
      "name": "python3"
    },
    "language_info": {
      "codemirror_mode": {
        "name": "ipython",
        "version": 3
      },
      "file_extension": ".py",
      "mimetype": "text/x-python",
      "name": "python",
      "nbconvert_exporter": "python",
      "pygments_lexer": "ipython3",
      "version": "3.10.0"
    }
  },
  "nbformat": 4,
  "nbformat_minor": 0
}
