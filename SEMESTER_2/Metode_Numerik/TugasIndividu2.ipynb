{
 "cells": [
  {
   "cell_type": "markdown",
   "metadata": {},
   "source": [
    "## TUGAS Individu 2.  SOLUSI PERSAMAAN NONLINEAR"
   ]
  },
  {
   "cell_type": "markdown",
   "metadata": {},
   "source": [
    "- Muchammad Yuda Tri Ananda\n",
    "- 24060124110142\n",
    "- Kelas D"
   ]
  },
  {
   "cell_type": "markdown",
   "metadata": {},
   "source": [
    "---"
   ]
  },
  {
   "cell_type": "markdown",
   "metadata": {},
   "source": [
    "## Nomer 1 EXERCISE SET 2.1 Hal. 54 3.c\n",
    "\n",
    "Use the Bisection method to find solutions accurate to within $10^{-2}$ for the equation:\n",
    "\n",
    "$$f(x) = x^3 - 7x^2 + 14x - 6 = 0$$\n",
    "\n",
    "on each of the following intervals:\n",
    "\n",
    "**a.** $[0, 1]$\n",
    "\n",
    "**b.** $[1, 3.2]$\n",
    "\n",
    "**c. $[3.2, 4]$**\n",
    "\n",
    "---"
   ]
  },
  {
   "cell_type": "markdown",
   "metadata": {},
   "source": [
    "\n",
    "Metode bisection digunakan untuk menemukan akar suatu fungsi dengan cara membagi interval menjadi dua bagian.\n",
    "Ini sangat berguna ketika solusi eksak tidak dapat ditemukan secara aljabar, terutama untuk fungsi kompleks atau tak terdiferensial.\n",
    "Metode ini sederhana, stabil, dan selalu konvergen jika ada perubahan tanda dalam interval yang diberikan.\n"
   ]
  },
  {
   "cell_type": "code",
   "execution_count": 28,
   "metadata": {},
   "outputs": [
    {
     "name": "stdout",
     "output_type": "stream",
     "text": [
      "=== Metode Bisection ===\n",
      "Iterasi 1:\n",
      "  Titik Tengah: c_1 = (3.2 + 4) / 2 = 3.6\n",
      "  |a - b| = |3.2 - 4| = 0.7999999999999998\n",
      "  f(c_1) = f(3.6) = 0.336000000000006\n",
      "  Karena f(c) * f(a) < 0, interval baru: [3.2, 3.6]\n",
      "--------------------------------------------------\n",
      "Iterasi 2:\n",
      "  Titik Tengah: c_2 = (3.2 + 3.6) / 2 = 3.4000000000000004\n",
      "  |a - b| = |3.2 - 3.6| = 0.3999999999999999\n",
      "  f(c_2) = f(3.4000000000000004) = -0.0159999999999982\n",
      "  Karena f(c) * f(b) < 0, interval baru: [3.4000000000000004, 3.6]\n",
      "--------------------------------------------------\n",
      "Iterasi 3:\n",
      "  Titik Tengah: c_3 = (3.4000000000000004 + 3.6) / 2 = 3.5\n",
      "  |a - b| = |3.4000000000000004 - 3.6| = 0.19999999999999973\n",
      "  f(c_3) = f(3.5) = 0.125000000000000\n",
      "  Karena f(c) * f(a) < 0, interval baru: [3.4000000000000004, 3.5]\n",
      "--------------------------------------------------\n",
      "Iterasi 4:\n",
      "  Titik Tengah: c_4 = (3.4000000000000004 + 3.5) / 2 = 3.45\n",
      "  |a - b| = |3.4000000000000004 - 3.5| = 0.09999999999999964\n",
      "  f(c_4) = f(3.45) = 0.0461250000000035\n",
      "  Karena f(c) * f(a) < 0, interval baru: [3.4000000000000004, 3.45]\n",
      "--------------------------------------------------\n",
      "Iterasi 5:\n",
      "  Titik Tengah: c_5 = (3.4000000000000004 + 3.45) / 2 = 3.4250000000000003\n",
      "  |a - b| = |3.4000000000000004 - 3.45| = 0.04999999999999982\n",
      "  f(c_5) = f(3.4250000000000003) = 0.0130156250000013\n",
      "  Karena f(c) * f(a) < 0, interval baru: [3.4000000000000004, 3.4250000000000003]\n",
      "--------------------------------------------------\n",
      "Iterasi 6:\n",
      "  Titik Tengah: c_6 = (3.4000000000000004 + 3.4250000000000003) / 2 = 3.4125000000000005\n",
      "  |a - b| = |3.4000000000000004 - 3.4250000000000003| = 0.02499999999999991\n",
      "  f(c_6) = f(3.4125000000000005) = -0.00199804687500205\n",
      "  Konvergen: Akar ditemukan pada x ≈ 3.4125000000000005\n",
      "\n",
      "SOLUSI Akar (Metode Bisection): 3.4125000000000005\n"
     ]
    },
    {
     "data": {
      "image/png": "[encoded data removed]",
      "text/plain": [
       "<Figure size 432x288 with 1 Axes>"
      ]
     },
     "metadata": {
      "needs_background": "light"
     },
     "output_type": "display_data"
    }
   ],
   "source": [
    "# IMPORT MODULE\n",
    "from sympy import Symbol, lambdify\n",
    "import numpy as np\n",
    "import matplotlib.pyplot as plt\n",
    "\n",
    "# Definisi variabel simbolik\n",
    "X = Symbol('x')\n",
    "\n",
    "# FUNGSI\n",
    "f = X**3 - 7 * X**2 + 14 * X - 6  \n",
    "\n",
    "# INTERVAL\n",
    "a, b = 3.2, 4\n",
    "\n",
    "# TOLERANSI\n",
    "tol = 1e-2\n",
    "\n",
    "def metode_bagi_dua(f, a, b, tol=1e-2):\n",
    "    # Pastikan ada akar dalam interval (syarat metode bisection)\n",
    "    if f.subs(X, a) * f.subs(X, b) > 0:\n",
    "        print(\"Metode Bisection tidak bisa digunakan: f(a) dan f(b) memiliki tanda yang sama.\")\n",
    "        return None\n",
    "\n",
    "    print(\"=== Metode Bisection ===\")\n",
    "    for i in range(100):\n",
    "        c = (a + b) / 2  # Titik tengah\n",
    "        f_c = f.subs(X, c)\n",
    "        f_a = f.subs(X, a)\n",
    "        f_b = f.subs(X, b)\n",
    "\n",
    "        print(f\"Iterasi {i+1}:\")\n",
    "        print(f\"  Titik Tengah: c_{i+1} = ({a} + {b}) / 2 = {c}\")\n",
    "        print(f\"  |a - b| = |{a} - {b}| = {abs(a - b)}\")\n",
    "        print(f\"  f(c_{i+1}) = f({c}) = {f_c}\")\n",
    "\n",
    "        # Jika akar ditemukan atau sudah mencapai toleransi, berhenti\n",
    "        if abs(f_c) < tol or abs(a - b) < tol:\n",
    "            print(f\"  Konvergen: Akar ditemukan pada x ≈ {c}\\n\")\n",
    "            return c\n",
    "\n",
    "        # Perbarui interval berdasarkan tanda f(c)\n",
    "        if f_c * f_a < 0:\n",
    "            print(f\"  Karena f(c) * f(a) < 0, interval baru: [{a}, {c}]\")\n",
    "            b = c\n",
    "        else:\n",
    "            print(f\"  Karena f(c) * f(b) < 0, interval baru: [{c}, {b}]\")\n",
    "            a = c\n",
    "\n",
    "        print(\"-\" * 50)  # Separator untuk kejelasan\n",
    "\n",
    "    return c  # Estimasi terbaik setelah iterasi maksimum\n",
    "\n",
    "# Menjalankan metode bisection\n",
    "akar_bisection = metode_bagi_dua(f, a, b, tol)\n",
    "print(\"SOLUSI Akar (Metode Bisection):\", akar_bisection)\n",
    "\n",
    "# Plot Grafik Fungsi dan Titik Akar\n",
    "if akar_bisection is not None:\n",
    "    f_numeric = lambdify(X, f, \"numpy\")  # Ubah fungsi menjadi numerik\n",
    "\n",
    "    x_vals = np.linspace(1, 4, 400)\n",
    "    y_vals = f_numeric(x_vals)\n",
    "\n",
    "    plt.figure()\n",
    "    plt.plot(x_vals, y_vals, label=r'$f(x) = x^3 - 7x^2 + 14x - 6$', color='b')\n",
    "    plt.axhline(0, color='black', linewidth=0.8)  # Garis sumbu x\n",
    "    plt.scatter([akar_bisection], [0], color='r', label='Akar Bisection', zorder=3)\n",
    "    plt.legend()\n",
    "    plt.title(\"Metode Bisection\")\n",
    "    plt.xlabel(\"x\")\n",
    "    plt.ylabel(\"f(x)\")\n",
    "    plt.grid()\n",
    "    plt.show()\n"
   ]
  },
  {
   "cell_type": "markdown",
   "metadata": {},
   "source": [
    "---"
   ]
  },
  {
   "cell_type": "markdown",
   "metadata": {},
   "source": [
    "## Nomer 2 EXERCISE SET 2.3 Hal. 75 6.d \n",
    "\n",
    "Use Newton's method to find solutions accurate to within $10^{-5}$ for the following problems:\n",
    "\n",
    "\n",
    "**d.** $$(x-2)^2 - \\ln(x) = 0$$ for $1 \\le x \\le 2$ and $e \\le x \\le 4$\n",
    "\n",
    "---"
   ]
  },
  {
   "cell_type": "markdown",
   "metadata": {},
   "source": [
    "Metode Newton-Raphson menggunakan turunan pertama dari fungsi untuk mempercepat konvergensi menuju akar."
   ]
  },
  {
   "cell_type": "code",
   "execution_count": null,
   "metadata": {},
   "outputs": [
    {
     "name": "stdout",
     "output_type": "stream",
     "text": [
      "\n",
      "=== Metode Newton-Raphson (x0 = 1.5) ===\n",
      "Iterasi 1: x = 1.500000, f(x) = -0.155465, f'(x) = -1.666667, x_baru = 1.406721\n",
      "Iterasi 2: x = 1.406721, f(x) = 0.010719, f'(x) = -1.897431, x_baru = 1.412370\n",
      "Iterasi 3: x = 1.412370, f(x) = 0.000040, f'(x) = -1.883290, x_baru = 1.412391\n",
      "Iterasi 4: x = 1.412391, f(x) = 0.000000, f'(x) = -1.883237, x_baru = 1.412391\n",
      "Konvergen: Akar ditemukan pada x ≈ 1.412391\n",
      "\n",
      "\n",
      "=== Metode Newton-Raphson (x0 = 3) ===\n",
      "Iterasi 1: x = 3.000000, f(x) = -0.098612, f'(x) = 1.666667, x_baru = 3.059167\n",
      "Iterasi 2: x = 3.059167, f(x) = 0.003693, f'(x) = 1.791448, x_baru = 3.057106\n",
      "Iterasi 3: x = 3.057106, f(x) = 0.000004, f'(x) = 1.787105, x_baru = 3.057104\n",
      "Konvergen: Akar ditemukan pada x ≈ 3.057104\n",
      "\n"
     ]
    },
    {
     "data": {
      "image/png": "[encoded data removed]",
      "text/plain": [
       "<Figure size 432x288 with 1 Axes>"
      ]
     },
     "metadata": {
      "needs_background": "light"
     },
     "output_type": "display_data"
    }
   ],
   "source": [
    "# IMPORT MODULE\n",
    "import numpy as np\n",
    "import matplotlib.pyplot as plt\n",
    "\n",
    "# Definisi fungsi f(x) dan turunannya f'(x)\n",
    "def f(x):\n",
    "    return (x - 2)**2 - np.log(x)\n",
    "\n",
    "def df(x):\n",
    "    return 2 * (x - 2) - 1/x\n",
    "\n",
    "def metode_newton_raphson(f, df, x0, tol=1e-5, max_iter=100):\n",
    "    x = x0\n",
    "    print(f\"\\n=== Metode Newton-Raphson (x0 = {x0}) ===\")\n",
    "    \n",
    "    for i in range(1, max_iter + 1):\n",
    "        f_x = f(x)\n",
    "        df_x = df(x)\n",
    "        \n",
    "        # Cek jika turunan nol (hindari pembagian oleh nol)\n",
    "        if df_x == 0:\n",
    "            print(f\"Iterasi {i}: Turunan nol! Newton-Raphson gagal.\")\n",
    "            return None\n",
    "\n",
    "        x_new = x - f_x / df_x\n",
    "\n",
    "        print(f\"Iterasi {i}: x = {x:.6f}, f(x) = {f_x:.6f}, f'(x) = {df_x:.6f}, x_baru = {x_new:.6f}\")\n",
    "\n",
    "        if abs(x_new - x) < tol:\n",
    "            print(f\"Konvergen: Akar ditemukan pada x ≈ {x_new:.6f}\\n\")\n",
    "            return x_new\n",
    "\n",
    "        x = x_new\n",
    "    \n",
    "    print(\"Maksimum iterasi tercapai, hasil terakhir:\", x)\n",
    "    return x\n",
    "\n",
    "# Interval pertama: 1 ≤ x ≤ 2 (ambil x0 = 1.5)\n",
    "akar1 = metode_newton_raphson(f, df, x0=1.5)\n",
    "\n",
    "# Interval kedua: e ≤ x ≤ 4 (ambil x0 = 3)\n",
    "akar2 = metode_newton_raphson(f, df, x0=3)\n",
    "\n",
    "# Plot grafik fungsi dan akar\n",
    "x_vals = np.linspace(0.5, 4.5, 400)\n",
    "y_vals = f(x_vals)\n",
    "\n",
    "plt.figure()\n",
    "plt.plot(x_vals, y_vals, label=r'$f(x) = (x-2)^2 - \\ln(x)$', color='b')\n",
    "plt.axhline(0, color='black', linewidth=0.8)  # Garis sumbu x\n",
    "\n",
    "# Tandai akar\n",
    "if akar1 is not None:\n",
    "    plt.scatter([akar1], [0], color='r', label=f'Akar Newton (x₀=1.5) ≈ {akar1:.6f}', zorder=3)\n",
    "if akar2 is not None:\n",
    "    plt.scatter([akar2], [0], color='g', label=f'Akar Newton (x₀=3) ≈ {akar2:.6f}', zorder=3)\n",
    "\n",
    "plt.legend()\n",
    "plt.title(\"Metode Newton-Raphson\")\n",
    "plt.xlabel(\"x\")\n",
    "plt.ylabel(\"f(x)\")\n",
    "plt.grid()\n",
    "plt.show()\n"
   ]
  },
  {
   "cell_type": "markdown",
   "metadata": {},
   "source": [
    "## Nomer 3 EXERCISE  SET 2.3 Hal. 75  7.c\n",
    "\n",
    " Repeat Exercise 5 using the Secant method\n",
    "\n",
    "Use Secant's method to find solutions accurate to within $10^{-4}$ for the following problems:\n",
    "\n",
    "**c.** $$x - \\cos(x) = 0, \\quad [0, \\pi/2]$$\n",
    "\n",
    "---"
   ]
  },
  {
   "cell_type": "markdown",
   "metadata": {},
   "source": [
    "Metode Secant adalah salah satu metode numerik untuk mencari akar dari suatu fungsi non-linear. Metode ini merupakan pengembangan dari Metode Newton-Raphson, tetapi tidak memerlukan perhitungan turunan, sehingga lebih efisien dalam beberapa kasus.\n",
    "\n",
    "Langkah-langkah Metode Secant : \n",
    "- Pilih dua tebakan awal x0 dan x1.\n",
    "- Hitung x2​ menggunakan rumus secant.\n",
    "- Evaluasi f(x2). Jika cukup dekat dengan nol (sesuai toleransi kesalahan), berhenti.\n",
    "- Jika belum memenuhi toleransi, perbarui x1 = x2 dan x0 = x1, lalu ulangi proses hingga konvergen."
   ]
  },
  {
   "cell_type": "code",
   "execution_count": 32,
   "metadata": {},
   "outputs": [
    {
     "name": "stdout",
     "output_type": "stream",
     "text": [
      "Mencari akar dengan metode Secant di interval [0, π/2]:\n",
      "Iterasi  x0              x1              x_baru          f(x_baru)      \n",
      "1        0.0000000000    1.5707963268    0.6110154704    -0.2080503951  \n",
      "2        1.5707963268    0.6110154704    0.7232695414    -0.0263762877  \n",
      "3        0.6110154704    0.7232695414    0.7395671070    0.0008067229   \n",
      "4        0.7232695414    0.7395671070    0.7390834365    -0.0000028396  \n",
      "5        0.7395671070    0.7390834365    0.7390851330    -0.0000000003  \n",
      "\n",
      "Akar ditemukan pada x ≈ 0.7390851330 setelah 5 iterasi.\n",
      "\n"
     ]
    },
    {
     "data": {
      "image/png": "[encoded data removed]",
      "text/plain": [
       "<Figure size 576x360 with 1 Axes>"
      ]
     },
     "metadata": {
      "needs_background": "light"
     },
     "output_type": "display_data"
    }
   ],
   "source": [
    "import numpy as np\n",
    "import matplotlib.pyplot as plt\n",
    "\n",
    "# Fungsi yang ingin kita cari akarnya\n",
    "def f(x):\n",
    "    return x - np.cos(x)\n",
    "\n",
    "# Metode Secant dengan log yang lebih baik\n",
    "def secant_method(f, x0, x1, tol=1e-4, max_iter=100):\n",
    "    print(f\"{'Iterasi':<8} {'x0':<15} {'x1':<15} {'x_baru':<15} {'f(x_baru)':<15}\")\n",
    "\n",
    "    for i in range(1, max_iter + 1):\n",
    "        f_x0, f_x1 = f(x0), f(x1)\n",
    "        if f_x1 - f_x0 == 0:\n",
    "            print(\"Dibagi dengan nol! Metode gagal.\")\n",
    "            return None\n",
    "\n",
    "        x_new = x1 - f_x1 * (x1 - x0) / (f_x1 - f_x0)\n",
    "        f_xnew = f(x_new)\n",
    "\n",
    "        print(f\"{i:<8} {x0:<15.10f} {x1:<15.10f} {x_new:<15.10f} {f_xnew:<15.10f}\")\n",
    "\n",
    "        if abs(x_new - x1) < tol:\n",
    "            print(f\"\\nAkar ditemukan pada x ≈ {x_new:.10f} setelah {i} iterasi.\\n\")\n",
    "            return x_new\n",
    "\n",
    "        x0, x1 = x1, x_new\n",
    "\n",
    "    print(\"\\nMetode tidak konvergen dalam jumlah iterasi maksimum.\")\n",
    "    return None\n",
    "\n",
    "# Mencari akar di interval [0, pi/2]\n",
    "x0, x1 = 0, np.pi / 2\n",
    "\n",
    "print(\"Mencari akar dengan metode Secant di interval [0, π/2]:\")\n",
    "root_secant = secant_method(f, x0, x1)\n",
    "\n",
    "# Visualisasi grafik\n",
    "x_vals = np.linspace(0, np.pi / 2, 400)\n",
    "y_vals = f(x_vals)\n",
    "\n",
    "plt.figure(figsize=(8, 5))\n",
    "plt.plot(x_vals, y_vals, label=r'$x - \\cos(x)$')\n",
    "plt.axhline(0, color='black', linewidth=0.5)\n",
    "if root_secant:\n",
    "    plt.scatter([root_secant], [0], color='b', label='Akar (Secant)')\n",
    "plt.legend()\n",
    "plt.title(\"Metode Secant\")\n",
    "plt.xlabel(\"x\")\n",
    "plt.ylabel(\"f(x)\")\n",
    "plt.grid()\n",
    "plt.show()\n"
   ]
  },
  {
   "cell_type": "markdown",
   "metadata": {},
   "source": [
    "# Nomer 4 EXERCISE SET 2.3 Hal. 75 10.c\n",
    "\n",
    "Repeat Exercise 6 using the method of False Position.\n",
    "\n",
    "Use False Position method to find solutions accurate to within $10^{-5}$ for the following problems:\n",
    "\n",
    "**c.** $$2x\\cos(2x) - (x-2)^2 = 0$$\n",
    "for $2 \\le x \\le 3$ and $3 \\le x \\le 4$\n",
    "\n",
    "\n",
    "---"
   ]
  },
  {
   "cell_type": "markdown",
   "metadata": {},
   "source": [
    "Metode regula falsi adalah variasi dari metode bagi dua, tetapi menggunakan pendekatan garis lurus untuk memperkirakan akar."
   ]
  },
  {
   "cell_type": "code",
   "execution_count": 31,
   "metadata": {},
   "outputs": [
    {
     "name": "stdout",
     "output_type": "stream",
     "text": [
      "Mencari akar di interval [2, 3]:\n",
      "Iterasi  a               b               c               f(c)           \n",
      "1        2.0000000000    3.0000000000    2.3544899167    -0.1417166747  \n",
      "2        2.3544899167    3.0000000000    2.3731487834    0.0216693873   \n",
      "3        2.3544899167    2.3731487834    2.3706741157    -0.0001125971  \n",
      "4        2.3706741157    2.3731487834    2.3706869080    -0.0000000853  \n",
      "\n",
      "Akar ditemukan pada x ≈ 2.3706869080 setelah 4 iterasi.\n",
      "\n",
      "\n",
      "Mencari akar di interval [3, 4]:\n",
      "Iterasi  a               b               c               f(c)           \n",
      "1        3.0000000000    4.0000000000    3.4796988586    3.2384648091   \n",
      "2        3.4796988586    4.0000000000    3.6802325020    0.6636609839   \n",
      "3        3.6802325020    4.0000000000    3.7166480044    0.0887765806   \n",
      "4        3.7166480044    4.0000000000    3.7214369041    0.0110141251   \n",
      "5        3.7214369041    4.0000000000    3.7220297776    0.0013530372   \n",
      "6        3.7220297776    4.0000000000    3.7221025904    0.0001660115   \n",
      "7        3.7221025904    4.0000000000    3.7221115239    0.0000203658   \n",
      "8        3.7221115239    4.0000000000    3.7221126199    0.0000024984   \n",
      "\n",
      "Akar ditemukan pada x ≈ 3.7221126199 setelah 8 iterasi.\n",
      "\n"
     ]
    },
    {
     "data": {
      "image/png": "[encoded data removed]",
      "text/plain": [
       "<Figure size 576x360 with 1 Axes>"
      ]
     },
     "metadata": {
      "needs_background": "light"
     },
     "output_type": "display_data"
    }
   ],
   "source": [
    "import numpy as np\n",
    "import matplotlib.pyplot as plt\n",
    "\n",
    "# Fungsi yang ingin kita cari akarnya\n",
    "def f(x):\n",
    "    return 2 * x * np.cos(2 * x) - (x - 2) ** 2\n",
    "\n",
    "# Metode Regula Falsi dengan log yang lebih baik\n",
    "def regula_falsi_method(f, a, b, tol=1e-5, max_iter=100):\n",
    "    if f(a) * f(b) > 0:\n",
    "        print(\"Interval yang diberikan tidak memiliki akar atau memiliki akar genap.\")\n",
    "        return None\n",
    "\n",
    "    print(f\"{'Iterasi':<8} {'a':<15} {'b':<15} {'c':<15} {'f(c)':<15}\")\n",
    "\n",
    "    for i in range(1, max_iter + 1):\n",
    "        c = b - f(b) * (b - a) / (f(b) - f(a))\n",
    "        f_c = f(c)\n",
    "\n",
    "        print(f\"{i:<8} {a:<15.10f} {b:<15.10f} {c:<15.10f} {f_c:<15.10f}\")\n",
    "\n",
    "        if abs(f_c) < tol:\n",
    "            print(f\"\\nAkar ditemukan pada x ≈ {c:.10f} setelah {i} iterasi.\\n\")\n",
    "            return c\n",
    "\n",
    "        if f(a) * f_c < 0:\n",
    "            b = c  # Akar ada di antara a dan c\n",
    "        else:\n",
    "            a = c  # Akar ada di antara c dan b\n",
    "\n",
    "    print(\"\\nMetode tidak konvergen dalam jumlah iterasi maksimum.\")\n",
    "    return None\n",
    "\n",
    "# Mencari akar di kedua interval\n",
    "a1, b1 = 2.0, 3.0\n",
    "a2, b2 = 3.0, 4.0\n",
    "\n",
    "print(\"Mencari akar di interval [2, 3]:\")\n",
    "root_falsi_1 = regula_falsi_method(f, a1, b1)\n",
    "\n",
    "print(\"\\nMencari akar di interval [3, 4]:\")\n",
    "root_falsi_2 = regula_falsi_method(f, a2, b2)\n",
    "\n",
    "# Visualisasi grafik\n",
    "x_vals = np.linspace(1.5, 4.5, 400)\n",
    "y_vals = f(x_vals)\n",
    "\n",
    "plt.figure(figsize=(8, 5))\n",
    "plt.plot(x_vals, y_vals, label=r'$2x\\cos(2x) - (x-2)^2$')\n",
    "plt.axhline(0, color='black', linewidth=0.5)\n",
    "if root_falsi_1:\n",
    "    plt.scatter([root_falsi_1], [0], color='y', label='Akar di [2,3]')\n",
    "if root_falsi_2:\n",
    "    plt.scatter([root_falsi_2], [0], color='r', label='Akar di [3,4]')\n",
    "plt.legend()\n",
    "plt.title(\"Metode Regula Falsi\")\n",
    "plt.xlabel(\"x\")\n",
    "plt.ylabel(\"f(x)\")\n",
    "plt.grid()\n",
    "plt.show()\n"
   ]
  }
 ],
 "metadata": {
  "kernelspec": {
   "display_name": "Python 3",
   "language": "python",
   "name": "python3"
  },
  "language_info": {
   "codemirror_mode": {
    "name": "ipython",
    "version": 3
   },
   "file_extension": ".py",
   "mimetype": "text/x-python",
   "name": "python",
   "nbconvert_exporter": "python",
   "pygments_lexer": "ipython3",
   "version": "3.10.0"
  }
 },
 "nbformat": 4,
 "nbformat_minor": 2
}
