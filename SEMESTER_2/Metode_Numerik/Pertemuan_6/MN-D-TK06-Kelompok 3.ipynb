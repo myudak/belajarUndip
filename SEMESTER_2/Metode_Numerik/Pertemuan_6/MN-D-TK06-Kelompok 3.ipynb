{
  "cells": [
    {
      "cell_type": "markdown",
      "metadata": {},
      "source": [
        "# Integrasi Numerik\n",
        "\n",
        "**Kelompok 3 - Kelas D Informatika**"
      ]
    },
    {
      "cell_type": "markdown",
      "metadata": {},
      "source": [
        "## Anggota Kelompok\n",
        "\n",
        "*   M. Kemal Faza (24060124120013)\n",
        "*   M. Dimas Arya Putra (24060124130062)\n",
        "*   M. Akmal Fazli Riyadi (24060124130123)\n",
        "*   M. Yuda Tri Ananda (24060124110142)\n",
        "*   M. Zaidaan Ardiansyah (24060124140200)"
      ]
    },
    {
      "cell_type": "markdown",
      "metadata": {},
      "source": [
        "## Teori Dasar: Apa itu Integrasi Numerik?"
      ]
    },
    {
      "cell_type": "markdown",
      "metadata": {},
      "source": [
        "Integrasi numerik adalah sekumpulan teknik yang digunakan untuk **mendekati nilai dari suatu integral tentu**:\n",
        "\n",
        "$$ I = \\int_a^b f(x) \\, dx $$\n",
        "\n",
        "Metode ini sangat berguna ketika:\n",
        "\n",
        "1.  **Fungsi $f(x)$ sulit atau tidak mungkin diintegrasikan secara analitik** (menggunakan aturan integrasi standar).\n",
        "2.  **Fungsi $f(x)$ hanya diketahui nilainya pada titik-titik diskrit**, misalnya dari hasil pengukuran atau eksperimen."
      ]
    },
    {
      "cell_type": "markdown",
      "metadata": {},
      "source": [
        "## Pendekatan Umum\n",
        "\n",
        "Sebagian besar metode integrasi numerik dasar bekerja dengan cara membagi interval integrasi $[a, b]$ menjadi $n$ subinterval (pias) yang lebih kecil, biasanya dengan lebar yang sama, $h = \\frac{b-a}{n}$. Kemudian, luas di bawah kurva $f(x)$ pada tiap subinterval didekati dengan bentuk geometris sederhana (segiempat, trapesium) atau dengan mengaproksimasi fungsi $f(x)$ menggunakan polinom interpolasi pada subinterval tersebut."
      ]
    },
    {
      "cell_type": "markdown",
      "metadata": {},
      "source": [
        "## Metode Numerik"
      ]
    },
    {
      "cell_type": "markdown",
      "metadata": {},
      "source": [
        "### 1. Metode Pias (Pendekatan Geometris)"
      ]
    },
    {
      "cell_type": "markdown",
      "metadata": {},
      "source": [
        "#### a. Kaidah Trapesium (Trapezoidal Rule)\n",
        "\n",
        "**Teori:**\n",
        "Metode ini mendekati area di bawah kurva pada setiap subinterval $[x_i, x_{i+1}]$ sebagai sebuah trapesium. Luas totalnya adalah jumlah dari luas semua trapesium.\n",
        "\n",
        "Rumus komposit (untuk $n$ subinterval):\n",
        "$$ I \\approx \\frac{h}{2} \\left[ f(x_0) + 2 \\sum_{i=1}^{n-1} f(x_i) + f(x_n) \\right] $$\n",
        "di mana $x_0 = a$, $x_n = b$, dan $x_i = a + ih$.\n",
        "\n",
        "**Galat:** Orde $O(h^2)$. Ini berarti jika lebar subinterval $h$ diperkecil setengahnya, galat aproksimasi akan berkurang menjadi sekitar seperempatnya."
      ]
    },
    {
      "cell_type": "code",
      "execution_count": 1,
      "metadata": {},
      "outputs": [
        {
          "name": "stdout",
          "output_type": "stream",
          "text": [
            "--- Contoh Kaidah Trapesium ---\n",
            "Fungsi: f(x) = x^2\n",
            "Batas: a=0.0, b=1.0\n",
            "Jumlah subinterval (n): 10\n",
            "Hasil Integral Numerik (Trapesium): 0.33500000\n",
            "Hasil Integral Analitik: 0.33333333\n",
            "Galat Absolut: 0.00166667\n"
          ]
        }
      ],
      "source": [
        "import numpy as np\n",
        "\n",
        "def trapezoidal_rule(f, a, b, n):\n",
        "    \"\"\"Menghitung integral numerik menggunakan kaidah Trapesium.\n",
        "\n",
        "    Args:\n",
        "        f (callable): Fungsi yang akan diintegralkan.\n",
        "        a (float): Batas bawah integrasi.\n",
        "        b (float): Batas atas integrasi.\n",
        "        n (int): Jumlah subinterval (pias).\n",
        "\n",
        "    Returns:\n",
        "        float: Nilai aproksimasi integral.\n",
        "    \"\"\"\n",
        "    if n <= 0:\n",
        "        raise ValueError(\"Jumlah subinterval n harus positif\")\n",
        "\n",
        "    h = (b - a) / n\n",
        "    x = np.linspace(a, b, n + 1) # Menghasilkan n+1 titik (termasuk a dan b)\n",
        "    y = f(x)\n",
        "\n",
        "    integral = (h / 2) * (y[0] + 2 * np.sum(y[1:n]) + y[n])\n",
        "    return integral\n",
        "\n",
        "# --- Contoh Penggunaan Kaidah Trapesium ---\n",
        "def func_ex(x):\n",
        "  \"Fungsi contoh: f(x) = x^2\"\n",
        "  return x**2\n",
        "\n",
        "# Batas integrasi\n",
        "a_ex = 0.0\n",
        "b_ex = 1.0\n",
        "\n",
        "# Jumlah subinterval\n",
        "n_ex = 10\n",
        "\n",
        "# Hitung integral numerik\n",
        "integral_trap = trapezoidal_rule(func_ex, a_ex, b_ex, n_ex)\n",
        "\n",
        "# Nilai analitik (exact) untuk perbandingan: integral x^2 dx from 0 to 1 = [x^3 / 3]_0^1 = 1/3\n",
        "analytical_result = 1.0 / 3.0\n",
        "\n",
        "# Hitung galat\n",
        "error_trap = abs(integral_trap - analytical_result)\n",
        "\n",
        "print(f\"--- Contoh Kaidah Trapesium ---\")\n",
        "print(f\"Fungsi: f(x) = x^2\")\n",
        "print(f\"Batas: a={a_ex}, b={b_ex}\")\n",
        "print(f\"Jumlah subinterval (n): {n_ex}\")\n",
        "print(f\"Hasil Integral Numerik (Trapesium): {integral_trap:.8f}\")\n",
        "print(f\"Hasil Integral Analitik: {analytical_result:.8f}\")\n",
        "print(f\"Galat Absolut: {error_trap:.8f}\")"
      ]
    },
    {
      "cell_type": "markdown",
      "metadata": {},
      "source": [
        "#### b. Kaidah Titik Tengah (Midpoint Rule)\n",
        "\n",
        "**Teori:**\n",
        "Metode ini mendekati area pada setiap subinterval $[x_i, x_{i+1}]$ sebagai sebuah segiempat dengan tinggi $f(m_i)$, di mana $m_i = \\frac{x_i + x_{i+1}}{2}$ adalah titik tengah subinterval tersebut.\n",
        "\n",
        "Rumus komposit:\n",
        "$$ I \\approx h \\sum_{i=0}^{n-1} f\\left(x_i + \\frac{h}{2}\\right) $$\n",
        "atau ekuivalen dengan:\n",
        "$$ I \\approx h \\sum_{i=0}^{n-1} f(m_i) $$\n",
        "di mana $m_i = a + (i + 0.5)h$.\n",
        "\n",
        "**Galat:** Orde $O(h^2)$. Meskipun ordenya sama dengan Trapesium, Kaidah Titik Tengah seringkali (namun tidak selalu) lebih akurat."
      ]
    },
    {
      "cell_type": "code",
      "execution_count": 2,
      "metadata": {},
      "outputs": [
        {
          "name": "stdout",
          "output_type": "stream",
          "text": [
            "\n",
            "--- Contoh Kaidah Titik Tengah ---\n",
            "Fungsi: f(x) = x^2\n",
            "Batas: a=0.0, b=1.0\n",
            "Jumlah subinterval (n): 10\n",
            "Hasil Integral Numerik (Titik Tengah): 0.33250000\n",
            "Hasil Integral Analitik: 0.33333333\n",
            "Galat Absolut: 0.00083333\n"
          ]
        }
      ],
      "source": [
        "import numpy as np\n",
        "\n",
        "def midpoint_rule(f, a, b, n):\n",
        "    \"\"\"Menghitung integral numerik menggunakan kaidah Titik Tengah.\n",
        "\n",
        "    Args:\n",
        "        f (callable): Fungsi yang akan diintegralkan.\n",
        "        a (float): Batas bawah integrasi.\n",
        "        b (float): Batas atas integrasi.\n",
        "        n (int): Jumlah subinterval (pias).\n",
        "\n",
        "    Returns:\n",
        "        float: Nilai aproksimasi integral.\n",
        "    \"\"\"\n",
        "    if n <= 0:\n",
        "        raise ValueError(\"Jumlah subinterval n harus positif\")\n",
        "\n",
        "    h = (b - a) / n\n",
        "    integral = 0.0\n",
        "    for i in range(n):\n",
        "        mid_point = a + (i + 0.5) * h\n",
        "        integral += f(mid_point)\n",
        "\n",
        "    return h * integral\n",
        "\n",
        "# --- Contoh Penggunaan Kaidah Titik Tengah ---\n",
        "# Gunakan fungsi dan batas yang sama seperti contoh Trapesium\n",
        "\n",
        "# Hitung integral numerik\n",
        "integral_mid = midpoint_rule(func_ex, a_ex, b_ex, n_ex)\n",
        "\n",
        "# Nilai analitik tetap sama\n",
        "# analytical_result = 1.0 / 3.0\n",
        "\n",
        "# Hitung galat\n",
        "error_mid = abs(integral_mid - analytical_result)\n",
        "\n",
        "print(f\"\\n--- Contoh Kaidah Titik Tengah ---\")\n",
        "print(f\"Fungsi: f(x) = x^2\")\n",
        "print(f\"Batas: a={a_ex}, b={b_ex}\")\n",
        "print(f\"Jumlah subinterval (n): {n_ex}\")\n",
        "print(f\"Hasil Integral Numerik (Titik Tengah): {integral_mid:.8f}\")\n",
        "print(f\"Hasil Integral Analitik: {analytical_result:.8f}\")\n",
        "print(f\"Galat Absolut: {error_mid:.8f}\")"
      ]
    },
    {
      "cell_type": "markdown",
      "metadata": {},
      "source": [
        "### 2. Metode Berbasis Polinom Interpolasi"
      ]
    },
    {
      "cell_type": "markdown",
      "metadata": {},
      "source": [
        "#### a. Kaidah Simpson 1/3\n",
        "\n",
        "**Teori:**\n",
        "Metode ini bekerja dengan mengambil *sepasang* subinterval (misal $[x_i, x_{i+1}]$ dan $[x_{i+1}, x_{i+2}]$) dan mengaproksimasi fungsi $f(x)$ pada interval gabungan $[x_i, x_{i+2}]$ menggunakan polinom interpolasi derajat 2 (parabola) yang melalui tiga titik: $(x_i, f(x_i))$, $(x_{i+1}, f(x_{i+1}))$, dan $(x_{i+2}, f(x_{i+2}))$. Integral dari parabola ini digunakan sebagai aproksimasi integral $f(x)$ pada interval tersebut.\n",
        "\n",
        "Karena metode ini memerlukan pasangan subinterval, **jumlah total subinterval $n$ harus genap.**\n",
        "\n",
        "Rumus dasar (untuk 2 subinterval / 3 titik):\n",
        "$$ I \\approx \\frac{h}{3} [f(x_0) + 4f(x_1) + f(x_2)] $$\n",
        "\n",
        "Rumus komposit (untuk $n$ subinterval, $n$ genap):\n",
        "$$ I \\approx \\frac{h}{3} \\left[ f(x_0) + 4 \\sum_{i=1,3,5,...}^{n-1} f(x_i) + 2 \\sum_{i=2,4,6,...}^{n-2} f(x_i) + f(x_n) \\right] $$\n",
        "Ringkasnya: $\\frac{h}{3} \\times ($ujung + $4 \\times$ ganjil + $2 \\times$ genap)\n",
        "\n",
        "**Galat:** Orde $O(h^4)$. Jauh lebih akurat daripada Trapesium dan Titik Tengah untuk $h$ yang cukup kecil."
      ]
    },
    {
      "cell_type": "code",
      "execution_count": 3,
      "metadata": {},
      "outputs": [
        {
          "name": "stdout",
          "output_type": "stream",
          "text": [
            "\n",
            "--- Contoh Kaidah Simpson 1/3 ---\n",
            "Fungsi: f(x) = x^2\n",
            "Batas: a=0.0, b=1.0\n",
            "Jumlah subinterval (n): 10\n",
            "Hasil Integral Numerik (Simpson 1/3): 0.33333333\n",
            "Hasil Integral Analitik: 0.33333333\n",
            "Galat Absolut: 0.00000000\n"
          ]
        }
      ],
      "source": [
        "import numpy as np\n",
        "\n",
        "def simpson_13_rule(f, a, b, n):\n",
        "    \"\"\"Menghitung integral numerik menggunakan kaidah Simpson 1/3.\n",
        "\n",
        "    Args:\n",
        "        f (callable): Fungsi yang akan diintegralkan.\n",
        "        a (float): Batas bawah integrasi.\n",
        "        b (float): Batas atas integrasi.\n",
        "        n (int): Jumlah subinterval (pias). Harus genap.\n",
        "\n",
        "    Returns:\n",
        "        float: Nilai aproksimasi integral.\n",
        "    \"\"\"\n",
        "    if n <= 0:\n",
        "        raise ValueError(\"Jumlah subinterval n harus positif\")\n",
        "    if n % 2 != 0:\n",
        "        raise ValueError(\"Jumlah subinterval n harus genap untuk Simpson 1/3\")\n",
        "\n",
        "    h = (b - a) / n\n",
        "    x = np.linspace(a, b, n + 1)\n",
        "    y = f(x)\n",
        "\n",
        "    sum_odd = np.sum(y[1:n:2])  # Indeks 1, 3, 5, ..., n-1\n",
        "    sum_even = np.sum(y[2:n:2]) # Indeks 2, 4, 6, ..., n-2\n",
        "\n",
        "    integral = (h / 3) * (y[0] + 4 * sum_odd + 2 * sum_even + y[n])\n",
        "    return integral\n",
        "\n",
        "# --- Contoh Penggunaan Kaidah Simpson 1/3 ---\n",
        "# Gunakan fungsi dan batas yang sama\n",
        "# Pastikan n genap\n",
        "n_ex_simpson = 10 # Sudah genap\n",
        "if n_ex_simpson % 2 != 0:\n",
        "    n_ex_simpson +=1 # Jadikan genap jika perlu\n",
        "\n",
        "# Hitung integral numerik\n",
        "integral_s13 = simpson_13_rule(func_ex, a_ex, b_ex, n_ex_simpson)\n",
        "\n",
        "# Nilai analitik tetap sama\n",
        "# analytical_result = 1.0 / 3.0\n",
        "\n",
        "# Hitung galat\n",
        "error_s13 = abs(integral_s13 - analytical_result)\n",
        "\n",
        "print(f\"\\n--- Contoh Kaidah Simpson 1/3 ---\")\n",
        "print(f\"Fungsi: f(x) = x^2\")\n",
        "print(f\"Batas: a={a_ex}, b={b_ex}\")\n",
        "print(f\"Jumlah subinterval (n): {n_ex_simpson}\")\n",
        "print(f\"Hasil Integral Numerik (Simpson 1/3): {integral_s13:.8f}\")\n",
        "print(f\"Hasil Integral Analitik: {analytical_result:.8f}\")\n",
        "print(f\"Galat Absolut: {error_s13:.8f}\")"
      ]
    },
    {
      "cell_type": "markdown",
      "metadata": {},
      "source": [
        "#### b. Kaidah Simpson 3/8\n",
        "\n",
        "**Teori:**\n",
        "Metode ini mirip dengan Simpson 1/3, tetapi bekerja dengan mengambil *tiga* subinterval sekaligus (misal $[x_i, x_{i+3}]$) dan mengaproksimasi $f(x)$ pada interval tersebut menggunakan polinom interpolasi derajat 3 (kubik) yang melalui empat titik: $(x_i, f(x_i)), ..., (x_{i+3}, f(x_{i+3}))$.\n",
        "\n",
        "Karena metode ini memerlukan kelipatan tiga subinterval, **jumlah total subinterval $n$ harus merupakan kelipatan 3.**\n",
        "\n",
        "Rumus dasar (untuk 3 subinterval / 4 titik):\n",
        "$$ I \\approx \\frac{3h}{8} [f(x_0) + 3f(x_1) + 3f(x_2) + f(x_3)] $$\n",
        "\n",
        "Rumus komposit (untuk $n$ subinterval, $n$ kelipatan 3):\n",
        "$$ I \\approx \\frac{3h}{8} \\left[ f(x_0) + 3 \\sum_{i=1,4,7,...}^{n-2} (f(x_i) + f(x_{i+1})) + 2 \\sum_{i=3,6,9,...}^{n-3} f(x_i) + f(x_n) \\right] $$\n",
        "Ringkasnya: $\\frac{3h}{8} \\times (f_0 + 3f_1 + 3f_2 + 2f_3 + 3f_4 + 3f_5 + 2f_6 + ... + 3f_{n-2} + 3f_{n-1} + f_n)$\n",
        "\n",
        "**Galat:** Orde $O(h^4)$. Sama seperti Simpson 1/3, namun konstanta pada suku galatnya sedikit berbeda. Secara umum, Simpson 1/3 lebih sering digunakan karena pembatasannya (n genap) lebih mudah dipenuhi daripada Simpson 3/8 (n kelipatan 3)."
      ]
    },
    {
      "cell_type": "code",
      "execution_count": 4,
      "metadata": {},
      "outputs": [
        {
          "name": "stdout",
          "output_type": "stream",
          "text": [
            "\n",
            "--- Contoh Kaidah Simpson 3/8 ---\n",
            "Fungsi: f(x) = x^2\n",
            "Batas: a=0.0, b=1.0\n",
            "Jumlah subinterval (n): 9\n",
            "Hasil Integral Numerik (Simpson 3/8): 0.33333333\n",
            "Hasil Integral Analitik: 0.33333333\n",
            "Galat Absolut: 0.00000000\n"
          ]
        }
      ],
      "source": [
        "import numpy as np\n",
        "\n",
        "def simpson_38_rule(f, a, b, n):\n",
        "    \"\"\"Menghitung integral numerik menggunakan kaidah Simpson 3/8.\n",
        "\n",
        "    Args:\n",
        "        f (callable): Fungsi yang akan diintegralkan.\n",
        "        a (float): Batas bawah integrasi.\n",
        "        b (float): Batas atas integrasi.\n",
        "        n (int): Jumlah subinterval (pias). Harus kelipatan 3.\n",
        "\n",
        "    Returns:\n",
        "        float: Nilai aproksimasi integral.\n",
        "    \"\"\"\n",
        "    if n <= 0:\n",
        "        raise ValueError(\"Jumlah subinterval n harus positif\")\n",
        "    if n % 3 != 0:\n",
        "        raise ValueError(\"Jumlah subinterval n harus kelipatan 3 untuk Simpson 3/8\")\n",
        "\n",
        "    h = (b - a) / n\n",
        "    x = np.linspace(a, b, n + 1)\n",
        "    y = f(x)\n",
        "\n",
        "    integral = y[0] + y[n]\n",
        "    sum_mod3_1 = 0 # Untuk indeks i % 3 == 1 (contoh: 1, 4, 7, ...)\n",
        "    sum_mod3_2 = 0 # Untuk indeks i % 3 == 2 (contoh: 2, 5, 8, ...)\n",
        "    sum_mod3_0 = 0 # Untuk indeks i % 3 == 0 (contoh: 3, 6, 9, ...) kecuali 0 dan n\n",
        "\n",
        "    for i in range(1, n):\n",
        "        if i % 3 == 0:\n",
        "            sum_mod3_0 += y[i]\n",
        "        elif i % 3 == 1:\n",
        "            sum_mod3_1 += y[i]\n",
        "        else: # i % 3 == 2\n",
        "            sum_mod3_2 += y[i]\n",
        "\n",
        "    integral += 3 * (sum_mod3_1 + sum_mod3_2) + 2 * sum_mod3_0\n",
        "    integral *= (3 * h / 8)\n",
        "\n",
        "    return integral\n",
        "\n",
        "# --- Contoh Penggunaan Kaidah Simpson 3/8 ---\n",
        "# Gunakan fungsi dan batas yang sama\n",
        "# Pastikan n kelipatan 3\n",
        "n_ex_simpson38 = 9 # Kelipatan 3\n",
        "if n_ex_simpson38 % 3 != 0:\n",
        "   # Cari kelipatan 3 terdekat >= n_ex_simpson38\n",
        "   n_ex_simpson38 = ((n_ex_simpson38 // 3) + (1 if n_ex_simpson38 % 3 != 0 else 0)) * 3\n",
        "\n",
        "# Hitung integral numerik\n",
        "integral_s38 = simpson_38_rule(func_ex, a_ex, b_ex, n_ex_simpson38)\n",
        "\n",
        "# Nilai analitik tetap sama\n",
        "# analytical_result = 1.0 / 3.0\n",
        "\n",
        "# Hitung galat\n",
        "error_s38 = abs(integral_s38 - analytical_result)\n",
        "\n",
        "print(f\"\\n--- Contoh Kaidah Simpson 3/8 ---\")\n",
        "print(f\"Fungsi: f(x) = x^2\")\n",
        "print(f\"Batas: a={a_ex}, b={b_ex}\")\n",
        "print(f\"Jumlah subinterval (n): {n_ex_simpson38}\")\n",
        "print(f\"Hasil Integral Numerik (Simpson 3/8): {integral_s38:.8f}\")\n",
        "print(f\"Hasil Integral Analitik: {analytical_result:.8f}\")\n",
        "print(f\"Galat Absolut: {error_s38:.8f}\")"
      ]
    },
    {
      "cell_type": "markdown",
      "metadata": {},
      "source": [
        "## Analisis Galat (Error Analysis)"
      ]
    },
    {
      "cell_type": "markdown",
      "metadata": {},
      "source": [
        "Seperti yang telah disebutkan, tingkat keakuratan metode integrasi numerik diukur dari *orde galat* (error order) terhadap lebar subinterval $h$.\n",
        "\n",
        "*   **Kaidah Trapesium & Titik Tengah:** Galat $\\approx O(h^2)$.\n",
        "    *   Galat Trapesium per subinterval kira-kira: $-\\frac{h^3}{12} f''(\\xi)$, dengan $\\xi$ di antara $x_i$ dan $x_{i+1}$. Total galat $O(h^2)$.\n",
        "    *   Galat Titik Tengah per subinterval kira-kira: $\\frac{h^3}{24} f''(\\xi)$. Total galat $O(h^2)$. (Konstantanya setengah dari trapesium, seringkali lebih akurat).\n",
        "\n",
        "*   **Kaidah Simpson 1/3 & 3/8:** Galat $\\approx O(h^4)$.\n",
        "    *   Galat Simpson 1/3 (untuk 2 subinterval) kira-kira: $-\\frac{h^5}{90} f^{(4)}(\\xi)$. Total galat $O(h^4)$.\n",
        "    *   Galat Simpson 3/8 (untuk 3 subinterval) kira-kira: $-\\frac{3h^5}{80} f^{(4)}(\\xi)$. Total galat $O(h^4)$.\n",
        "\n",
        "**Implikasi:**\n",
        "Metode dengan orde galat yang lebih tinggi ($O(h^4)$ vs $O(h^2)$) akan menghasilkan nilai yang **mendekati nilai eksak (analitik) dengan lebih cepat** ketika jumlah subinterval $n$ diperbesar (atau $h$ diperkecil). Dengan kata lain, untuk mencapai tingkat akurasi yang sama, metode Simpson biasanya memerlukan jumlah subinterval $n$ yang jauh lebih sedikit dibandingkan metode Trapesium atau Titik Tengah."
      ]
    },
    {
      "cell_type": "markdown",
      "metadata": {},
      "source": [
        "## Kesimpulan"
      ]
    },
    {
      "cell_type": "markdown",
      "metadata": {},
      "source": [
        "Integrasi numerik menyediakan alat yang ampuh untuk menghitung nilai integral tentu ketika solusi analitik tidak praktis atau tidak mungkin ditemukan.\n",
        "\n",
        "Beberapa metode umum meliputi:\n",
        "1.  **Kaidah Trapesium:** Relatif sederhana, galat $O(h^2)$.\n",
        "2.  **Kaidah Titik Tengah:** Juga relatif sederhana, galat $O(h^2)$, seringkali lebih akurat dari Trapesium.\n",
        "3.  **Kaidah Simpson 1/3:** Lebih akurat (galat $O(h^4)$), membutuhkan jumlah subinterval $n$ genap.\n",
        "4.  **Kaidah Simpson 3/8:** Akurasi mirip Simpson 1/3 (galat $O(h^4)$), membutuhkan jumlah subinterval $n$ kelipatan 3.\n",
        "\n",
        "Pemilihan metode bergantung pada kebutuhan akurasi, kompleksitas implementasi, dan sifat fungsi yang diintegralkan. Metode orde lebih tinggi seperti Simpson umumnya lebih efisien untuk fungsi yang mulus (smooth) karena konvergensinya lebih cepat seiring penambahan jumlah subinterval."
      ]
    }
  ],
  "metadata": {
    "kernelspec": {
      "display_name": "Python 3",
      "language": "python",
      "name": "python3"
    },
    "language_info": {
      "codemirror_mode": {
        "name": "ipython",
        "version": 3
      },
      "file_extension": ".py",
      "mimetype": "text/x-python",
      "name": "python",
      "nbconvert_exporter": "python",
      "pygments_lexer": "ipython3",
      "version": "3.10.0"
    }
  },
  "nbformat": 4,
  "nbformat_minor": 2
}
