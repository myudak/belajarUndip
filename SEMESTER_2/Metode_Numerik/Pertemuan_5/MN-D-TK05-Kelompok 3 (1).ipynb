{
 "cells": [
  {
   "cell_type": "markdown",
   "metadata": {},
   "source": [
    "\n",
    "\n",
    "\n",
    "# Contoh Penerapan Diferensiasi Numerik dengan Python (Per Bagian)\n",
    "\n",
    "Notebook ini berisi contoh kode Python untuk mengimplementasikan dan menguji berbagai metode diferensiasi numerik, diuji per bagian.\n",
    "\n",
    "## **KELOMPOK 3**\n",
    "\n",
    "| NAMA                  | NIM          |\n",
    "|-----------------------|-------------|\n",
    "| M. Kemal Faza        | 24060124120013 |\n",
    "| M. Dimas Arya Putra  | 24060124130062 |\n",
    "| M. Akmal Fazli Riyadi | 24060124130123 |\n",
    "| M. Yuda Tri Ananda   | 24060124110142 |\n",
    "| M. Zaidaan Ardiansyah | 24060124140200 |\n",
    "\n",
    "Kita akan menggunakan fungsi $f(x) = \\sin(x)$ sebagai contoh, karena turunan analitiknya mudah dihitung:\n",
    "*   $f'(x) = \\cos(x)$\n",
    "*   $f''(x) = -\\sin(x)$\n",
    "*   $f'''(x) = -\\cos(x)$\n",
    "*   $f^{(4)}(x) = \\sin(x)$"
   ]
  },
  {
   "cell_type": "code",
   "execution_count": 1,
   "metadata": {},
   "outputs": [
    {
     "name": "stdout",
     "output_type": "stream",
     "text": [
      "Fungsi: f(x) = sin(x)\n",
      "Titik Uji: x0 = 0.7854\n",
      "Langkah: h = 0.1\n",
      "------------------------------\n"
     ]
    }
   ],
   "source": [
    "import numpy as np\n",
    "\n",
    "# Fungsi contoh dan turunan analitiknya\n",
    "def f(x):\n",
    "    return np.sin(x)\n",
    "\n",
    "def df_analytical(x):\n",
    "    return np.cos(x)\n",
    "\n",
    "def d2f_analytical(x):\n",
    "    return -np.sin(x)\n",
    "\n",
    "def d3f_analytical(x):\n",
    "    return -np.cos(x)\n",
    "\n",
    "def d4f_analytical(x):\n",
    "    return np.sin(x)\n",
    "\n",
    "# Titik dan langkah untuk pengujian\n",
    "x0 = np.pi / 4\n",
    "h = 0.1\n",
    "\n",
    "print(f\"Fungsi: f(x) = sin(x)\")\n",
    "print(f\"Titik Uji: x0 = {x0:.4f}\")\n",
    "print(f\"Langkah: h = {h}\")\n",
    "print(\"-\"*30)"
   ]
  },
  {
   "cell_type": "markdown",
   "metadata": {},
   "source": [
    "## 1. Metode Selisih Maju (Forward Difference)\n",
    "\n",
    "**Teori:**\n",
    "Metode ini menghampiri turunan menggunakan nilai fungsi pada titik saat ini ($x$) dan titik di depannya ($x+h$, $x+2h$, ...).\n",
    "\n",
    "*   **Turunan Pertama ($f'(x)$):**\n",
    "    *   Orde 1 (Error $O(h)$): $f'(x) \\approx \\frac{f(x+h) - f(x)}{h}$\n",
    "    *   Orde 2 (Error $O(h^2)$): $f'(x) \\approx \\frac{-f(x+2h) + 4f(x+h) - 3f(x)}{2h}$\n",
    "*   **Turunan Kedua ($f''(x)$):**\n",
    "    *   Orde 1 (Error $O(h)$): $f''(x) \\approx \\frac{f(x+2h) - 2f(x+h) + f(x)}{h^2}$"
   ]
  },
  {
   "cell_type": "code",
   "execution_count": 2,
   "metadata": {},
   "outputs": [
    {
     "name": "stdout",
     "output_type": "stream",
     "text": [
      "Fungsi Selisih Maju telah didefinisikan.\n"
     ]
    }
   ],
   "source": [
    "# Fungsi Selisih Maju\n",
    "\n",
    "# Turunan Pertama - Orde 1 (Error O(h))\n",
    "def forward_diff_f_prime_oh1(f, x, h):\n",
    "    return (f(x + h) - f(x)) / h\n",
    "\n",
    "# Turunan Pertama - Orde 2 (Error O(h^2))\n",
    "def forward_diff_f_prime_oh2(f, x, h):\n",
    "    return (-f(x + 2*h) + 4*f(x + h) - 3*f(x)) / (2 * h)\n",
    "\n",
    "# Turunan Kedua - Orde 1 (Error O(h))\n",
    "def forward_diff_f_double_prime_oh1(f, x, h):\n",
    "    return (f(x + 2*h) - 2*f(x + h) + f(x)) / (h**2)\n",
    "\n",
    "print(\"Fungsi Selisih Maju telah didefinisikan.\")"
   ]
  },
  {
   "cell_type": "code",
   "execution_count": 3,
   "metadata": {},
   "outputs": [
    {
     "name": "stdout",
     "output_type": "stream",
     "text": [
      "--- Pengujian Selisih Maju ---\n",
      "\n",
      "Turunan Pertama (Analitik = 0.70710678) \n",
      "Forward O(h):   0.67060297, Error: 3.65E-02\n",
      "Forward O(h^2): 0.70927908, Error: 2.17E-03\n",
      "\n",
      "Turunan Kedua (Analitik = -0.70710678) \n",
      "Forward O(h):   -0.77352215, Error: 6.64E-02\n",
      "------------------------------\n"
     ]
    }
   ],
   "source": [
    "# Pengujian Selisih Maju\n",
    "print(\"--- Pengujian Selisih Maju ---\")\n",
    "\n",
    "# Turunan Pertama\n",
    "analytical_val_1 = df_analytical(x0)\n",
    "print(f\"\\nTurunan Pertama (Analitik = {analytical_val_1:.8f}) \")\n",
    "fwd_p_oh1 = forward_diff_f_prime_oh1(f, x0, h)\n",
    "fwd_p_oh2 = forward_diff_f_prime_oh2(f, x0, h)\n",
    "print(f\"Forward O(h):   {fwd_p_oh1:.8f}, Error: {abs(fwd_p_oh1 - analytical_val_1):.2E}\")\n",
    "print(f\"Forward O(h^2): {fwd_p_oh2:.8f}, Error: {abs(fwd_p_oh2 - analytical_val_1):.2E}\")\n",
    "\n",
    "# Turunan Kedua\n",
    "analytical_val_2 = d2f_analytical(x0)\n",
    "print(f\"\\nTurunan Kedua (Analitik = {analytical_val_2:.8f}) \")\n",
    "fwd_pp_oh1 = forward_diff_f_double_prime_oh1(f, x0, h)\n",
    "print(f\"Forward O(h):   {fwd_pp_oh1:.8f}, Error: {abs(fwd_pp_oh1 - analytical_val_2):.2E}\")\n",
    "print(\"-\"*30)"
   ]
  },
  {
   "cell_type": "markdown",
   "metadata": {},
   "source": [
    "## 2. Metode Selisih Mundur (Backward Difference)\n",
    "\n",
    "**Teori:**\n",
    "Metode ini menghampiri turunan menggunakan nilai fungsi pada titik saat ini ($x$) dan titik di belakangnya ($x-h$, $x-2h$, ...).\n",
    "\n",
    "*   **Turunan Pertama ($f'(x)$):**\n",
    "    *   Orde 1 (Error $O(h)$): $f'(x) \\approx \\frac{f(x) - f(x-h)}{h}$\n",
    "    *   Orde 2 (Error $O(h^2)$): $f'(x) \\approx \\frac{3f(x) - 4f(x-h) + f(x-2h)}{2h}$\n",
    "*   **Turunan Kedua ($f''(x)$):**\n",
    "    *   Orde 1 (Error $O(h)$): $f''(x) \\approx \\frac{f(x) - 2f(x-h) + f(x-2h)}{h^2}$"
   ]
  },
  {
   "cell_type": "code",
   "execution_count": 4,
   "metadata": {},
   "outputs": [
    {
     "name": "stdout",
     "output_type": "stream",
     "text": [
      "Fungsi Selisih Mundur telah didefinisikan.\n"
     ]
    }
   ],
   "source": [
    "# Fungsi Selisih Mundur\n",
    "\n",
    "# Turunan Pertama - Orde 1 (Error O(h))\n",
    "def backward_diff_f_prime_oh1(f, x, h):\n",
    "    return (f(x) - f(x - h)) / h\n",
    "\n",
    "# Turunan Pertama - Orde 2 (Error O(h^2))\n",
    "def backward_diff_f_prime_oh2(f, x, h):\n",
    "    return (3*f(x) - 4*f(x - h) + f(x - 2*h)) / (2 * h)\n",
    "\n",
    "# Turunan Kedua - Orde 1 (Error O(h))\n",
    "def backward_diff_f_double_prime_oh1(f, x, h):\n",
    "    return (f(x) - 2*f(x - h) + f(x - 2*h)) / (h**2)\n",
    "\n",
    "print(\"Fungsi Selisih Mundur telah didefinisikan.\")"
   ]
  },
  {
   "cell_type": "code",
   "execution_count": 5,
   "metadata": {},
   "outputs": [
    {
     "name": "stdout",
     "output_type": "stream",
     "text": [
      "--- Pengujian Selisih Mundur ---\n",
      "\n",
      "Turunan Pertama (Analitik = 0.70710678) \n",
      "Backward O(h):  0.74125475, Error: 3.41E-02\n",
      "Backward O(h^2):0.70963205, Error: 2.53E-03\n",
      "\n",
      "Turunan Kedua (Analitik = -0.70710678) \n",
      "Backward O(h):  -0.63245400, Error: 7.47E-02\n",
      "------------------------------\n"
     ]
    }
   ],
   "source": [
    "# Pengujian Selisih Mundur\n",
    "print(\"--- Pengujian Selisih Mundur ---\")\n",
    "\n",
    "# Turunan Pertama\n",
    "analytical_val_1 = df_analytical(x0)\n",
    "print(f\"\\nTurunan Pertama (Analitik = {analytical_val_1:.8f}) \")\n",
    "bwd_p_oh1 = backward_diff_f_prime_oh1(f, x0, h)\n",
    "bwd_p_oh2 = backward_diff_f_prime_oh2(f, x0, h)\n",
    "print(f\"Backward O(h):  {bwd_p_oh1:.8f}, Error: {abs(bwd_p_oh1 - analytical_val_1):.2E}\")\n",
    "print(f\"Backward O(h^2):{bwd_p_oh2:.8f}, Error: {abs(bwd_p_oh2 - analytical_val_1):.2E}\")\n",
    "\n",
    "# Turunan Kedua\n",
    "analytical_val_2 = d2f_analytical(x0)\n",
    "print(f\"\\nTurunan Kedua (Analitik = {analytical_val_2:.8f}) \")\n",
    "bwd_pp_oh1 = backward_diff_f_double_prime_oh1(f, x0, h)\n",
    "print(f\"Backward O(h):  {bwd_pp_oh1:.8f}, Error: {abs(bwd_pp_oh1 - analytical_val_2):.2E}\")\n",
    "print(\"-\"*30)"
   ]
  },
  {
   "cell_type": "markdown",
   "metadata": {},
   "source": [
    "## 3. Metode Selisih Pusat (Central Difference)\n",
    "\n",
    "**Teori:**\n",
    "Metode ini menggunakan nilai fungsi secara simetris di sekitar titik $x$ (misal, $x-h$ dan $x+h$), menghasilkan akurasi yang lebih tinggi untuk orde yang sama dibandingkan selisih maju/mundur.\n",
    "\n",
    "*   **Turunan Pertama ($f'(x)$):**\n",
    "    *   Orde 2 (Error $O(h^2)$): $f'(x) \\approx \\frac{f(x+h) - f(x-h)}{2h}$\n",
    "    *   Orde 4 (Error $O(h^4)$): $f'(x) \\approx \\frac{-f(x+2h) + 8f(x+h) - 8f(x-h) + f(x-2h)}{12h}$\n",
    "*   **Turunan Kedua ($f''(x)$):**\n",
    "    *   Orde 2 (Error $O(h^2)$): $f''(x) \\approx \\frac{f(x+h) - 2f(x) + f(x-h)}{h^2}$\n",
    "    *   Orde 4 (Error $O(h^4)$): $f''(x) \\approx \\frac{-f(x+2h) + 16f(x+h) - 30f(x) + 16f(x-h) - f(x-2h)}{12h^2}$\n",
    "*   **Turunan Ketiga ($f'''(x)$):**\n",
    "    *   Orde 2 (Error $O(h^2)$): $f'''(x) \\approx \\frac{f(x+2h) - 2f(x+h) + 2f(x-h) - f(x-2h)}{2h^3}$\n",
    "*   **Turunan Keempat ($f^{(4)}(x)$):**\n",
    "    *   Orde 2 (Error $O(h^2)$): $f^{(4)}(x) \\approx \\frac{f(x+2h) - 4f(x+h) + 6f(x) - 4f(x-h) + f(x-2h)}{h^4}$"
   ]
  },
  {
   "cell_type": "code",
   "execution_count": 6,
   "metadata": {},
   "outputs": [
    {
     "name": "stdout",
     "output_type": "stream",
     "text": [
      "Fungsi Selisih Pusat telah didefinisikan.\n"
     ]
    }
   ],
   "source": [
    "# Fungsi Selisih Pusat\n",
    "\n",
    "# Turunan Pertama - Orde 2 (Error O(h^2))\n",
    "def central_diff_f_prime_oh2(f, x, h):\n",
    "    return (f(x + h) - f(x - h)) / (2 * h)\n",
    "\n",
    "# Turunan Pertama - Orde 4 (Error O(h^4))\n",
    "def central_diff_f_prime_oh4(f, x, h):\n",
    "    return (-f(x + 2*h) + 8*f(x + h) - 8*f(x - h) + f(x - 2*h)) / (12 * h)\n",
    "\n",
    "# Turunan Kedua - Orde 2 (Error O(h^2))\n",
    "def central_diff_f_double_prime_oh2(f, x, h):\n",
    "    return (f(x + h) - 2*f(x) + f(x - h)) / (h**2)\n",
    "\n",
    "# Turunan Kedua - Orde 4 (Error O(h^4))\n",
    "def central_diff_f_double_prime_oh4(f, x, h):\n",
    "    return (-f(x + 2*h) + 16*f(x + h) - 30*f(x) + 16*f(x - h) - f(x - 2*h)) / (12 * h**2)\n",
    "\n",
    "# Turunan Ketiga - Orde 2 (Error O(h^2))\n",
    "def central_diff_f_triple_prime_oh2(f, x, h):\n",
    "    return (f(x + 2*h) - 2*f(x + h) + 2*f(x - h) - f(x - 2*h)) / (2 * h**3)\n",
    "\n",
    "# Turunan Keempat - Orde 2 (Error O(h^2))\n",
    "def central_diff_f_fourth_prime_oh2(f, x, h):\n",
    "    return (f(x + 2*h) - 4*f(x + h) + 6*f(x) - 4*f(x - h) + f(x - 2*h)) / (h**4)\n",
    "\n",
    "print(\"Fungsi Selisih Pusat telah didefinisikan.\")"
   ]
  },
  {
   "cell_type": "code",
   "execution_count": 7,
   "metadata": {},
   "outputs": [
    {
     "name": "stdout",
     "output_type": "stream",
     "text": [
      "--- Pengujian Selisih Pusat ---\n",
      "\n",
      "Turunan Pertama (Analitik = 0.70710678)\n",
      "Central O(h^2): 0.70592886, Error: 1.18E-03\n",
      "Central O(h^4): 0.70710443, Error: 2.35E-06\n",
      "\n",
      "Turunan Kedua (Analitik = -0.70710678)\n",
      "Central O(h^2): -0.70651772, Error: 5.89E-04\n",
      "Central O(h^4): -0.70710600, Error: 7.85E-07\n",
      "\n",
      "Turunan Ketiga (Analitik = -0.70710678)\n",
      "Central O(h^2): -0.70534078, Error: 1.77E-03\n",
      "\n",
      "Turunan Keempat (Analitik = 0.70710678)\n",
      "Central O(h^2): 0.70592915, Error: 1.18E-03\n",
      "------------------------------\n"
     ]
    }
   ],
   "source": [
    "# Pengujian Selisih Pusat\n",
    "print(\"--- Pengujian Selisih Pusat ---\")\n",
    "\n",
    "# Turunan Pertama\n",
    "analytical_val_1 = df_analytical(x0)\n",
    "print(f\"\\nTurunan Pertama (Analitik = {analytical_val_1:.8f})\")\n",
    "cen_p_oh2 = central_diff_f_prime_oh2(f, x0, h)\n",
    "cen_p_oh4 = central_diff_f_prime_oh4(f, x0, h)\n",
    "print(f\"Central O(h^2): {cen_p_oh2:.8f}, Error: {abs(cen_p_oh2 - analytical_val_1):.2E}\")\n",
    "print(f\"Central O(h^4): {cen_p_oh4:.8f}, Error: {abs(cen_p_oh4 - analytical_val_1):.2E}\")\n",
    "\n",
    "# Turunan Kedua\n",
    "analytical_val_2 = d2f_analytical(x0)\n",
    "print(f\"\\nTurunan Kedua (Analitik = {analytical_val_2:.8f})\")\n",
    "cen_pp_oh2 = central_diff_f_double_prime_oh2(f, x0, h)\n",
    "cen_pp_oh4 = central_diff_f_double_prime_oh4(f, x0, h)\n",
    "print(f\"Central O(h^2): {cen_pp_oh2:.8f}, Error: {abs(cen_pp_oh2 - analytical_val_2):.2E}\")\n",
    "print(f\"Central O(h^4): {cen_pp_oh4:.8f}, Error: {abs(cen_pp_oh4 - analytical_val_2):.2E}\")\n",
    "\n",
    "# Turunan Ketiga\n",
    "analytical_val_3 = d3f_analytical(x0)\n",
    "print(f\"\\nTurunan Ketiga (Analitik = {analytical_val_3:.8f})\")\n",
    "cen_ppp_oh2 = central_diff_f_triple_prime_oh2(f, x0, h)\n",
    "print(f\"Central O(h^2): {cen_ppp_oh2:.8f}, Error: {abs(cen_ppp_oh2 - analytical_val_3):.2E}\")\n",
    "\n",
    "# Turunan Keempat\n",
    "analytical_val_4 = d4f_analytical(x0)\n",
    "print(f\"\\nTurunan Keempat (Analitik = {analytical_val_4:.8f})\")\n",
    "cen_pppp_oh2 = central_diff_f_fourth_prime_oh2(f, x0, h)\n",
    "print(f\"Central O(h^2): {cen_pppp_oh2:.8f}, Error: {abs(cen_pppp_oh2 - analytical_val_4):.2E}\")\n",
    "print(\"-\"*30)"
   ]
  },
  {
   "cell_type": "markdown",
   "metadata": {},
   "source": [
    "## 4. Ekstrapolasi Richardson\n",
    "\n",
    "**Teori:**\n",
    "Teknik ini mengkombinasikan dua hampiran turunan yang dihitung dengan langkah berbeda ($h$ dan $2h$) untuk mengeliminasi suku error orde terendah, sehingga menghasilkan hampiran yang lebih akurat.\n",
    "\n",
    "Jika $D(h)$ adalah hampiran dengan error $O(h^n)$, maka hampiran yang lebih baik (dengan error orde lebih tinggi) adalah:\n",
    "$$ D_{\\text{improved}} = D(h) + \\frac{D(h) - D(2h)}{2^n - 1} $$"
   ]
  },
  {
   "cell_type": "code",
   "execution_count": 8,
   "metadata": {},
   "outputs": [
    {
     "name": "stdout",
     "output_type": "stream",
     "text": [
      "Fungsi Ekstrapolasi Richardson telah didefinisikan.\n"
     ]
    }
   ],
   "source": [
    "# Fungsi Ekstrapolasi Richardson\n",
    "\n",
    "def richardson_extrapolation(f, x, h, method_func, n):\n",
    "    \"\"\"\n",
    "    Menerapkan Ekstrapolasi Richardson.\n",
    "    \n",
    "    Args:\n",
    "        f: Fungsi yang akan didiferensiasi.\n",
    "        x: Titik diferensiasi.\n",
    "        h: Langkah dasar.\n",
    "        method_func: Fungsi metode dasar (misal, central_diff_f_prime_oh2).\n",
    "                       Fungsi ini harus menerima (f, x, h) sebagai argumen.\n",
    "        n: Orde error dari method_func (misal, 2 untuk O(h^2)).\n",
    "        \n",
    "    Returns:\n",
    "        Hampiran turunan yang lebih akurat.\n",
    "    \"\"\"\n",
    "    Dh = method_func(f, x, h)       # Hitung D(h)\n",
    "    D2h = method_func(f, x, 2*h)    # Hitung D(2h)\n",
    "    \n",
    "    # Rumus: D_improved = D(h) + (D(h) - D(2h)) / (2^n - 1)\n",
    "    improved_approx = Dh + (Dh - D2h) / (2**n - 1)\n",
    "    \n",
    "    return improved_approx\n",
    "\n",
    "print(\"Fungsi Ekstrapolasi Richardson telah didefinisikan.\")"
   ]
  },
  {
   "cell_type": "code",
   "execution_count": 9,
   "metadata": {},
   "outputs": [
    {
     "name": "stdout",
     "output_type": "stream",
     "text": [
      "--- Pengujian Ekstrapolasi Richardson ---\n",
      "\n",
      "Turunan Pertama (Analitik = 0.70710678)\n",
      "Hasil Dasar (Central O(h^2)): 0.70592886, Error: 1.18E-03\n",
      "Hasil Richardson (dari O(h^2)): 0.70710443, Error: 2.35E-06\n",
      "Hasil Langsung (Central O(h^4)): 0.70710443, Error: 2.35E-06\n",
      "\n",
      "Turunan Kedua (Analitik = -0.70710678)\n",
      "Hasil Dasar (Central O(h^2)):   -0.70651772, Error: 5.89E-04\n",
      "Hasil Richardson (dari O(h^2)): -0.70710600, Error: 7.85E-07\n",
      "Hasil Langsung (Central O(h^4)): -0.70710600, Error: 7.85E-07\n",
      "------------------------------\n"
     ]
    }
   ],
   "source": [
    "# Pengujian Ekstrapolasi Richardson\n",
    "print(\"--- Pengujian Ekstrapolasi Richardson ---\")\n",
    "\n",
    "# Tingkatkan akurasi Central Difference O(h^2) untuk Turunan Pertama (n=2)\n",
    "analytical_val_1 = df_analytical(x0)\n",
    "print(f\"\\nTurunan Pertama (Analitik = {analytical_val_1:.8f})\")\n",
    "base_method_p_val = central_diff_f_prime_oh2(f, x0, h) # Nilai D(h)\n",
    "richardson_p_val = richardson_extrapolation(f, x0, h, central_diff_f_prime_oh2, n=2)\n",
    "direct_oh4_p_val = central_diff_f_prime_oh4(f, x0, h) # Nilai O(h^4) langsung\n",
    "\n",
    "print(f\"Hasil Dasar (Central O(h^2)): {base_method_p_val:.8f}, Error: {abs(base_method_p_val - analytical_val_1):.2E}\")\n",
    "print(f\"Hasil Richardson (dari O(h^2)): {richardson_p_val:.8f}, Error: {abs(richardson_p_val - analytical_val_1):.2E}\")\n",
    "print(f\"Hasil Langsung (Central O(h^4)): {direct_oh4_p_val:.8f}, Error: {abs(direct_oh4_p_val - analytical_val_1):.2E}\")\n",
    "\n",
    "# Tingkatkan akurasi Central Difference O(h^2) untuk Turunan Kedua (n=2)\n",
    "analytical_val_2 = d2f_analytical(x0)\n",
    "print(f\"\\nTurunan Kedua (Analitik = {analytical_val_2:.8f})\")\n",
    "base_method_pp_val = central_diff_f_double_prime_oh2(f, x0, h) # Nilai D(h)\n",
    "richardson_pp_val = richardson_extrapolation(f, x0, h, central_diff_f_double_prime_oh2, n=2)\n",
    "direct_oh4_pp_val = central_diff_f_double_prime_oh4(f, x0, h) # Nilai O(h^4) langsung\n",
    "\n",
    "print(f\"Hasil Dasar (Central O(h^2)):   {base_method_pp_val:.8f}, Error: {abs(base_method_pp_val - analytical_val_2):.2E}\")\n",
    "print(f\"Hasil Richardson (dari O(h^2)): {richardson_pp_val:.8f}, Error: {abs(richardson_pp_val - analytical_val_2):.2E}\")\n",
    "print(f\"Hasil Langsung (Central O(h^4)): {direct_oh4_pp_val:.8f}, Error: {abs(direct_oh4_pp_val - analytical_val_2):.2E}\")\n",
    "print(\"-\"*30)"
   ]
  },
  {
   "cell_type": "markdown",
   "metadata": {},
   "source": [
    "## 5. Kesimpulan\n",
    "\n",
    "Dari pengujian yang dilakukan pada fungsi $f(x) = \\sin(x)$ di $x_0 = \\pi/4$ dengan $h=0.1$, dapat disimpulkan:\n",
    "\n",
    "1.  **Orde Akurasi:** Metode dengan orde error teoritis yang lebih tinggi (misalnya $O(h^2)$ vs $O(h)$, atau $O(h^4)$ vs $O(h^2)$) secara konsisten menghasilkan error numerik yang lebih kecil untuk nilai $h$ yang sama.\n",
    "2.  **Jenis Metode:** Untuk orde akurasi yang sama (misal $O(h^2)$), metode Selisih Pusat umumnya memberikan hasil yang lebih akurat (error lebih kecil) dibandingkan Selisih Maju atau Selisih Mundur.\n",
    "3.  **Turunan Orde Tinggi:** Menghitung turunan orde tinggi secara numerik cenderung lebih sensitif terhadap error. Meskipun demikian, rumus Selisih Pusat tetap memberikan hampiran yang baik.\n",
    "4.  **Ekstrapolasi Richardson:** Teknik ini terbukti efektif dalam meningkatkan akurasi hampiran turunan. Dengan menggunakan dua hasil dari metode orde rendah (misalnya $O(h^2)$) yang dihitung pada langkah $h$ dan $2h$, kita dapat memperoleh hampiran baru dengan orde akurasi yang lebih tinggi (misalnya $O(h^4)$), yang hasilnya sangat mendekati perhitungan langsung dengan rumus orde tinggi tersebut.\n",
    "\n",
    "Pemilihan metode diferensiasi numerik bergantung pada kebutuhan akurasi, ketersediaan titik data (apakah bisa menggunakan titik di depan dan belakang), dan kompleksitas komputasi yang dapat diterima."
   ]
  }
 ],
 "metadata": {
  "kernelspec": {
   "display_name": "Python 3",
   "language": "python",
   "name": "python3"
  },
  "language_info": {
   "codemirror_mode": {
    "name": "ipython",
    "version": 3
   },
   "file_extension": ".py",
   "mimetype": "text/x-python",
   "name": "python",
   "nbconvert_exporter": "python",
   "pygments_lexer": "ipython3",
   "version": "3.10.0"
  }
 },
 "nbformat": 4,
 "nbformat_minor": 4
}
