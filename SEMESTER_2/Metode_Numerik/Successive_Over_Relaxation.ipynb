{
  "cells": [
    {
      "cell_type": "markdown",
      "metadata": {
        "id": "CcHo-aWpSPvl"
      },
      "source": [
        "# Tugas Metode Numerik - Penyelesaian SPL dengan Metode Relaksasi\n",
        "\n",
        "**Kelompok 3 - Kelas D Informatika**"
      ]
    },
    {
      "cell_type": "markdown",
      "metadata": {},
      "source": [
        "## Anggota Kelompok\n",
        "\n",
        "-  Muchammad Yuda Tri Ananda (24060124110142)\n",
        "-  Novelya Cherina (24060124140174) \n",
        "-  Nashwa Aldebaran (24060124140150)"
      ]
    },
    {
      "cell_type": "markdown",
      "metadata": {
        "id": "J8OXjqr1O8jk"
      },
      "source": [
        "# Metode Relaksasi (Successive Over Relaxation - SOR)\n",
        "\n",
        "Successive Over Relaxation (SOR) merupakan varian dari Metode Gauss-Siedel yang dapat digunakan untuk meningkatkan konvergensi. Cara kerjanya adalah mengambil estimasi $k$ dari Gauss-Siedel untuk memperoleh estimasi $k+1$ menggunakan parameter relaksasi ω (menentukan sejauh mana estimasi baru didasarkan pada estimasi sebelumnya).\n",
        "\n",
        "𝜔 ∈ (0,2) → faktor relaksasi\n",
        "- 𝜔 = 1, sama dengan Gauss Seidel\n",
        "- 𝜔 > 1, over relaksasi (SOR) → konvergensi cepat\n",
        "- 𝜔 < 1, under relaksasi (SUR) → konvergensi stabil\n",
        "\n",
        "Dalam metode SOR kita gunakan konvergensi cepat dengan tujuan mendapatkan hasil yang konvergen.\n",
        "\n",
        "Persamaan SOR sebagai berikut.\n",
        "\n",
        "$$x_i^{(k+1)}=(1-ω) x_i^{(k)}+\\frac{ω}{a_{ii}}(b_i - \\sum_{j<i} a_{ij}x_j^{(k+1)} - \\sum_{j>i} a_{ij}x_j^{(k)})$$\n",
        "\n",
        "Atau bisa juga ditulis sebagai:\n",
        "$$x^{(k+1)}=(1-ω) x^{(k)}+ω∙[Persamaan GS]$$\n",
        "Dimana $[Persamaan GS]$ adalah ekspresi untuk $x_i$ dari metode Gauss-Seidel."
      ]
    },
    {
      "cell_type": "markdown",
      "metadata": {
        "id": "Txhw_e2bSg1_"
      },
      "source": [
        "## Contoh Kasus: Load Balancing Server\n",
        "\n",
        "Diberikan sebuah kasus Load Balancing pada jaringan komputer. Sebuah sistem cloud terdiri dari dua server utama: Server A dan Server B, yang bekerja secara paralel untuk menangani permintaan pengguna dari dua aplikasi besar, App1 dan App2.\n",
        "\n",
        "- Untuk App1, beban kerja didominasi oleh Server A, dengan rasio alokasi 10:1 terhadap Server B. Total beban App1 adalah 27 unit.\n",
        "- Untuk App2, beban kerja didominasi oleh Server B, dengan rasio alokasi 1:10 terhadap Server A. Total beban App2 adalah 29 unit.\n",
        "\n",
        "Tentukan beban ideal pada setiap Unit!\n",
        "\n",
        "Misal:\n",
        "- `x` = beban kerja (unit) yang ditangani Server A\n",
        "- `y` = beban kerja (unit) yang ditangani Server B\n",
        "\n",
        "Maka Sistem Persamaan Linier (SPL) nya adalah:\n",
        "$$10x + y = 27$$\n",
        "$$x + 10y = 29$$"
      ]
    },
    {
      "cell_type": "markdown",
      "metadata": {
        "id": "Y4v7BeIHVNQi"
      },
      "source": [
        "## Langkah 1 - Ubah dalam bentuk persamaan Gauss-Seidel\n",
        "\n",
        "Dari SPL:\n",
        "$$10x + y = 27 \\quad (1)$$\n",
        "$$x + 10y = 29 \\quad (2)$$\n",
        "\n",
        "Kita dapat mengekspresikan x dari persamaan (1) dan y dari persamaan (2) sebagai berikut:\n",
        "$$x = \\frac{27 - y}{10}$$\n",
        "$$y = \\frac{29 - x}{10}$$\n",
        "\n",
        "Dalam bentuk iteratif Gauss-Seidel, persamaannya menjadi:\n",
        "$$x^{(k+1)} = \\frac{27 - y^{(k)}}{10}$$\n",
        "$$y^{(k+1)} = \\frac{29 - x^{(k+1)}}{10}$$"
      ]
    },
    {
      "cell_type": "code",
      "execution_count": null,
      "metadata": {
        "id": "UebZTs8-VdT4"
      },
      "outputs": [],
      "source": [
        "# Definisikan fungsi untuk bagian Gauss-Seidel dari persamaan SOR\n",
        "f1_gs = lambda x,y: (27 - y) / 10\n",
        "f2_gs = lambda x,y: (29 - x) / 10"
      ]
    },
    {
      "cell_type": "markdown",
      "metadata": {
        "id": "wTrN60kUVuPS"
      },
      "source": [
        "## Langkah 2 - Inisialisasi $k=0$\n",
        "\n",
        "Inisialisasikan nilai awal, dimana:\n",
        "$$x^{(0)} = 0$$\n",
        "$$y^{(0)} = 0$$"
      ]
    },
    {
      "cell_type": "markdown",
      "metadata": {
        "id": "_yZckzwFWhrl"
      },
      "source": [
        "## Langkah 3 - Susun dalam bentuk persamaan SOR\n",
        "\n",
        "Dengan persamaan SOR:\n",
        "$$x_i^{(k+1)}=(1-ω) x_i^{(k)}+ω∙[Persamaan\\ GS_i]$$\n",
        "\n",
        "Kita kemudian memasukkan persamaan Gauss-Seidel yang sudah kita buat sebelumnya, menjadi seperti berikut.\n",
        "$$x^{(k+1)}=(1-ω) x^{(k)}+ω\\left[\\frac{27-y^{(k)}}{10}\\right]$$\n",
        "$$y^{(k+1)}=(1-ω) y^{(k)}+ω\\left[\\frac{29-x^{(k+1)}}{10}\\right]$$\n",
        "(Perhatikan bahwa untuk $y^{(k+1)}$, kita menggunakan nilai $x^{(k+1)}$ yang baru saja dihitung pada iterasi yang sama)."
      ]
    },
    {
      "cell_type": "markdown",
      "metadata": {
        "id": "AE6N9FlFWrZC"
      },
      "source": [
        "## Langkah 4 - Iterasi (Contoh Manual)\n",
        "\n",
        "Kita misalkan $ω=1.05$ sehingga bentuk persamaan menjadi seperti berikut.\n",
        "$$x^{(k+1)}=(1-1.05) x^{(k)}+1.05\\left[\\frac{27-y^{(k)}}{10}\\right] = -0.05 x^{(k)} + 1.05\\left[\\frac{27-y^{(k)}}{10}\\right]$$\n",
        "$$y^{(k+1)}=(1-1.05) y^{(k)}+1.05\\left[\\frac{29-x^{(k+1)}}{10}\\right] = -0.05 y^{(k)} + 1.05\\left[\\frac{29-x^{(k+1)}}{10}\\right]$$"
      ]
    },
    {
      "cell_type": "markdown",
      "metadata": {
        "id": "TX2BkWtdgLSB"
      },
      "source": [
        "### Iterasi 1\n",
        "Dengan $x^{(0)} = 0$ dan $y^{(0)} = 0$, dan $ω=1.05$:\n",
        "\n",
        "Nilai x:\n",
        "$$x^{(1)} = -0.05 x^{(0)} + 1.05\\left[\\frac{27-y^{(0)}}{10}\\right]$$\n",
        "$$x^{(1)} = -0.05(0) + 1.05\\left[\\frac{27-0}{10}\\right] = 1.05 \\times 2.7 = 2.835$$\n",
        "\n",
        "Nilai y (menggunakan $x^{(1)}=2.835$):\n",
        "$$y^{(1)} = -0.05 y^{(0)} + 1.05\\left[\\frac{29-x^{(1)}}{10}\\right]$$\n",
        "$$y^{(1)} = -0.05(0) + 1.05\\left[\\frac{29-2.835}{10}\\right] = 1.05\\left[\\frac{26.165}{10}\\right] = 1.05 \\times 2.6165 = 2.747325$$"
      ]
    },
    {
      "cell_type": "markdown",
      "metadata": {
        "id": "xtf_m0MDgMpL"
      },
      "source": [
        "### Iterasi 2\n",
        "Dengan $x^{(1)} = 2.835$ dan $y^{(1)} = 2.747325$, dan $ω=1.05$:\n",
        "\n",
        "Nilai x:\n",
        "$$x^{(2)} = -0.05 x^{(1)} + 1.05\\left[\\frac{27-y^{(1)}}{10}\\right]$$\n",
        "$$x^{(2)} = -0.05(2.835) + 1.05\\left[\\frac{27-2.747325}{10}\\right] = -0.14175 + 1.05\\left[\\frac{24.252675}{10}\\right]$$\n",
        "$$x^{(2)} = -0.14175 + 1.05 \\times 2.4252675 = -0.14175 + 2.546530875 = 2.404780875$$\n",
        "\n",
        "Nilai y (menggunakan $x^{(2)}=2.404780875$):\n",
        "$$y^{(2)} = -0.05 y^{(1)} + 1.05\\left[\\frac{29-x^{(2)}}{10}\\right]$$\n",
        "$$y^{(2)} = -0.05(2.747325) + 1.05\\left[\\frac{29-2.404780875}{10}\\right] = -0.13736625 + 1.05\\left[\\frac{26.595219125}{10}\\right]$$\n",
        "$$y^{(2)} = -0.13736625 + 1.05 \\times 2.6595219125 = -0.13736625 + 2.792498008125 = 2.655131758125$$"
      ]
    },
    {
      "cell_type": "markdown",
      "metadata": {
        "id": "pkbpFu7HhgZf"
      },
      "source": [
        "Iterasi dilanjutkan terus hingga mencapai toleransi error yang diinginkan (misalnya, $e < 0.001$).\n",
        "\n",
        "Untuk ringkasnya kita gunakan kode program berikut."
      ]
    },
    {
      "cell_type": "code",
      "execution_count": null,
      "metadata": {
        "colab": {
          "base_uri": "https://localhost:8080/"
        },
        "id": "jxOqhBzSJmqJ",
        "outputId": "693c6892-a3de-4c26-b7ce-3f98e1105303"
      },
      "outputs": [
        {
          "name": "stdout",
          "output_type": "stream",
          "text": [
            "Masukkan nilai toleransi error: 0.0001\n",
            "Masukkan nilai faktor relaksasi: 1.05\n",
            "\n",
            "Iterasi\tx\ty\n",
            "\n",
            "1\t2.8350\t2.7473\n",
            "\n",
            "2\t2.4048\t2.6551\n",
            "\n",
            "3\t2.4350\t2.6566\n",
            "\n",
            "4\t2.4343\t2.6566\n",
            "\n",
            "5\t2.4343\t2.6566\n",
            "\n",
            "\n",
            "Beban kerja: Server A (x) = 2.434, Server B (y) = 2.657\n",
            "\n"
          ]
        }
      ],
      "source": [
        "# Inisialisasi\n",
        "x0 = 0.0\n",
        "y0 = 0.0\n",
        "iter_count = 1 # Diubah dari 'iter' untuk menghindari konflik dengan fungsi bawaan\n",
        "\n",
        "# Definisikan ulang fungsi GS di dalam scope ini agar jelas\n",
        "f1_gs_calc = lambda x_curr, y_curr: (27.0 - y_curr) / 10.0\n",
        "f2_gs_calc = lambda x_curr, y_curr: (29.0 - x_curr) / 10.0 # y_curr tidak digunakan di sini, x_curr adalah yang terpenting\n",
        "\n",
        "# Masukan toleransi eror dan faktor relaksasi\n",
        "e = float(input(\"Masukkan nilai toleransi error: \"))\n",
        "w = float(input(\"Masukkan nilai faktor relaksasi: \"))\n",
        "\n",
        "# SOR\n",
        "print('\\nIterasi\\tx\\ty\\n')\n",
        "\n",
        "condition = True\n",
        "max_iter = 100 # Tambahkan batas maksimum iterasi untuk mencegah loop tak terbatas\n",
        "\n",
        "while condition and iter_count <= max_iter:\n",
        "    # Hitung x1 menggunakan y0 (nilai y dari iterasi sebelumnya)\n",
        "    x1 = (1 - w) * x0 + w * f1_gs_calc(x0, y0) \n",
        "    # Hitung y1 menggunakan x1 (nilai x yang baru dihitung pada iterasi ini)\n",
        "    y1 = (1 - w) * y0 + w * f2_gs_calc(x1, y0) # y0 di f2_gs_calc tidak dipakai, x1 yang dipakai\n",
        "    \n",
        "    print('%d\\t%0.4f\\t%0.4f\\n' %(iter_count, x1, y1))\n",
        "    \n",
        "    # Cek konvergensi\n",
        "    # Menggunakan norma maksimum dari perbedaan relatif atau absolut\n",
        "    # Di sini kita gunakan perbedaan absolut seperti pada contoh sebelumnya\n",
        "    e1 = abs(x0 - x1)\n",
        "    e2 = abs(y0 - y1)\n",
        "    \n",
        "    iter_count += 1\n",
        "    x0 = x1\n",
        "    y0 = y1\n",
        "    \n",
        "    condition = (e1 > e or e2 > e) # Lanjutkan jika salah satu error masih di atas toleransi\n",
        "\n",
        "if iter_count > max_iter and condition:\n",
        "    print(\"\\nMetode tidak konvergen dalam %d iterasi.\" % max_iter)\n",
        "print('\\nBeban kerja: Server A (x) = %0.3f, Server B (y) = %0.3f\\n'% (x1, y1))"
      ]
    },
    {
      "cell_type": "markdown",
      "metadata": {
        "id": "TvP_-7KU54Sl"
      },
      "source": [
        "## Pertanyaan\n",
        "\n",
        "Lalu bagaimana jika kita mengubah nilai toleransi error dan faktor relaksasinya pada persamaan yang sama? Apakah hasil akan berbeda?\n",
        "\n",
        "Gunakan kode di atas untuk menemukan jawabannya."
      ]
    },
    {
      "cell_type": "markdown",
      "metadata": {
        "id": "dbdqWS5wFJmC"
      },
      "source": [
        "### Hasil pengamatan (untuk kasus Load Balancing)\n",
        "\n",
        "Solusi analitik untuk sistem ini adalah:\n",
        "$10x + y = 27$\n",
        "$x + 10y = 29$\n",
        "Dari (1), $y = 27 - 10x$. Substitusi ke (2):\n",
        "$x + 10(27 - 10x) = 29$\n",
        "$x + 270 - 100x = 29$\n",
        "$-99x = -241$\n",
        "$x = 241/99 \\approx 2.434343...$\n",
        "$y = 27 - 10(241/99) = (2673 - 2410)/99 = 263/99 \\approx 2.656565...$\n",
        "\n",
        "Beberapa percobaan dari kode program di atas untuk kasus Load Balancing dapat dirangkum sebagai berikut (hasil mungkin sedikit bervariasi tergantung implementasi error check yang presisi):\n",
        "\n",
        "| e (Toleransi) | ω (Relaksasi) | → | x (Server A) | y (Server B) | Iterasi |\n",
        "|---|---|---|---|---|---|\n",
        "| 0.01 | 1.0 (Gauss-Seidel) |  | 2.43 | 2.66 | 6-7 |\n",
        "| 0.01 | 1.05 |  | 2.43 | 2.66 | 5-6 |\n",
        "| 0.01 | 1.1 |  | 2.43 | 2.66 | 6-7 |\n",
        "| 0.01 | 0.9 |  | 2.44 | 2.66 | 8-9 |\n",
        "| 0.001 | 1.05 |  | 2.434 | 2.657 | 7-8 |\n",
        "| 0.001 | 1.07 (optimal teoritis untuk matriks ini sekitar 1.07-1.08) |  | 2.434 | 2.657 | 6-7 |\n",
        "| 0.0001 | 1.05 |  | 2.4343 | 2.6566 | 9-10 |\n",
        "| 0.0001 | 1.07 |  | 2.4343 | 2.6566 | 8-9 |\n",
        "\n",
        "Dari semua data tersebut, bisa kita lihat bahwa nilai x dan y berada di kisaran $x \\approx 2.434$ dan $y \\approx 2.657$.\n",
        "\n",
        "Jika melihat jumlah iterasi, nilai ω yang optimal (memberikan iterasi paling sedikit untuk akurasi tertentu) untuk sistem ini tampaknya berada sedikit di atas 1.0, misalnya sekitar 1.05 hingga 1.08. Nilai ω = 1.0 (Gauss-Seidel) konvergen, tetapi over-relaxation (ω > 1) dapat mempercepatnya. Under-relaxation (ω < 1) cenderung memperlambat konvergensi untuk sistem ini."
      ]
    },
    {
      "cell_type": "markdown",
      "metadata": {
        "id": "GSO2YlliJQQ4"
      },
      "source": [
        "### Kesimpulan\n",
        "\n",
        "Perubahan nilai toleransi error (e) dan faktor relaksasi (ω) pada metode SOR memengaruhi akurasi dan jumlah iterasinya, yaitu:\n",
        "- Semakin kecil nilai **e (toleransi error)**, semakin akurat hasilnya, tetapi umumnya membutuhkan **lebih banyak iterasi**.\n",
        "- Nilai **ω (faktor relaksasi)** sangat mempengaruhi kecepatan konvergensi:\n",
        "  - **ω = 1** (Metode Gauss-Seidel) memberikan kecepatan konvergensi dasar.\n",
        "  - **1 < ω < 2** (Over-relaxation) dapat mempercepat konvergensi secara signifikan jika ω dipilih mendekati nilai optimalnya. Untuk kasus ini, ω sekitar 1.05 - 1.08 tampaknya efektif.\n",
        "  - **0 < ω < 1** (Under-relaxation) umumnya memperlambat konvergensi untuk sistem yang sudah konvergen dengan baik menggunakan Gauss-Seidel, tetapi bisa membantu untuk sistem yang sulit konvergen.\n",
        "  - Memilih ω yang terlalu besar (mendekati 2 atau lebih) atau terlalu jauh dari optimal dapat memperlambat konvergensi atau bahkan menyebabkannya divergen.\n",
        "\n",
        "Untuk kasus Load Balancing ini, solusi yang ditemukan adalah:\n",
        "- **Beban kerja Server A (x) ≈ 2.434 unit**\n",
        "- **Beban kerja Server B (y) ≈ 2.657 unit**\n",
        "\n",
        "Nilai paling akurat bisa didapat jika:\n",
        "- Hasil konvergen ke nilai stabil yang konsisten pada beberapa iterasi terakhir.\n",
        "- Toleransi error (e) yang kecil digunakan.\n",
        "- Faktor relaksasi (ω) dipilih secara optimal untuk meminimalkan jumlah iterasi sambil tetap memastikan konvergensi."
      ]
    }
  ],
  "metadata": {
    "colab": {
      "provenance": []
    },
    "kernelspec": {
      "display_name": "Python 3",
      "name": "python3"
    },
    "language_info": {
      "name": "python"
    }
  },
  "nbformat": 4,
  "nbformat_minor": 0
}
