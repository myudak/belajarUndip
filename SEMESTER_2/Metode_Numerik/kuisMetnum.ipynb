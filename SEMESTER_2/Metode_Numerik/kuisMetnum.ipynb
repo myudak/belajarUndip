{
 "cells": [
  {
   "cell_type": "markdown",
   "metadata": {},
   "source": [
    "### MUCHAMMAD YUDA TRI ANANDA\n",
    "### NIM : 24060124110142\n",
    "### NIM (5 digit terakhir) : 10142 "
   ]
  },
  {
   "cell_type": "markdown",
   "metadata": {},
   "source": [
    "## NOMER 1"
   ]
  },
  {
   "cell_type": "markdown",
   "metadata": {},
   "source": [
    "- **1. Diketahui :**  $f(x) = x^3 - 347.C$ dimana $C$ adalah 3 digit terakhir dari NIM Saudara. Misalkan digunakan metode Newton dengan mempertimbangkan pendekatan nilai awal pada $x = 9.0$. Uraikan perhitungan akar dari fungsi tersebut dengan ketelitian 3 desimal di belakang koma dan hitung galat aproksimasi relatif absolutnya!"
   ]
  },
  {
   "cell_type": "code",
   "execution_count": 11,
   "metadata": {},
   "outputs": [
    {
     "name": "stdout",
     "output_type": "stream",
     "text": [
      "Iterasi 1:\n",
      "x_old = 9.000000\n",
      "f(x_old) = -48545.000000\n",
      "f'(x_old) = 243.000000\n",
      "x_new = 208.773663\n",
      "Galat = 95.689111%\n",
      "----------------------\n",
      "Iterasi 2:\n",
      "x_old = 208.773663\n",
      "f(x_old) = 9050427.170491\n",
      "f'(x_old) = 130759.326525\n",
      "x_new = 139.559271\n",
      "Galat = 49.594979%\n",
      "----------------------\n",
      "Iterasi 3:\n",
      "x_old = 139.559271\n",
      "f(x_old) = 2668892.655271\n",
      "f'(x_old) = 58430.370716\n",
      "x_new = 93.882809\n",
      "Galat = 48.652638%\n",
      "----------------------\n",
      "Iterasi 4:\n",
      "x_old = 93.882809\n",
      "f(x_old) = 778207.361778\n",
      "f'(x_old) = 26441.945254\n",
      "x_new = 64.452018\n",
      "Galat = 45.663102%\n",
      "----------------------\n",
      "Iterasi 5:\n",
      "x_old = 64.452018\n",
      "f(x_old) = 218463.715317\n",
      "f'(x_old) = 12462.187758\n",
      "x_new = 46.921892\n",
      "Galat = 37.360227%\n",
      "----------------------\n",
      "Iterasi 6:\n",
      "x_old = 46.921892\n",
      "f(x_old) = 54032.239403\n",
      "f'(x_old) = 6604.991905\n",
      "x_new = 38.741377\n",
      "Galat = 21.115707%\n",
      "----------------------\n",
      "Iterasi 7:\n",
      "x_old = 38.741377\n",
      "f(x_old) = 8872.709775\n",
      "f'(x_old) = 4502.682781\n",
      "x_new = 36.770838\n",
      "Galat = 5.358971%\n",
      "----------------------\n",
      "Iterasi 8:\n",
      "x_old = 36.770838\n",
      "f(x_old) = 443.649206\n",
      "f'(x_old) = 4056.283603\n",
      "x_new = 36.661465\n",
      "Galat = 0.298333%\n",
      "----------------------\n",
      "Iterasi 9:\n",
      "x_old = 36.661465\n",
      "f(x_old) = 1.318308\n",
      "f'(x_old) = 4032.188998\n",
      "x_new = 36.661138\n",
      "Galat = 0.000892%\n",
      "----------------------\n",
      "Akar ditemukan: 36.661 dengan galat 0.001%\n"
     ]
    },
    {
     "data": {
      "image/png": "[encoded data removed]",
      "text/plain": [
       "<Figure size 576x360 with 1 Axes>"
      ]
     },
     "metadata": {
      "needs_background": "light"
     },
     "output_type": "display_data"
    }
   ],
   "source": [
    "import numpy as np\n",
    "import matplotlib.pyplot as plt\n",
    "\n",
    "# Metode Newton-Raphson dengan log detail\n",
    "\n",
    "# Fungsi dan turunannya\n",
    "def f(x):\n",
    "    return x**3 - 49274\n",
    "\n",
    "def f_prime(x):\n",
    "    return 3 * x**2\n",
    "\n",
    "# Parameter awal\n",
    "x_old = 9.0  # Tebakan awal\n",
    "tolerance = 0.001  # Toleransi untuk tiga angka desimal\n",
    "max_iterations = 100  # Batas maksimum iterasi\n",
    "iteration = 0\n",
    "\n",
    "# Menyimpan log langkah-langkah perhitungan\n",
    "log_steps = []\n",
    "iterations = []\n",
    "values = []\n",
    "\n",
    "# Iterasi metode Newton\n",
    "while iteration < max_iterations:\n",
    "    f_x = f(x_old)\n",
    "    f_x_prime = f_prime(x_old)\n",
    "    x_new = x_old - f_x / f_x_prime  # Rumus Newton-Raphson\n",
    "    error = abs((x_new - x_old) / x_new) * 100  # Galat aproksimasi relatif absolut\n",
    "\n",
    "    # Menyimpan log setiap langkah\n",
    "    log_steps.append(\n",
    "        f\"Iterasi {iteration + 1}:\\n\"\n",
    "        f\"x_old = {x_old:.6f}\\n\"\n",
    "        f\"f(x_old) = {f_x:.6f}\\n\"\n",
    "        f\"f'(x_old) = {f_x_prime:.6f}\\n\"\n",
    "        f\"x_new = {x_new:.6f}\\n\"\n",
    "        f\"Galat = {error:.6f}%\\n\"\n",
    "        \"----------------------\"\n",
    "    )\n",
    "    \n",
    "    iterations.append(iteration + 1)\n",
    "    values.append(x_new)\n",
    "\n",
    "    # Cek konvergensi\n",
    "    if abs(x_new - x_old) < tolerance:\n",
    "        break\n",
    "\n",
    "    x_old = x_new  # Perbarui x untuk iterasi berikutnya\n",
    "    iteration += 1\n",
    "\n",
    "# Gabungkan log dan tampilkan\n",
    "print(\"\\n\".join(log_steps) + f\"\\nAkar ditemukan: {x_new:.3f} dengan galat {error:.3f}%\")\n",
    "\n",
    "# Plot hasil iterasi\n",
    "plt.figure(figsize=(8, 5))\n",
    "plt.plot(iterations, values, marker='o', linestyle='-', color='blue', label='Nilai x per Iterasi')\n",
    "plt.xlabel('Iterasi')\n",
    "plt.ylabel('Nilai x')\n",
    "plt.title('Konvergensi Metode Newton-Raphson')\n",
    "plt.legend()\n",
    "plt.grid()\n",
    "plt.show()\n"
   ]
  },
  {
   "cell_type": "markdown",
   "metadata": {},
   "source": [
    "**2. Diketahui :**\n",
    "\n",
    "| x     | 0        | 1        | 2        | 3        | 4        |\n",
    "|-------|----------|----------|----------|----------|----------|\n",
    "| f(x)  | 1.094**1**   | 1.944**0**   | 2.397**1**   | 2.707**4**   | 2.944**2**   |\n",
    "\n",
    "- NIM (5 digit terakhir) : 10142 \n",
    "\n",
    "\n",
    "Tentukan nilai taksiran $f(x)$ untuk $x = 1.2$, dengan interpolasi polynomial Newton derajat 3 dan menentukan galat relatif absolutnya dengan tingkat signifikansinya 0.0001, diasumsikan bahwa $f(x) = \\ln(4x + 2)!$"
   ]
  },
  {
   "cell_type": "code",
   "execution_count": 10,
   "metadata": {},
   "outputs": [
    {
     "data": {
      "image/png": "[encoded data removed]",
      "text/plain": [
       "<Figure size 576x360 with 1 Axes>"
      ]
     },
     "metadata": {
      "needs_background": "light"
     },
     "output_type": "display_data"
    },
    {
     "name": "stdout",
     "output_type": "stream",
     "text": [
      "Hasil interpolasi: P_3(1.2) ≈ 2.058236\n",
      "Nilai eksak: f(1.2) = ln(4(1.2) + 2)! ≈ 6.579251\n",
      "Galat relatif absolut = 68.7163%\n"
     ]
    },
    {
     "name": "stderr",
     "output_type": "stream",
     "text": [
      "C:\\Users\\yudap\\AppData\\Local\\Temp\\ipykernel_23596\\2426462858.py:53: DeprecationWarning: `np.math` is a deprecated alias for the standard library `math` module (Deprecated Numpy 1.25). Replace usages of `np.math` with `math`\n",
      "  f_exact = np.log(np.math.factorial(int(4 * x_target + 2)))\n"
     ]
    }
   ],
   "source": [
    "import numpy as np\n",
    "import matplotlib.pyplot as plt\n",
    "\n",
    "# Data titik (x, f(x))\n",
    "x_values = np.array([0, 1, 2, 3, 4], dtype=float)\n",
    "f_values = np.array([1.0941, 1.9440, 2.3971, 2.7074, 2.9442], dtype=float)\n",
    "\n",
    "# Jumlah titik data\n",
    "n = len(x_values)\n",
    "\n",
    "# Tabel selisih terbagi Newton\n",
    "divided_diff = np.zeros((n, n))\n",
    "divided_diff[:, 0] = f_values\n",
    "\n",
    "# Menghitung selisih terbagi\n",
    "for j in range(1, n):\n",
    "    for i in range(n - j):\n",
    "        divided_diff[i][j] = (divided_diff[i + 1][j - 1] - divided_diff[i][j - 1]) / (x_values[i + j] - x_values[i])\n",
    "\n",
    "# Koefisien polinomial Newton\n",
    "coefficients = divided_diff[0, :]\n",
    "\n",
    "# Fungsi evaluasi polinomial Newton\n",
    "def newton_interpolation(x_eval, x_values, coefficients):\n",
    "    result = coefficients[0]\n",
    "    product_term = 1.0\n",
    "\n",
    "    for i in range(1, 4):  # Interpolasi derajat 3\n",
    "        product_term *= (x_eval - x_values[i - 1])\n",
    "        result += coefficients[i] * product_term\n",
    "\n",
    "    return result\n",
    "\n",
    "# Plot interpolasi\n",
    "x_plot = np.linspace(min(x_values), max(x_values), 100)\n",
    "y_plot = [newton_interpolation(x, x_values, coefficients) for x in x_plot]\n",
    "\n",
    "plt.figure(figsize=(8, 5))\n",
    "plt.plot(x_plot, y_plot, label='Interpolated Polynomial', color='blue')\n",
    "plt.scatter(x_values, f_values, color='red', label='Data Points')\n",
    "plt.xlabel('x')\n",
    "plt.ylabel('f(x)')\n",
    "plt.title('Newton Interpolation Polynomial')\n",
    "plt.legend()\n",
    "plt.grid()\n",
    "plt.show()\n",
    "\n",
    "# Nilai taksiran f(1.2)\n",
    "x_target = 1.2\n",
    "f_approx = newton_interpolation(x_target, x_values, coefficients)\n",
    "\n",
    "# Nilai eksak f(x) menggunakan ln(4x + 2)!\n",
    "f_exact = np.log(np.math.factorial(int(4 * x_target + 2)))\n",
    "\n",
    "# Galat relatif absolut\n",
    "error = abs((f_exact - f_approx) / f_exact) * 100\n",
    "\n",
    "# Menampilkan hasil perhitungan\n",
    "print(f\"Hasil interpolasi: P_3(1.2) ≈ {f_approx:.6f}\")\n",
    "print(f\"Nilai eksak: f(1.2) = ln(4(1.2) + 2)! ≈ {f_exact:.6f}\")\n",
    "print(f\"Galat relatif absolut = {error:.4f}%\")\n"
   ]
  },
  {
   "cell_type": "markdown",
   "metadata": {},
   "source": [
    "**3. Diketahui :**\n",
    "\n",
    "| x     | 0        | 1        | 2        | 3        | 4        |\n",
    "|-------|----------|----------|----------|----------|----------|\n",
    "| f(x)  | 1.0941   | 1.9440   | 2.3971   | 2.7074   | 2.9442   |\n",
    "\n",
    "- NIM (5 digit terakhir) : 10142 \n",
    "\n",
    "Tentukan solusi aproksimasi untuk $f'(1)$ dan $f''(1)$ menggunakan differensi numerik metode Selisih Maju Newton dan tentukan galat relatif absolut dari $f'(1)$ dan $f''(1)$, bila diasumsikan bahwa $f(x) = \\ln(4x + 2)!$"
   ]
  },
  {
   "cell_type": "code",
   "execution_count": 9,
   "metadata": {},
   "outputs": [
    {
     "data": {
      "image/png": "[encoded data removed]",
      "text/plain": [
       "<Figure size 576x360 with 1 Axes>"
      ]
     },
     "metadata": {
      "needs_background": "light"
     },
     "output_type": "display_data"
    },
    {
     "name": "stdout",
     "output_type": "stream",
     "text": [
      "===== PERHITUNGAN SELISIH MAJU NEWTON =====\n",
      "Data x: [0, 1, 2, 3, 4]\n",
      "Data f(x): [1.0941, 1.944, 2.3971, 2.7074, 2.9442]\n",
      "\n",
      "1️⃣ TURUNAN PERTAMA (f'(1))\n",
      "Rumus: f'(1) ≈ (-f(3) + 4f(2) - 3f(1)) / 2h\n",
      "Substitusi: (-2.3971 + 4*1.944 - 3*1.0941) / (2*1)\n",
      "Hasil aproksimasi: 1.0483\n",
      "Nilai eksak: 6.8245\n",
      "Galat relatif absolut: 84.64%\n",
      "\n",
      "2️⃣ TURUNAN KEDUA (f''(1))\n",
      "Rumus: f''(1) ≈ (f(3) - 2f(2) + f(1)) / h²\n",
      "Substitusi: (2.3971 - 2*1.944 + 1.0941) / 1²\n",
      "Hasil aproksimasi: -0.3968\n",
      "Nilai eksak: 2.9012\n",
      "Galat relatif absolut: 113.68%\n",
      "\n",
      "Kesimpulan: Metode selisih maju memiliki kesalahan yang cukup besar dalam aproksimasi.\n"
     ]
    }
   ],
   "source": [
    "import scipy.special as sp\n",
    "import numpy as np\n",
    "import matplotlib.pyplot as plt\n",
    "\n",
    "def selisih_maju_turunan_pertama(fx, h):\n",
    "    return (-fx[2] + 4*fx[1] - 3*fx[0]) / (2*h)\n",
    "\n",
    "def selisih_maju_turunan_kedua(fx, h):\n",
    "    return (fx[2] - 2*fx[1] + fx[0]) / (h**2)\n",
    "\n",
    "# Data yang diberikan\n",
    "x = [0, 1, 2, 3, 4]\n",
    "f_x = [1.0941, 1.9440, 2.3971, 2.7074, 2.9442]\n",
    "h = 1  # Jarak antar titik\n",
    "\n",
    "# Hitung turunan pertama dan kedua\n",
    "f_1_approx = selisih_maju_turunan_pertama(f_x[:3], h)\n",
    "f_2_approx = selisih_maju_turunan_kedua(f_x[:3], h)\n",
    "\n",
    "# Hitung nilai eksak menggunakan fungsi psi dari SciPy\n",
    "f_1_exact = sp.psi(6) * 4  # Karena f(x) = ln((4x+2)!)\n",
    "f_2_exact = sp.polygamma(1, 6) * 16\n",
    "\n",
    "# Hitung galat relatif absolut\n",
    "error_f1 = abs((f_1_approx - f_1_exact) / f_1_exact) * 100\n",
    "error_f2 = abs((f_2_approx - f_2_exact) / f_2_exact) * 100\n",
    "\n",
    "# Cetak log perhitungan\n",
    "def print_verbose_log():\n",
    "    print(\"===== PERHITUNGAN SELISIH MAJU NEWTON =====\")\n",
    "    print(f\"Data x: {x}\")\n",
    "    print(f\"Data f(x): {f_x}\")\n",
    "    print(\"\\n1️⃣ TURUNAN PERTAMA (f'(1))\")\n",
    "    print(f\"Rumus: f'(1) ≈ (-f(3) + 4f(2) - 3f(1)) / 2h\")\n",
    "    print(f\"Substitusi: (-{f_x[2]} + 4*{f_x[1]} - 3*{f_x[0]}) / (2*{h})\")\n",
    "    print(f\"Hasil aproksimasi: {f_1_approx:.4f}\")\n",
    "    print(f\"Nilai eksak: {f_1_exact:.4f}\")\n",
    "    print(f\"Galat relatif absolut: {error_f1:.2f}%\\n\")\n",
    "    \n",
    "    print(\"2️⃣ TURUNAN KEDUA (f''(1))\")\n",
    "    print(f\"Rumus: f''(1) ≈ (f(3) - 2f(2) + f(1)) / h²\")\n",
    "    print(f\"Substitusi: ({f_x[2]} - 2*{f_x[1]} + {f_x[0]}) / {h}²\")\n",
    "    print(f\"Hasil aproksimasi: {f_2_approx:.4f}\")\n",
    "    print(f\"Nilai eksak: {f_2_exact:.4f}\")\n",
    "    print(f\"Galat relatif absolut: {error_f2:.2f}%\\n\")\n",
    "    print(\"Kesimpulan: Metode selisih maju memiliki kesalahan yang cukup besar dalam aproksimasi.\")\n",
    "\n",
    "# Plot hasil\n",
    "plt.figure(figsize=(8, 5))\n",
    "plt.plot(x, f_x, 'bo-', label='f(x) Data')\n",
    "plt.xlabel('x')\n",
    "plt.ylabel('f(x)')\n",
    "plt.title('Grafik f(x) berdasarkan Data')\n",
    "plt.legend()\n",
    "plt.grid()\n",
    "plt.show()\n",
    "\n",
    "# Cetak hasil\n",
    "print_verbose_log()"
   ]
  },
  {
   "cell_type": "markdown",
   "metadata": {},
   "source": [
    "**4. Misalkan** $\\int_{0}^{1.2} x^3 - 347.C \\ dx$ dimana $C$ adalah 3 digit terakhir dari NIM Saudara. Tentukan nilai dari integral tersebut dengan menggunakan Metode Simpson 3/8 dan N = 6 dan hitung galat relatif absolutnya dengan tingkat signifikansinya 0.001!\n",
    "\n",
    "- NIM (5 digit terakhir) : 10142 "
   ]
  },
  {
   "cell_type": "code",
   "execution_count": 13,
   "metadata": {},
   "outputs": [
    {
     "name": "stdout",
     "output_type": "stream",
     "text": [
      "Hasil integral dengan Simpson 3/8: -59128.281600\n",
      "Hasil integral eksak: -59128.281600\n",
      "Galat relatif absolut: 0.000000%\n"
     ]
    }
   ],
   "source": [
    "import numpy as np\n",
    "import matplotlib.pyplot as plt\n",
    "\n",
    "# Parameter dari soal\n",
    "C = 142\n",
    "f = lambda x: x**3 - 347 * C  # Fungsi yang diintegralkan\n",
    "\n",
    "# Batas integrasi dan jumlah subinterval\n",
    "a, b = 0, 1.2\n",
    "N = 6  # Jumlah subinterval, harus kelipatan 3 untuk Simpson 3/8\n",
    "\n",
    "# Pastikan N sesuai aturan Simpson 3/8\n",
    "if N % 3 != 0:\n",
    "    raise ValueError(\"N harus kelipatan 3 untuk metode Simpson 3/8\")\n",
    "\n",
    "# Lebar langkah\n",
    "h = (b - a) / N\n",
    "\n",
    "# Titik-titik x dan f(x)\n",
    "x = np.linspace(a, b, N + 1)\n",
    "y = f(x)\n",
    "\n",
    "# Simpson 3/8 Rule\n",
    "integral_simpson = (3 * h / 8) * (y[0] + 3 * sum(y[1:N:3]) + 3 * sum(y[2:N:3]) + 2 * sum(y[3:N-1:3]) + y[N])\n",
    "\n",
    "# Integral eksak\n",
    "exact_integral = (b**4 / 4 - a**4 / 4) - 347 * C * (b - a)\n",
    "\n",
    "# Galat relatif absolut\n",
    "error = abs((exact_integral - integral_simpson) / exact_integral) * 100\n",
    "\n",
    "# Cetak hasil\n",
    "print(f\"Hasil integral dengan Simpson 3/8: {integral_simpson:.6f}\")\n",
    "print(f\"Hasil integral eksak: {exact_integral:.6f}\")\n",
    "print(f\"Galat relatif absolut: {error:.6f}%\")\n"
   ]
  },
  {
   "cell_type": "code",
   "execution_count": 14,
   "metadata": {},
   "outputs": [
    {
     "data": {
      "text/plain": [
       "(0.9399999999999998, 6.600000000000004)"
      ]
     },
     "execution_count": 14,
     "metadata": {},
     "output_type": "execute_result"
    }
   ],
   "source": [
    "import numpy as np\n",
    "\n",
    "# Given data points\n",
    "x = np.array([0, 5, 10, 15, 20])\n",
    "y = np.array([7, 11, 16, 20, 26])\n",
    "\n",
    "# Perform linear regression (least squares fitting)\n",
    "coeffs = np.polyfit(x, y, 1)  # 1st-degree polynomial (linear)\n",
    "\n",
    "# Extract slope and intercept\n",
    "a, b = coeffs  # y = ax + b\n",
    "\n",
    "# Output the equation\n",
    "a, b\n"
   ]
  },
  {
   "cell_type": "code",
   "execution_count": null,
   "metadata": {},
   "outputs": [],
   "source": []
  }
 ],
 "metadata": {
  "kernelspec": {
   "display_name": "Python 3",
   "language": "python",
   "name": "python3"
  },
  "language_info": {
   "codemirror_mode": {
    "name": "ipython",
    "version": 3
   },
   "file_extension": ".py",
   "mimetype": "text/x-python",
   "name": "python",
   "nbconvert_exporter": "python",
   "pygments_lexer": "ipython3",
   "version": "3.10.0"
  }
 },
 "nbformat": 4,
 "nbformat_minor": 2
}
