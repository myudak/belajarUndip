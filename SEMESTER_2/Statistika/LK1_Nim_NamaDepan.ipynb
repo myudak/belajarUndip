{
 "cells": [
  {
   "cell_type": "markdown",
   "id": "206804a9",
   "metadata": {},
   "source": [
    "\n",
    "### Nama : Muchammad Yuda Tri Ananda \n",
    "### NIM  : 24060124110142\n",
    "### Kelas  : D\n",
    "\n",
    "\n",
    "\n",
    "Untuk mempelajari lebih lanjut mengenai properti dari nilai mean dan median, silahkan terlebih \n",
    "dahulu download dataset (“Latihan.csv”) dari link berikut ini: \n",
    "\n",
    "- https://s.id/aDGce  \n",
    "\n",
    "Dataset “Latihan” merupakan dataset yang berisi sampel jumlah jawaban benar untuk masing\n",
    "masing tipe soal dan skornya pada suatu Latihan untuk suatu mata kuliah tertentu.\n",
    "\n",
    "\n",
    "\n",
    "Aturan Penulisan Kode Program: \n",
    "- Gunakan Google Collaboratory dan library Pandas untuk mengerjakan lembar kerja \n",
    "berikut. \n",
    "- Simpan DataFrame hasil pembacaan file dataset “Latihan.csv” ke dalam variable “df”\n",
    "\n"
   ]
  },
  {
   "cell_type": "code",
   "execution_count": null,
   "id": "60de4908",
   "metadata": {},
   "outputs": [],
   "source": [
    "# Import Library\n",
    "\n",
    "import pandas as pd\n",
    "\n",
    "# Download File\n",
    "\n"
   ]
  }
 ],
 "metadata": {
  "language_info": {
   "name": "python"
  }
 },
 "nbformat": 4,
 "nbformat_minor": 5
}
