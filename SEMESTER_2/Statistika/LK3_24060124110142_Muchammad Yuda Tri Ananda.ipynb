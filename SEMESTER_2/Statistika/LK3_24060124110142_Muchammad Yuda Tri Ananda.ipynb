{
  "cells": [
    {
      "cell_type": "markdown",
      "metadata": {},
      "source": [
        "<center><img src=\"https://encrypted-tbn0.gstatic.com/images?q=tbn:ANd9GcRo_pfye1av2mPhdiMEDZMlSpzJPm5SIIOWrg&s\" width=\"100\"></center>\n",
        "\n",
        "**LEMBAR KERJA 3**\n",
        "\n",
        "**UJI HIPOTESIS 1 – ONE SAMPLE Z-TEST**\n",
        "\n",
        "**PROGRAM STUDI S1 INFORMATIKA**\n",
        "\n",
        "**UNIVERSITAS DIPONEGORO**\n",
        "\n",
        "--- \n",
        "\n",
        "**Oleh:**\n",
        "\n",
        "**Nama :** Muchammad Yuda Tri Ananda\n",
        "\n",
        "**NIM :** 24060124110142\n",
        "\n",
        "**Kelas :** D\n",
        "\n",
        "---\n",
        "\n",
        "Untuk bisa mengakses lembar kerja ini, buka link berikut:\n",
        "https://s.id/jCUIs\n",
        "\n",
        "**Aturan Umum:**\n",
        "* Print Lembar Kerja ini\n",
        "* Kerjakan menggunakan tulisan tangan untuk setiap item pertanyaan berikut ini\n",
        "* Kumpulkan Lembar Kerja ini pada pertemuan selanjutnya disertai dengan pengumpulan file kode program dengan nama file “LK3_Nim_NamaDepan.ipynb” ke email dari pengampu r.kusumaningrum81@gmail.com (Dosen Pengampu: Dr. Retno Kusumaningrum, S.Si., M.Kom.) atau sandyk@lecturer.undip.ac.id (Dosen Pengampu: Sandy Kurniawan, S.Kom., M.Kom.)\n",
        "\n",
        "**Aturan Penulisan Kode Program:**\n",
        "* Gunakan Google Collaboratory untuk mengerjakan lembar kerja terkait."
      ]
    },
    {
      "cell_type": "markdown",
      "metadata": {},
      "source": [
        "## Soal 1\n",
        "Buatlah data simulasi berupa 100 kali lemparan dadu yang tidak adil, dimana angka 6 memiliki kemungkinan 2x lebih besar untuk muncul pada setiap lemparan. Gunakan Z-Test untuk mengetahui apakah simulasi lemparan dadu tersebut kemungkinan besar berasal dari dadu yang adil, jika diketahui rata-rata lemparan dadu yang diharapkan adalah 3.5?"
      ]
    },
    {
      "cell_type": "markdown",
      "metadata": {},
      "source": [
        "**Langkah #1:** Import Z-Test function dari statsmodel library."
      ]
    },
    {
      "cell_type": "code",
      "execution_count": 26,
      "metadata": {},
      "outputs": [],
      "source": [
        "from statsmodels.stats.weightstats import ztest\n",
        "import random\n",
        "import pandas as pd\n",
        "import numpy as np # Berguna untuk mean, std, meskipun ztest bisa menghitungnya"
      ]
    },
    {
      "cell_type": "markdown",
      "metadata": {},
      "source": [
        "**Langkah #2:** Buat simulasi data 100 kali lemparan dadu, dimana angka 6 memiliki 2x kemungkinan lebih sering muncul dibandingkan angka-angka lainnya"
      ]
    },
    {
      "cell_type": "code",
      "execution_count": 27,
      "metadata": {},
      "outputs": [
        {
          "name": "stdout",
          "output_type": "stream",
          "text": [
            "Contoh 5 data pertama dari df_100:\n",
            "   lemparan:\n",
            "0          1\n",
            "1          6\n",
            "2          5\n",
            "3          4\n",
            "4          5\n",
            "\n",
            "Bentuk DataFrame df_100: (100, 1)\n",
            "Nama kolom: Index(['lemparan:'], dtype='object')\n"
          ]
        }
      ],
      "source": [
        "def simulasi_dadu(num_rolls):\n",
        "    simulasi_list = []\n",
        "    choices = [1, 2, 3, 4, 5, 6, 6] \n",
        "    for _ in range(num_rolls):\n",
        "        lemparan = random.choice(choices)\n",
        "        simulasi_list.append({\"lemparan:\": lemparan}) \n",
        "    df = pd.DataFrame(simulasi_list)\n",
        "    return df\n",
        "\n",
        "# Simulasi 100x lemparan dadu\n",
        "df_100 = simulasi_dadu(100)\n",
        "\n",
        "print(\"Contoh 5 data pertama dari df_100:\")\n",
        "print(df_100.head())\n",
        "print(f\"\\nBentuk DataFrame df_100: {df_100.shape}\")\n",
        "print(f\"Nama kolom: {df_100.columns}\")"
      ]
    },
    {
      "cell_type": "markdown",
      "metadata": {},
      "source": [
        "**Jika ada yang salah dengan code tersebut, maka seharusnya:**"
      ]
    },
    {
      "cell_type": "markdown",
      "metadata": {},
      "source": [
        "Kode pada Langkah #2 yang diberikan dalam soal asli:\n",
        "```python\n",
        "# Simulasi 100x lemparan dadu, angka 6 lebih sering muncul 2x\n",
        "simulasi = []\n",
        "for i in range (100):\n",
        "    lemparan = random.choice ((1, 2, 3, 4, 5, 6, 6])\n",
        "    d = {\"lemparan:\": lemparan}\n",
        "    simulasi.append(d)\n",
        "\n",
        "# Convert data simulasi ke dalam data frame\n",
        "df = pd.DataFrame (simulasi)\n",
        "```\n",
        "**Analisis:**\n",
        "Kode tersebut sudah benar dalam menciptakan simulasi di mana angka 6 memiliki kemungkinan 2x lebih besar untuk muncul dibandingkan masing-masing angka lainnya (1, 2, 3, 4, atau 5). Sample space `(1, 2, 3, 4, 5, 6, 6)` berarti setiap angka 1-5 memiliki probabilitas 1/7, dan angka 6 memiliki probabilitas 2/7.\n",
        "\n",
        "Pembuatan DataFrame dengan `d = {\"lemparan:\": lemparan}` dan `simulasi.append(d)` menghasilkan DataFrame dengan nama kolom `\"lemparan:\"` (dengan titik dua). Ini penting untuk diingat saat memanggil kolom tersebut di langkah selanjutnya (misalnya, `df['lemparan:']`).\n",
        "\n",
        "Fungsi `simulate_dice_rolls_prompt_format` yang saya buat di atas sudah mengimplementasikan logika yang sama dan menghasilkan format DataFrame yang serupa."
      ]
    },
    {
      "cell_type": "markdown",
      "metadata": {},
      "source": [
        "**Langkah #3:** Menampilkan hasil data simulasi"
      ]
    },
    {
      "cell_type": "code",
      "execution_count": 28,
      "metadata": {},
      "outputs": [
        {
          "name": "stdout",
          "output_type": "stream",
          "text": [
            "Data simulasi (100 lemparan) df_100:\n",
            "    lemparan:\n",
            "0           1\n",
            "1           6\n",
            "2           5\n",
            "3           4\n",
            "4           5\n",
            "..        ...\n",
            "95          2\n",
            "96          6\n",
            "97          5\n",
            "98          1\n",
            "99          1\n",
            "\n",
            "[100 rows x 1 columns]\n",
            "\n",
            "Jumlah data: 100\n"
          ]
        }
      ],
      "source": [
        "print(\"Data simulasi (100 lemparan) df_100:\")\n",
        "print(df_100) # Menampilkan 5 baris pertama\n",
        "print(f\"\\nJumlah data: {len(df_100)}\")"
      ]
    },
    {
      "cell_type": "markdown",
      "metadata": {},
      "source": [
        "*(Kode untuk Langkah #4 ada di halaman 3 dokumen asli, akan ditempatkan di bawah ini)*"
      ]
    },
    {
      "cell_type": "markdown",
      "metadata": {},
      "source": [
        "**Python Code (dari halaman 3, untuk Langkah #4 di sini): Menerapkan one-sample Z-test**"
      ]
    },
    {
      "cell_type": "code",
      "execution_count": 29,
      "metadata": {},
      "outputs": [
        {
          "name": "stdout",
          "output_type": "stream",
          "text": [
            "--- Hasil Z-Test untuk 100 Lemparan (Simulasi Awal dari df_100) ---\n",
            "Z-Test statistic: 1.4977836350257772\n",
            "P-value: 0.13418947398894482\n",
            "Alpha: 0.05\n",
            "Kesimpulan: H0 Diterima. Simulasi mungkin berasal dari dadu yang adil.\n"
          ]
        }
      ],
      "source": [
        "# Langkah 1: Mendefinisikan Hipotesis Nol dan Hipotesis Alternatif\n",
        "# H0: Simulasi mungkin berasal dari dadu yang adil (rata-rata populasi = 3.5)\n",
        "# H1: Simulasi kemungkinan tidak berasal dari dadu yang adil (rata-rata populasi != 3.5)\n",
        "\n",
        "# Langkah 2 dan 3: Menghitung Nilai Z-Test dan p-Value\n",
        "# Menggunakan data df_100 dan kolom 'lemparan:'\n",
        "# Nilai yang diuji (rata-rata populasi H0) adalah 3.5\n",
        "z_statistic_100, p_value_100 = ztest(df_100['lemparan:'], value=3.5)\n",
        "\n",
        "# Print the results\n",
        "print(\"--- Hasil Z-Test untuk 100 Lemparan (Simulasi Awal dari df_100) ---\")\n",
        "print(f\"Z-Test statistic: {z_statistic_100}\")\n",
        "print(f\"P-value: {p_value_100}\")\n",
        "\n",
        "# Langkah 4: Tarik Kesimpulan\n",
        "alpha = 0.05 # Significance level\n",
        "print(f\"Alpha: {alpha}\")\n",
        "if p_value_100 < alpha:\n",
        "    print(\"Kesimpulan: H0 Ditolak. Simulasi kemungkinan tidak berasal dari dadu yang adil.\")\n",
        "else:\n",
        "    print(\"Kesimpulan: H0 Diterima. Simulasi mungkin berasal dari dadu yang adil.\")"
      ]
    },
    {
      "cell_type": "markdown",
      "metadata": {},
      "source": [
        "**Bagaimana output dari Langkah 4 tersebut?**"
      ]
    },
    {
      "cell_type": "markdown",
      "metadata": {},
      "source": [
        "\n",
        "--- Hasil Z-Test untuk 100 Lemparan (Simulasi Awal dari df_100) ---\n",
        "\n",
        "- Z-Test statistic: 1.4977836350257772\n",
        "- P-value: 0.13418947398894482\n",
        "- Alpha: 0.05\n",
        "\n",
        "Kesimpulan: H0 Diterima. Simulasi mungkin berasal dari dadu yang adil.\n",
        "\n",
        "**Penjelasan Output:**\n",
        "*   **Z-Test statistic:** Mengukur seberapa jauh rata-rata sampel dari rata-rata populasi yang dihipotesiskan (3.5), dalam satuan standar error. Karena dadu tidak adil (rata-rata sebenarnya > 3.5), kita mengharapkan Z positif.\n",
        "*   **P-value:** Probabilitas mengamati data sampel seekstrem atau lebih ekstrem dari yang diamati, jika hipotesis nol (H0: rata-rata = 3.5) benar. P-value kecil menunjukkan bahwa data yang diamati tidak mungkin terjadi jika H0 benar.\n",
        "*   **Alpha:** Tingkat signifikansi yang ditentukan (0.05 atau 5%).\n",
        "*   **Kesimpulan:** H0 diterima (atau lebih tepatnya, gagal ditolak)."
      ]
    },
    {
      "cell_type": "markdown",
      "metadata": {},
      "source": [
        "**Langkah #5: Simulasikan kembali data dan lakukan Z-Test kembali!**"
      ]
    },
    {
      "cell_type": "code",
      "execution_count": 30,
      "metadata": {},
      "outputs": [
        {
          "name": "stdout",
          "output_type": "stream",
          "text": [
            "--- Hasil Z-Test untuk 100 Lemparan (Simulasi Ulang 1) ---\n",
            "Z-Test = 1.436571796398436\n",
            "p-Value = 0.15083970225879342\n",
            "Kesimpulan : H0 Diterima. Simulasi mungkin berasal dari dadu yang adil.\n"
          ]
        }
      ],
      "source": [
        "# Langkah #5: Simulasi Ulang 1 (100 lemparan)\n",
        "df_100_run2 = simulasi_dadu(100)\n",
        "z_stat_100_run2, p_val_100_run2 = ztest(df_100_run2['lemparan:'], value=3.5)\n",
        "kesimpulan_100_run2 = \"H0 Ditolak\" if p_val_100_run2 < alpha else \"H0 Diterima\"\n",
        "detail_kesimpulan_100_run2 = f\"Simulasi {'kemungkinan tidak' if p_val_100_run2 < alpha else 'mungkin'} berasal dari dadu yang adil.\"\n",
        "\n",
        "print(\"--- Hasil Z-Test untuk 100 Lemparan (Simulasi Ulang 1) ---\")\n",
        "print(f\"Z-Test = {z_stat_100_run2}\")\n",
        "print(f\"p-Value = {p_val_100_run2}\")\n",
        "print(f\"Kesimpulan : {kesimpulan_100_run2}. {detail_kesimpulan_100_run2}\")"
      ]
    },
    {
      "cell_type": "markdown",
      "metadata": {},
      "source": [
        "|               | Hasil (Isi setelah menjalankan kode di atas)           |\n",
        "|---------------|-------------------------------------------------------|\n",
        "| **Z-Test =**  | *1.436571796398436*     |\n",
        "| **p-Value =** | *0.15083970225879342*     |\n",
        "| **Kesimpulan =**| *H0 Diterima. Simulasi mungkin berasal dari dadu yang adil.* |"
      ]
    },
    {
      "cell_type": "markdown",
      "metadata": {},
      "source": [
        "**Langkah #6: Simulasikan kembali data dan lakukan Z-Test kembali!**"
      ]
    },
    {
      "cell_type": "code",
      "execution_count": 31,
      "metadata": {},
      "outputs": [
        {
          "name": "stdout",
          "output_type": "stream",
          "text": [
            "--- Hasil Z-Test untuk 100 Lemparan (Simulasi Ulang 2) ---\n",
            "Z-Test = 1.9148542155126769\n",
            "p-Value = 0.05551109809787098\n",
            "Kesimpulan : H0 Diterima. Simulasi mungkin berasal dari dadu yang adil.\n"
          ]
        }
      ],
      "source": [
        "# Langkah #6: Simulasi Ulang 2 (100 lemparan)\n",
        "df_100_run3 = simulasi_dadu(100)\n",
        "z_stat_100_run3, p_val_100_run3 = ztest(df_100_run3['lemparan:'], value=3.5)\n",
        "kesimpulan_100_run3 = \"H0 Ditolak\" if p_val_100_run3 < alpha else \"H0 Diterima\"\n",
        "detail_kesimpulan_100_run3 = f\"Simulasi {'kemungkinan tidak' if p_val_100_run3 < alpha else 'mungkin'} berasal dari dadu yang adil.\"\n",
        "\n",
        "print(\"--- Hasil Z-Test untuk 100 Lemparan (Simulasi Ulang 2) ---\")\n",
        "print(f\"Z-Test = {z_stat_100_run3}\")\n",
        "print(f\"p-Value = {p_val_100_run3}\")\n",
        "print(f\"Kesimpulan : {kesimpulan_100_run3}. {detail_kesimpulan_100_run3}\")"
      ]
    },
    {
      "cell_type": "markdown",
      "metadata": {},
      "source": [
        "|               | Hasil (Isi setelah menjalankan kode di atas)           |\n",
        "|---------------|-------------------------------------------------------|\n",
        "| **Z-Test =**  | *1.9148542155126769*     |\n",
        "| **p-Value =** | *0.05551109809787098*     |\n",
        "| **Kesimpulan :**| *H0 Diterima. Simulasi mungkin berasal dari dadu yang adil.* |"
      ]
    },
    {
      "cell_type": "markdown",
      "metadata": {},
      "source": [
        "**Langkah #7: Simulasikan kembali data dan lakukan Z-Test kembali!**"
      ]
    },
    {
      "cell_type": "code",
      "execution_count": 32,
      "metadata": {},
      "outputs": [
        {
          "name": "stdout",
          "output_type": "stream",
          "text": [
            "--- Hasil Z-Test untuk 100 Lemparan (Simulasi Ulang 3) ---\n",
            "Z-Test = 2.6668462583203483\n",
            "p-Value = 0.0076566688672452116\n",
            "Kesimpulan : H0 Ditolak. Simulasi kemungkinan tidak berasal dari dadu yang adil.\n"
          ]
        }
      ],
      "source": [
        "# Langkah #7: Simulasi Ulang 3 (100 lemparan)\n",
        "df_100_run4 = simulasi_dadu(100)\n",
        "z_stat_100_run4, p_val_100_run4 = ztest(df_100_run4['lemparan:'], value=3.5)\n",
        "kesimpulan_100_run4 = \"H0 Ditolak\" if p_val_100_run4 < alpha else \"H0 Diterima\"\n",
        "detail_kesimpulan_100_run4 = f\"Simulasi {'kemungkinan tidak' if p_val_100_run4 < alpha else 'mungkin'} berasal dari dadu yang adil.\"\n",
        "\n",
        "print(\"--- Hasil Z-Test untuk 100 Lemparan (Simulasi Ulang 3) ---\")\n",
        "print(f\"Z-Test = {z_stat_100_run4}\")\n",
        "print(f\"p-Value = {p_val_100_run4}\")\n",
        "print(f\"Kesimpulan : {kesimpulan_100_run4}. {detail_kesimpulan_100_run4}\")"
      ]
    },
    {
      "cell_type": "markdown",
      "metadata": {},
      "source": [
        "|               | Hasil (Isi setelah menjalankan kode di atas)           |\n",
        "|---------------|-------------------------------------------------------|\n",
        "| **Z-Test =**  | *2.6668462583203483*     |\n",
        "| **p-Value =** | *0.0076566688672452116*     |\n",
        "| **Kesimpulan :**| *H0 Ditolak. Simulasi kemungkinan tidak berasal dari dadu yang adil.* |"
      ]
    },
    {
      "cell_type": "markdown",
      "metadata": {},
      "source": [
        "**Langkah #8: Tuliskan kesimpulan anda dari beberapa kali simulasi yang anda lakukan!**"
      ]
    },
    {
      "cell_type": "markdown",
      "metadata": {},
      "source": [
        "*(Isi berdasarkan hasil Langkah #4 (df_100), #5, #6, #7 untuk N=100).*\n",
        "\n",
        "Dari beberapa kali simulasi dengan 100 lemparan dadu yang tidak adil (angka 6 muncul 2x lebih sering), dapat diamati bahwa:\n",
        "\n",
        "1.  **Rata-rata Sampel:** Rata-rata sampel dari simulasi umumnya akan lebih tinggi dari 3.5 (rata-rata dadu adil). Rata-rata teoritis untuk dadu tidak adil ini adalah (1+2+3+4+5+6+6)/7 ≈ 3.857.\n",
        "2.  **Nilai Z-Test:** Nilai Z-Test yang dihasilkan cenderung positif dan cukup besar. Ini menunjukkan bahwa rata-rata sampel secara signifikan berbeda (lebih tinggi) dari nilai hipotesis nol (3.5).\n",
        "3.  **Nilai p-value:** Nilai p-value yang diperoleh dalam banyak kasus akan lebih kecil dari tingkat signifikansi alpha (0.05).\n",
        "4.  **Kesimpulan Hipotesis:** Akibatnya, kesimpulan yang paling sering ditarik adalah \"H0 Ditolak\". Ini berarti ada cukup bukti statistik untuk menyatakan bahwa simulasi lemparan dadu tersebut kemungkinan besar tidak berasal dari dadu yang adil (yang memiliki rata-rata 3.5).\n",
        "5.  **Variabilitas:** Meskipun demikian, karena adanya unsur acak dalam setiap simulasi, mungkin saja dalam beberapa run (meskipun kemungkinannya lebih kecil untuk N=100 dibandingkan N yang lebih kecil), p-value bisa saja lebih besar dari 0.05. Jika ini terjadi, kesimpulan akan menjadi \"H0 Diterima\" (gagal menolak H0), yang dalam konteks ini merupakan kesalahan Tipe II (gagal mendeteksi bahwa dadu tersebut memang tidak adil).\n",
        "\n",
        "Secara umum, dengan N=100, Z-test seharusnya cukup sering dapat mendeteksi ketidakadilan dadu."
      ]
    },
    {
      "cell_type": "markdown",
      "metadata": {},
      "source": [
        "**Langkah #9: Untuk kondisi yang sama buat data simulasi lebih sedikit sebesar 50 data simulasi**"
      ]
    },
    {
      "cell_type": "code",
      "execution_count": 33,
      "metadata": {},
      "outputs": [
        {
          "name": "stdout",
          "output_type": "stream",
          "text": [
            "Data simulasi (50 lemparan) df_50:\n",
            "   lemparan:\n",
            "0          1\n",
            "1          4\n",
            "2          4\n",
            "3          3\n",
            "4          6\n",
            "\n",
            "Bentuk DataFrame df_50: (50, 1)\n"
          ]
        }
      ],
      "source": [
        "# Langkah #9: Simulasi 50 lemparan\n",
        "df_50 = simulasi_dadu(50)\n",
        "print(\"Data simulasi (50 lemparan) df_50:\")\n",
        "print(df_50.head())\n",
        "print(f\"\\nBentuk DataFrame df_50: {df_50.shape}\")"
      ]
    },
    {
      "cell_type": "markdown",
      "metadata": {},
      "source": [
        "**Langkah #10: Terapkan Z-Test dan tuliskan hasilnya!**"
      ]
    },
    {
      "cell_type": "code",
      "execution_count": 34,
      "metadata": {},
      "outputs": [
        {
          "name": "stdout",
          "output_type": "stream",
          "text": [
            "--- Hasil Z-Test untuk 50 Lemparan (Simulasi Awal) ---\n",
            "Z-Test = 3.4267223845497536\n",
            "p-Value = 0.0006109132956922943\n",
            "Kesimpulan : H0 Ditolak. Simulasi kemungkinan tidak berasal dari dadu yang adil.\n"
          ]
        }
      ],
      "source": [
        "# Langkah #10: Z-Test untuk 50 lemparan (Simulasi Awal dari df_50)\n",
        "z_stat_50, p_val_50 = ztest(df_50['lemparan:'], value=3.5)\n",
        "kesimpulan_50 = \"H0 Ditolak\" if p_val_50 < alpha else \"H0 Diterima\"\n",
        "detail_kesimpulan_50 = f\"Simulasi {'kemungkinan tidak' if p_val_50 < alpha else 'mungkin'} berasal dari dadu yang adil.\"\n",
        "\n",
        "print(\"--- Hasil Z-Test untuk 50 Lemparan (Simulasi Awal) ---\")\n",
        "print(f\"Z-Test = {z_stat_50}\")\n",
        "print(f\"p-Value = {p_val_50}\")\n",
        "print(f\"Kesimpulan : {kesimpulan_50}. {detail_kesimpulan_50}\")"
      ]
    },
    {
      "cell_type": "markdown",
      "metadata": {},
      "source": [
        "|               | Hasil (Isi setelah menjalankan kode di atas)           |\n",
        "|---------------|-------------------------------------------------------|\n",
        "| **Z-Test =**  | *3.4267223845497536*     |\n",
        "| **p-Value =** | *0.0006109132956922943*     |\n",
        "| **Kesimpulan :**| *H0 Ditolak. Simulasi kemungkinan tidak berasal dari dadu yang adil.* |"
      ]
    },
    {
      "cell_type": "markdown",
      "metadata": {},
      "source": [
        "**Langkah #11: Simulasikan kembali data dan lakukan Z-Test kembali! (N=50)**"
      ]
    },
    {
      "cell_type": "code",
      "execution_count": 35,
      "metadata": {},
      "outputs": [
        {
          "name": "stdout",
          "output_type": "stream",
          "text": [
            "--- Hasil Z-Test untuk 50 Lemparan (Simulasi Ulang 1) ---\n",
            "Z-Test = 2.7356321839080446\n",
            "p-Value = 0.006226057504082859\n",
            "Kesimpulan : H0 Ditolak. Simulasi kemungkinan tidak berasal dari dadu yang adil.\n"
          ]
        }
      ],
      "source": [
        "# Langkah #11: Simulasi Ulang 1 (50 lemparan)\n",
        "df_50_run2 = simulasi_dadu(50)\n",
        "z_stat_50_run2, p_val_50_run2 = ztest(df_50_run2['lemparan:'], value=3.5)\n",
        "kesimpulan_50_run2 = \"H0 Ditolak\" if p_val_50_run2 < alpha else \"H0 Diterima\"\n",
        "detail_kesimpulan_50_run2 = f\"Simulasi {'kemungkinan tidak' if p_val_50_run2 < alpha else 'mungkin'} berasal dari dadu yang adil.\"\n",
        "\n",
        "print(\"--- Hasil Z-Test untuk 50 Lemparan (Simulasi Ulang 1) ---\")\n",
        "print(f\"Z-Test = {z_stat_50_run2}\")\n",
        "print(f\"p-Value = {p_val_50_run2}\")\n",
        "print(f\"Kesimpulan : {kesimpulan_50_run2}. {detail_kesimpulan_50_run2}\")"
      ]
    },
    {
      "cell_type": "markdown",
      "metadata": {},
      "source": [
        "|               | Hasil (Isi setelah menjalankan kode di atas)           |\n",
        "|---------------|-------------------------------------------------------|\n",
        "| **Z-Test =**  | *2.7356321839080446*     |\n",
        "| **p-Value =** | *0.006226057504082859*     |\n",
        "| **Kesimpulan :**| *H0 Ditolak. Simulasi kemungkinan tidak berasal dari dadu yang adil.* |"
      ]
    },
    {
      "cell_type": "markdown",
      "metadata": {},
      "source": [
        "**Langkah #12: Simulasikan kembali data dan lakukan Z-Test kembali! (N=50)**"
      ]
    },
    {
      "cell_type": "code",
      "execution_count": 36,
      "metadata": {},
      "outputs": [
        {
          "name": "stdout",
          "output_type": "stream",
          "text": [
            "--- Hasil Z-Test untuk 50 Lemparan (Simulasi Ulang 2) ---\n",
            "Z-Test = 1.4861379098733447\n",
            "p-Value = 0.13724264667456407\n",
            "Kesimpulan : H0 Diterima. Simulasi mungkin berasal dari dadu yang adil.\n"
          ]
        }
      ],
      "source": [
        "# Langkah #12: Simulasi Ulang 2 (50 lemparan)\n",
        "df_50_run3 = simulasi_dadu(50)\n",
        "z_stat_50_run3, p_val_50_run3 = ztest(df_50_run3['lemparan:'], value=3.5)\n",
        "kesimpulan_50_run3 = \"H0 Ditolak\" if p_val_50_run3 < alpha else \"H0 Diterima\"\n",
        "detail_kesimpulan_50_run3 = f\"Simulasi {'kemungkinan tidak' if p_val_50_run3 < alpha else 'mungkin'} berasal dari dadu yang adil.\"\n",
        "\n",
        "print(\"--- Hasil Z-Test untuk 50 Lemparan (Simulasi Ulang 2) ---\")\n",
        "print(f\"Z-Test = {z_stat_50_run3}\")\n",
        "print(f\"p-Value = {p_val_50_run3}\")\n",
        "print(f\"Kesimpulan : {kesimpulan_50_run3}. {detail_kesimpulan_50_run3}\")"
      ]
    },
    {
      "cell_type": "markdown",
      "metadata": {},
      "source": [
        "|               | Hasil (Isi setelah menjalankan kode di atas)           |\n",
        "|---------------|-------------------------------------------------------|\n",
        "| **Z-Test =**  | *1.4861379098733447*     |\n",
        "| **p-Value =** | *0.13724264667456407*     |\n",
        "| **Kesimpulan :**| *H0 Diterima. Simulasi mungkin berasal dari dadu yang adil.* |"
      ]
    },
    {
      "cell_type": "markdown",
      "metadata": {},
      "source": [
        "**Langkah #13: Simulasikan kembali data dan lakukan Z-Test kembali! (N=50)**"
      ]
    },
    {
      "cell_type": "code",
      "execution_count": 37,
      "metadata": {},
      "outputs": [
        {
          "name": "stdout",
          "output_type": "stream",
          "text": [
            "--- Hasil Z-Test untuk 50 Lemparan (Simulasi Ulang 3) ---\n",
            "Z-Test = 2.753884535976096\n",
            "p-Value = 0.005889254115493599\n",
            "Kesimpulan : H0 Ditolak. Simulasi kemungkinan tidak berasal dari dadu yang adil.\n"
          ]
        }
      ],
      "source": [
        "# Langkah #13: Simulasi Ulang 3 (50 lemparan)\n",
        "df_50_run4 = simulasi_dadu(50)\n",
        "z_stat_50_run4, p_val_50_run4 = ztest(df_50_run4['lemparan:'], value=3.5)\n",
        "kesimpulan_50_run4 = \"H0 Ditolak\" if p_val_50_run4 < alpha else \"H0 Diterima\"\n",
        "detail_kesimpulan_50_run4 = f\"Simulasi {'kemungkinan tidak' if p_val_50_run4 < alpha else 'mungkin'} berasal dari dadu yang adil.\"\n",
        "\n",
        "print(\"--- Hasil Z-Test untuk 50 Lemparan (Simulasi Ulang 3) ---\")\n",
        "print(f\"Z-Test = {z_stat_50_run4}\")\n",
        "print(f\"p-Value = {p_val_50_run4}\")\n",
        "print(f\"Kesimpulan : {kesimpulan_50_run4}. {detail_kesimpulan_50_run4}\")"
      ]
    },
    {
      "cell_type": "markdown",
      "metadata": {},
      "source": [
        "|               | Hasil (Isi setelah menjalankan kode di atas)           |\n",
        "|---------------|-------------------------------------------------------|\n",
        "| **Z-Test =**  | *2.753884535976096*     |\n",
        "| **p-Value =** | *0.005889254115493599*     |\n",
        "| **Kesimpulan :**| *H0 Ditolak. Simulasi kemungkinan tidak berasal dari dadu yang adil.* |"
      ]
    },
    {
      "cell_type": "markdown",
      "metadata": {},
      "source": [
        "**Langkah #14: Untuk kondisi yang sama buat data simulasi lebih sedikit sebesar 10.000 data simulasi**\n",
        "\n",
        "*(Catatan: Terdapat kontradiksi \"lebih sedikit\" dan \"10.000\". Diasumsikan maksudnya adalah \"lebih banyak\" atau \"sebesar 10.000\" untuk menunjukkan efek sampel besar)*"
      ]
    },
    {
      "cell_type": "code",
      "execution_count": 38,
      "metadata": {},
      "outputs": [
        {
          "name": "stdout",
          "output_type": "stream",
          "text": [
            "Data simulasi (10.000 lemparan) df_10000:\n",
            "   lemparan:\n",
            "0          5\n",
            "1          5\n",
            "2          5\n",
            "3          6\n",
            "4          5\n",
            "\n",
            "Bentuk DataFrame df_10000: (10000, 1)\n"
          ]
        }
      ],
      "source": [
        "# Langkah #14: Simulasi 10.000 lemparan\n",
        "df_10000 = simulasi_dadu(10000)\n",
        "print(\"Data simulasi (10.000 lemparan) df_10000:\")\n",
        "print(df_10000.head()) # Menampilkan sebagian kecil saja\n",
        "print(f\"\\nBentuk DataFrame df_10000: {df_10000.shape}\")"
      ]
    },
    {
      "cell_type": "markdown",
      "metadata": {},
      "source": [
        "**Langkah #15: Terapkan Z-Test dan tuliskan hasilnya! (N=10000)**"
      ]
    },
    {
      "cell_type": "code",
      "execution_count": 39,
      "metadata": {},
      "outputs": [
        {
          "name": "stdout",
          "output_type": "stream",
          "text": [
            "--- Hasil Z-Test untuk 10.000 Lemparan (Simulasi Awal) ---\n",
            "Z-Test = 20.05996870761572\n",
            "p-Value = 1.6518792909453674e-89\n",
            "Kesimpulan : H0 Ditolak. Simulasi kemungkinan tidak berasal dari dadu yang adil.\n"
          ]
        }
      ],
      "source": [
        "# Langkah #15: Z-Test untuk 10.000 lemparan (Simulasi Awal dari df_10000)\n",
        "z_stat_10000, p_val_10000 = ztest(df_10000['lemparan:'], value=3.5)\n",
        "kesimpulan_10000 = \"H0 Ditolak\" if p_val_10000 < alpha else \"H0 Diterima\"\n",
        "detail_kesimpulan_10000 = f\"Simulasi {'kemungkinan tidak' if p_val_10000 < alpha else 'mungkin'} berasal dari dadu yang adil.\"\n",
        "\n",
        "print(\"--- Hasil Z-Test untuk 10.000 Lemparan (Simulasi Awal) ---\")\n",
        "print(f\"Z-Test = {z_stat_10000}\")\n",
        "print(f\"p-Value = {p_val_10000}\")\n",
        "print(f\"Kesimpulan : {kesimpulan_10000}. {detail_kesimpulan_10000}\")"
      ]
    },
    {
      "cell_type": "markdown",
      "metadata": {},
      "source": [
        "|               | Hasil (Isi setelah menjalankan kode di atas)           |\n",
        "|---------------|-------------------------------------------------------|\n",
        "| **Z-Test =**  | *20.05996870761572*     |\n",
        "| **p-Value =** | *1.6518792909453674e-89*     |\n",
        "| **Kesimpulan :**| *H0 Ditolak. Simulasi kemungkinan tidak berasal dari dadu yang adil.* |"
      ]
    },
    {
      "cell_type": "markdown",
      "metadata": {},
      "source": [
        "**Langkah #16: Simulasikan kembali data dan lakukan Z-Test kembali! (N=10000)**"
      ]
    },
    {
      "cell_type": "code",
      "execution_count": 40,
      "metadata": {},
      "outputs": [
        {
          "name": "stdout",
          "output_type": "stream",
          "text": [
            "--- Hasil Z-Test untuk 10.000 Lemparan (Simulasi Ulang 1) ---\n",
            "Z-Test = 18.03636237403511\n",
            "p-Value = 1.0097582366335608e-72\n",
            "Kesimpulan : H0 Ditolak. Simulasi kemungkinan tidak berasal dari dadu yang adil.\n"
          ]
        }
      ],
      "source": [
        "# Langkah #16: Simulasi Ulang 1 (10.000 lemparan)\n",
        "df_10000_run2 = simulasi_dadu(10000)\n",
        "z_stat_10000_run2, p_val_10000_run2 = ztest(df_10000_run2['lemparan:'], value=3.5)\n",
        "kesimpulan_10000_run2 = \"H0 Ditolak\" if p_val_10000_run2 < alpha else \"H0 Diterima\"\n",
        "detail_kesimpulan_10000_run2 = f\"Simulasi {'kemungkinan tidak' if p_val_10000_run2 < alpha else 'mungkin'} berasal dari dadu yang adil.\"\n",
        "\n",
        "print(\"--- Hasil Z-Test untuk 10.000 Lemparan (Simulasi Ulang 1) ---\")\n",
        "print(f\"Z-Test = {z_stat_10000_run2}\")\n",
        "print(f\"p-Value = {p_val_10000_run2}\")\n",
        "print(f\"Kesimpulan : {kesimpulan_10000_run2}. {detail_kesimpulan_10000_run2}\")"
      ]
    },
    {
      "cell_type": "markdown",
      "metadata": {},
      "source": [
        "|               | Hasil (Isi setelah menjalankan kode di atas)           |\n",
        "|---------------|-------------------------------------------------------|\n",
        "| **Z-Test =**  | *18.03636237403511*     |\n",
        "| **p-Value =** | *1.0097582366335608e-72*     |\n",
        "| **Kesimpulan :**| *H0 Ditolak. Simulasi kemungkinan tidak berasal dari dadu yang adil.* |"
      ]
    },
    {
      "cell_type": "markdown",
      "metadata": {},
      "source": [
        "**Langkah #17: Simulasikan kembali data dan lakukan Z-Test kembali! (N=10000)**"
      ]
    },
    {
      "cell_type": "code",
      "execution_count": 41,
      "metadata": {},
      "outputs": [
        {
          "name": "stdout",
          "output_type": "stream",
          "text": [
            "--- Hasil Z-Test untuk 10.000 Lemparan (Simulasi Ulang 2) ---\n",
            "Z-Test = 19.464447285512417\n",
            "p-Value = 2.1985334796605344e-84\n",
            "Kesimpulan : H0 Ditolak. Simulasi kemungkinan tidak berasal dari dadu yang adil.\n"
          ]
        }
      ],
      "source": [
        "# Langkah #17: Simulasi Ulang 2 (10.000 lemparan)\n",
        "df_10000_run3 = simulasi_dadu(10000)\n",
        "z_stat_10000_run3, p_val_10000_run3 = ztest(df_10000_run3['lemparan:'], value=3.5)\n",
        "kesimpulan_10000_run3 = \"H0 Ditolak\" if p_val_10000_run3 < alpha else \"H0 Diterima\"\n",
        "detail_kesimpulan_10000_run3 = f\"Simulasi {'kemungkinan tidak' if p_val_10000_run3 < alpha else 'mungkin'} berasal dari dadu yang adil.\"\n",
        "\n",
        "print(\"--- Hasil Z-Test untuk 10.000 Lemparan (Simulasi Ulang 2) ---\")\n",
        "print(f\"Z-Test = {z_stat_10000_run3}\")\n",
        "print(f\"p-Value = {p_val_10000_run3}\")\n",
        "print(f\"Kesimpulan : {kesimpulan_10000_run3}. {detail_kesimpulan_10000_run3}\")"
      ]
    },
    {
      "cell_type": "markdown",
      "metadata": {},
      "source": [
        "|               | Hasil (Isi setelah menjalankan kode di atas)           |\n",
        "|---------------|-------------------------------------------------------|\n",
        "| **Z-Test =**  | *19.464447285512417*     |\n",
        "| **p-Value =** | *2.1985334796605344e-84*     |\n",
        "| **Kesimpulan :**| *H0 Ditolak. Simulasi kemungkinan tidak berasal dari dadu yang adil.* |"
      ]
    },
    {
      "cell_type": "markdown",
      "metadata": {},
      "source": [
        "**Langkah #18: Simulasikan kembali data dan lakukan Z-Test kembali! (N=10000)**"
      ]
    },
    {
      "cell_type": "code",
      "execution_count": 42,
      "metadata": {},
      "outputs": [
        {
          "name": "stdout",
          "output_type": "stream",
          "text": [
            "--- Hasil Z-Test untuk 10.000 Lemparan (Simulasi Ulang 3) ---\n",
            "Z-Test = 21.200569783469074\n",
            "p-Value = 9.434731182662375e-100\n",
            "Kesimpulan : H0 Ditolak. Simulasi kemungkinan tidak berasal dari dadu yang adil.\n"
          ]
        }
      ],
      "source": [
        "# Langkah #18: Simulasi Ulang 3 (10.000 lemparan)\n",
        "df_10000_run4 = simulasi_dadu(10000)\n",
        "z_stat_10000_run4, p_val_10000_run4 = ztest(df_10000_run4['lemparan:'], value=3.5)\n",
        "kesimpulan_10000_run4 = \"H0 Ditolak\" if p_val_10000_run4 < alpha else \"H0 Diterima\"\n",
        "detail_kesimpulan_10000_run4 = f\"Simulasi {'kemungkinan tidak' if p_val_10000_run4 < alpha else 'mungkin'} berasal dari dadu yang adil.\"\n",
        "\n",
        "print(\"--- Hasil Z-Test untuk 10.000 Lemparan (Simulasi Ulang 3) ---\")\n",
        "print(f\"Z-Test = {z_stat_10000_run4}\")\n",
        "print(f\"p-Value = {p_val_10000_run4}\")\n",
        "print(f\"Kesimpulan : {kesimpulan_10000_run4}. {detail_kesimpulan_10000_run4}\")"
      ]
    },
    {
      "cell_type": "markdown",
      "metadata": {},
      "source": [
        "|               | Hasil (Isi setelah menjalankan kode di atas)           |\n",
        "|---------------|-------------------------------------------------------|\n",
        "| **Z-Test =**  | *21.200569783469074*     |\n",
        "| **p-Value =** | *9.434731182662375e-100*     |\n",
        "| **Kesimpulan :**| *H0 Ditolak. Simulasi kemungkinan tidak berasal dari dadu yang adil.* |"
      ]
    },
    {
      "cell_type": "markdown",
      "metadata": {},
      "source": [
        "**Langkah #19: Tuliskan kesimpulan anda dengan mengubah perubahan jumlah data simulasi dan setiap pengulangan proses simulasi !**"
      ]
    },
    {
      "cell_type": "markdown",
      "metadata": {},
      "source": [
        "*(Isi berdasarkan hasil semua simulasi dengan N=50, N=100, dan N=10000, serta pengulangannya).*\n",
        "\n",
        "Setelah melakukan serangkaian simulasi lemparan dadu tidak adil (angka 6 muncul 2x lebih sering) dengan berbagai ukuran sampel (N=50, N=100, N=10.000) dan melakukan pengulangan untuk setiap ukuran sampel, beberapa kesimpulan penting dapat ditarik mengenai pengaruh jumlah data dan pengulangan terhadap hasil Z-test:\n",
        "\n",
        "1.  **Pengaruh Jumlah Data (Ukuran Sampel) terhadap Hasil Z-Test:**\n",
        "    *   **N = 50 (Sampel Kecil):**\n",
        "        *   Hasil Z-test menunjukkan variabilitas yang lebih tinggi. Rata-rata sampel bisa berfluktuasi cukup jauh dari rata-rata teoritis dadu tidak adil (≈3.857) hanya karena kebetulan acak.\n",
        "        *   P-value juga lebih bervariasi. Ada kemungkinan yang lebih besar untuk mendapatkan p-value > 0.05, yang akan mengarah pada kesimpulan (keliru) bahwa H0 diterima (dadu dianggap adil). Ini mencerminkan *power* tes yang lebih rendah pada sampel kecil; tes kurang mampu mendeteksi perbedaan yang sebenarnya ada.\n",
        "        *   Kesimpulan (Tolak/Terima H0) mungkin tidak konsisten antar pengulangan.\n",
        "    *   **N = 100 (Sampel Sedang):**\n",
        "        *   Variabilitas hasil Z-test dan p-value berkurang dibandingkan N=50. Rata-rata sampel cenderung lebih dekat ke ≈3.857.\n",
        "        *   P-value lebih sering berada di bawah 0.05, sehingga H0 (dadu adil, rata-rata 3.5) lebih sering ditolak. *Power* tes meningkat.\n",
        "        *   Kesimpulan menjadi lebih konsisten, dengan mayoritas pengulangan akan menolak H0.\n",
        "    *   **N = 10.000 (Sampel Besar):**\n",
        "        *   Dengan sampel yang sangat besar, rata-rata sampel akan sangat dekat dengan rata-rata teoritis dadu tidak adil (≈3.857). Standar error rata-rata menjadi sangat kecil.\n",
        "        *   Nilai Z-test akan menjadi sangat besar (jauh dari nol), menunjukkan perbedaan yang sangat signifikan dari 3.5.\n",
        "        *   P-value akan sangat kecil (mendekati nol), hampir selalu di bawah 0.05.\n",
        "        *   Kesimpulan (Tolak H0) menjadi sangat konsisten di semua pengulangan. *Power* tes sangat tinggi; tes hampir pasti akan mendeteksi ketidakadilan dadu.\n",
        "\n",
        "2.  **Pengaruh Pengulangan Proses Simulasi (untuk Ukuran Sampel yang Sama):**\n",
        "    *   Pengulangan simulasi untuk ukuran sampel yang sama menunjukkan adanya **variabilitas sampling**. Setiap sampel acak, meskipun ditarik dari populasi yang sama dengan cara yang sama, akan sedikit berbeda.\n",
        "    *   Akibatnya, nilai Z-statistik dan p-value akan sedikit berbeda di setiap pengulangan.\n",
        "    *   Pada sampel kecil (N=50), variabilitas ini bisa cukup besar sehingga kesimpulan (Tolak/Terima H0) dapat berubah antar pengulangan.\n",
        "    *   Pada sampel besar (N=10.000), meskipun Z dan p-value tetap berfluktuasi sedikit, fluktuasi tersebut biasanya tidak cukup besar untuk mengubah kesimpulan (H0 hampir selalu ditolak).\n",
        "\n",
        "3.  **Kesimpulan Umum:**\n",
        "    *   Dadu yang disimulasikan memang **tidak adil**. Rata-rata sebenarnya adalah ≈3.857, bukan 3.5.\n",
        "    *   Z-test bertujuan untuk menguji hipotesis nol bahwa rata-rata populasi adalah 3.5. Semakin besar ukuran sampel, semakin akurat estimasi rata-rata sampel terhadap rata-rata populasi sebenarnya, dan semakin besar *power* Z-test untuk mendeteksi perbedaan antara rata-rata sebenarnya (≈3.857) dan rata-rata hipotesis nol (3.5).\n",
        "    *   Eksperimen ini secara jelas menunjukkan bahwa **ukuran sampel sangat penting dalam pengujian hipotesis**. Sampel yang lebih besar memberikan bukti yang lebih kuat dan kesimpulan yang lebih andal. Dengan sampel kecil, kita berisiko lebih tinggi membuat kesalahan Tipe II (gagal menolak H0 yang salah).\n",
        "    *   Pengulangan membantu memahami stabilitas hasil dan efek dari variabilitas sampling."
      ]
    }
  ],
  "metadata": {
    "kernelspec": {
      "display_name": "Python 3",
      "language": "python",
      "name": "python3"
    },
    "language_info": {
      "codemirror_mode": {
        "name": "ipython",
        "version": 3
      },
      "file_extension": ".py",
      "mimetype": "text/x-python",
      "name": "python",
      "nbconvert_exporter": "python",
      "pygments_lexer": "ipython3",
      "version": "3.10.0"
    }
  },
  "nbformat": 4,
  "nbformat_minor": 2
}
