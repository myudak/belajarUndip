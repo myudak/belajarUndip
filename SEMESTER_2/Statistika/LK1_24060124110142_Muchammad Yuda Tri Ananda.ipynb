{
 "cells": [
  {
   "cell_type": "markdown",
   "id": "206804a9",
   "metadata": {},
   "source": [
    "\n",
    "### Nama : Muchammad Yuda Tri Ananda \n",
    "### NIM  : 24060124110142\n",
    "### Kelas  : D\n",
    "\n",
    "\n",
    "\n",
    "Untuk mempelajari lebih lanjut mengenai properti dari nilai mean dan median, silahkan terlebih \n",
    "dahulu download dataset (“Latihan.csv”) dari link berikut ini: \n",
    "\n",
    "- https://s.id/aDGce  \n",
    "\n",
    "Dataset “Latihan” merupakan dataset yang berisi sampel jumlah jawaban benar untuk masing\n",
    "masing tipe soal dan skornya pada suatu Latihan untuk suatu mata kuliah tertentu.\n",
    "\n",
    "\n",
    "\n",
    "Aturan Penulisan Kode Program: \n",
    "- Gunakan Google Collaboratory dan library Pandas untuk mengerjakan lembar kerja \n",
    "berikut. \n",
    "- Simpan DataFrame hasil pembacaan file dataset “Latihan.csv” ke dalam variable “df”\n",
    "\n"
   ]
  },
  {
   "cell_type": "code",
   "execution_count": 74,
   "id": "60de4908",
   "metadata": {},
   "outputs": [
    {
     "data": {
      "text/html": [
       "<div>\n",
       "<style scoped>\n",
       "    .dataframe tbody tr th:only-of-type {\n",
       "        vertical-align: middle;\n",
       "    }\n",
       "\n",
       "    .dataframe tbody tr th {\n",
       "        vertical-align: top;\n",
       "    }\n",
       "\n",
       "    .dataframe thead th {\n",
       "        text-align: right;\n",
       "    }\n",
       "</style>\n",
       "<table border=\"1\" class=\"dataframe\">\n",
       "  <thead>\n",
       "    <tr style=\"text-align: right;\">\n",
       "      <th></th>\n",
       "      <th>Tipe1</th>\n",
       "      <th>Tipe2</th>\n",
       "      <th>Tipe3</th>\n",
       "      <th>Tipe4</th>\n",
       "    </tr>\n",
       "  </thead>\n",
       "  <tbody>\n",
       "    <tr>\n",
       "      <th>0</th>\n",
       "      <td>5</td>\n",
       "      <td>5</td>\n",
       "      <td>4</td>\n",
       "      <td>2</td>\n",
       "    </tr>\n",
       "    <tr>\n",
       "      <th>1</th>\n",
       "      <td>5</td>\n",
       "      <td>3</td>\n",
       "      <td>2</td>\n",
       "      <td>3</td>\n",
       "    </tr>\n",
       "    <tr>\n",
       "      <th>2</th>\n",
       "      <td>5</td>\n",
       "      <td>4</td>\n",
       "      <td>2</td>\n",
       "      <td>3</td>\n",
       "    </tr>\n",
       "    <tr>\n",
       "      <th>3</th>\n",
       "      <td>5</td>\n",
       "      <td>3</td>\n",
       "      <td>2</td>\n",
       "      <td>2</td>\n",
       "    </tr>\n",
       "    <tr>\n",
       "      <th>4</th>\n",
       "      <td>4</td>\n",
       "      <td>3</td>\n",
       "      <td>2</td>\n",
       "      <td>4</td>\n",
       "    </tr>\n",
       "  </tbody>\n",
       "</table>\n",
       "</div>"
      ],
      "text/plain": [
       "   Tipe1  Tipe2  Tipe3  Tipe4\n",
       "0      5      5      4      2\n",
       "1      5      3      2      3\n",
       "2      5      4      2      3\n",
       "3      5      3      2      2\n",
       "4      4      3      2      4"
      ]
     },
     "execution_count": 74,
     "metadata": {},
     "output_type": "execute_result"
    }
   ],
   "source": [
    "# Import Library\n",
    "import pandas as pd\n",
    "\n",
    "# Download File \"Latihan.csv\"\n",
    "LINK_DATASET = \"https://github.com/myudak/belajarUndip/blob/367836e9ccf8f699c44b920cebfd1b662624693e/SEMESTER_2/Statistika/Latihan.csv?raw=true\"\n",
    "\n",
    "# Simpan DataFrame ke variable df\n",
    "df = pd.read_csv(LINK_DATASET)\n",
    "\n",
    "# Isi dataframe top 5 baris\n",
    "df.head()\n"
   ]
  },
  {
   "cell_type": "markdown",
   "id": "019954e5",
   "metadata": {},
   "source": [
    "## <u>Properti #1:</u> Menambah atau mengurangi dengan suatu nilai konstanta untuk semua dataset. \n",
    "\n",
    "Untuk menemukan properti pertama, kita akan mencari nilai mean (rata-rata) dan median (nilai \n",
    "tengah) dari kumpulan data, lalu menambahkan (atau mengurangi) suatu nilai konstanta yang \n",
    "sama untuk setiap baris dalam data, dan menemukan nilai rata-rata dan median yang baru. "
   ]
  },
  {
   "cell_type": "code",
   "execution_count": 75,
   "id": "b3f7045a",
   "metadata": {},
   "outputs": [
    {
     "data": {
      "text/plain": [
       "0    2\n",
       "1    3\n",
       "2    3\n",
       "3    2\n",
       "4    4\n",
       "Name: Tipe4, dtype: int64"
      ]
     },
     "execution_count": 75,
     "metadata": {},
     "output_type": "execute_result"
    }
   ],
   "source": [
    "KOLOM = 'Tipe4'\n",
    "tipe4 = df[KOLOM]\n",
    "tipe4.head() # Melihatkan top 5 dataframe kolom Tipe4"
   ]
  },
  {
   "cell_type": "markdown",
   "id": "80c86c58",
   "metadata": {},
   "source": [
    "### Langkah 1: Hitung nilai mean dan median sebelum memodifikasi dataset untuk  variabel **Tipe4** (bebas memilih)"
   ]
  },
  {
   "cell_type": "code",
   "execution_count": 76,
   "id": "8b933551",
   "metadata": {},
   "outputs": [
    {
     "name": "stdout",
     "output_type": "stream",
     "text": [
      "Dataset kolom Tipe4 sebelum penambahan konstanta\n",
      "Mean\t: 3.6785714285714284\n",
      "Median\t: 3.5\n"
     ]
    }
   ],
   "source": [
    "tipe4_mean = tipe4.mean()\n",
    "tipe4_median = tipe4.median()\n",
    "\n",
    "print(f\"Dataset kolom {KOLOM} sebelum penambahan konstanta\")\n",
    "print('Mean\\t:', tipe4_mean)\n",
    "print('Median\\t:', tipe4_median)"
   ]
  },
  {
   "cell_type": "markdown",
   "id": "89d2d335",
   "metadata": {},
   "source": [
    "### Langkah 2: Modifikasi satu buah variabel dari dataset terkait dengan menambahkan atau mengurangi suatu konstanta untuk setiap data. "
   ]
  },
  {
   "cell_type": "code",
   "execution_count": 77,
   "id": "a0f44063",
   "metadata": {},
   "outputs": [],
   "source": [
    "KONSTANTA = 69"
   ]
  },
  {
   "cell_type": "code",
   "execution_count": 78,
   "id": "bd6f604c",
   "metadata": {},
   "outputs": [
    {
     "data": {
      "text/plain": [
       "0    71\n",
       "1    72\n",
       "2    72\n",
       "3    71\n",
       "4    73\n",
       "Name: Tipe4, dtype: int64"
      ]
     },
     "execution_count": 78,
     "metadata": {},
     "output_type": "execute_result"
    }
   ],
   "source": [
    "tipe4_modifikasi = df[KOLOM].map(lambda x: x + KONSTANTA)\n",
    "tipe4_modifikasi.head()"
   ]
  },
  {
   "cell_type": "markdown",
   "id": "c108c2be",
   "metadata": {},
   "source": [
    "### Langkah 3: Hitung nilai mean dan median dari modified dataset untuk melengkapi tabel pada Langkah 1 dan lakukan analisa terhadap hasil yang diperoleh sesuai pertanyaan berikut ini. "
   ]
  },
  {
   "cell_type": "code",
   "execution_count": 79,
   "id": "928cb9a3",
   "metadata": {},
   "outputs": [
    {
     "name": "stdout",
     "output_type": "stream",
     "text": [
      "Dataset kolom Tipe4 setelah penambahan konstanta\n",
      "Mean\t: 72.67857142857143\n",
      "Median\t: 72.5\n"
     ]
    }
   ],
   "source": [
    "tipe4_modifikasi_mean = tipe4_modifikasi.mean()\n",
    "tipe4_modifikasi_median = tipe4_modifikasi.median()\n",
    "\n",
    "print(f\"Dataset kolom {KOLOM} setelah penambahan konstanta\")\n",
    "print('Mean\\t:', tipe4_modifikasi_mean)\n",
    "print('Median\\t:', tipe4_modifikasi_median)"
   ]
  },
  {
   "cell_type": "markdown",
   "id": "980ff740",
   "metadata": {},
   "source": [
    "| **Statistical Descriptive** | **Python Code**            | **Original Data**         | **Modified Data**         |\n",
    "|----------------------------|----------------------------|---------------------------|---------------------------|\n",
    "| μ (Mean)                   | `tipe4.mean()`             | 3.6785714285714284        | 72.67857142857143         |\n",
    "| Median                     | `tipe4.median()`           | 3.5                       | 72.5                      |\n"
   ]
  },
  {
   "cell_type": "markdown",
   "id": "a9e649be",
   "metadata": {},
   "source": [
    "| Python Code: |       ```df['Tipe4'].map(lambda x: x + 69)```        |\n",
    "|--------------|---------------|\n",
    "| Deskripsi:   | Menambahkan sebuah konstanta sebesar **69** untuk setiap data dari variabel **Tipe4** |"
   ]
  },
  {
   "cell_type": "markdown",
   "id": "b1db5d11",
   "metadata": {},
   "source": [
    "| Bagaimana penjumlahan/pengurangan suatu konstanta pada semua data mengubah nilai rata rata dan median?      |\n",
    "|-----------------------------|\n",
    "| Menambahkan atau mengurangi suatu konstanta pada semua data akan menggeser seluruh nilai data tanpa mengubah bentuk distribusinya. Akibatnya, nilai rata-rata (mean) dan median akan berubah sebesar konstanta tersebut: jika ditambah $c$, maka mean dan median juga akan bertambah $c$; jika dikurang $c$, maka keduanya akan berkurang sebesar $c$. |"
   ]
  },
  {
   "cell_type": "markdown",
   "id": "2856b6cb",
   "metadata": {},
   "source": [
    "## <u>Properti #2:</u> Mengalikan atau membagi dengan suatu nilai konstanta untuk semua dataset. \n",
    "Mirip dengan properti pertama, apa yang akan terjadi ketika kita mengalikan atau membagi \n",
    "semua data dengan suatu nilai konstanta."
   ]
  },
  {
   "cell_type": "code",
   "execution_count": 80,
   "id": "3b224a07",
   "metadata": {},
   "outputs": [
    {
     "data": {
      "text/plain": [
       "0    4\n",
       "1    2\n",
       "2    2\n",
       "3    2\n",
       "4    2\n",
       "Name: Tipe3, dtype: int64"
      ]
     },
     "execution_count": 80,
     "metadata": {},
     "output_type": "execute_result"
    }
   ],
   "source": [
    "KOLOM = 'Tipe3'\n",
    "tipe3 = df[KOLOM]\n",
    "tipe3.head() # Melihatkan top 5 dataframe"
   ]
  },
  {
   "cell_type": "markdown",
   "id": "f9a35810",
   "metadata": {},
   "source": [
    "### Langkah 1: Hitung nilai mean dan median sebelum memodifikasi dataset untuk variabel **Tipe3** (bebas memilih)"
   ]
  },
  {
   "cell_type": "code",
   "execution_count": 81,
   "id": "59471898",
   "metadata": {},
   "outputs": [
    {
     "name": "stdout",
     "output_type": "stream",
     "text": [
      "Dataset kolom Tipe3 sebelum penambahan konstanta\n",
      "Mean\t: 5.339285714285714\n",
      "Median\t: 4.0\n"
     ]
    }
   ],
   "source": [
    "tipe3_mean = tipe3.mean()\n",
    "tipe3_median = tipe3.median()\n",
    "\n",
    "print(f\"Dataset kolom {KOLOM} sebelum penambahan konstanta\")\n",
    "print('Mean\\t:', tipe3_mean)\n",
    "print('Median\\t:', tipe3_median)"
   ]
  },
  {
   "cell_type": "markdown",
   "id": "6d40e928",
   "metadata": {},
   "source": [
    "### Langkah 2: Modifikasi satu buah variabel dari dataset terkait dengan mengalikan suatu konstanta (69) untuk setiap data.  "
   ]
  },
  {
   "cell_type": "code",
   "execution_count": 82,
   "id": "521a7e75",
   "metadata": {},
   "outputs": [],
   "source": [
    "KONSTANTA = 69"
   ]
  },
  {
   "cell_type": "code",
   "execution_count": 83,
   "id": "e1a79932",
   "metadata": {},
   "outputs": [
    {
     "data": {
      "text/plain": [
       "0    276\n",
       "1    138\n",
       "2    138\n",
       "3    138\n",
       "4    138\n",
       "Name: Tipe3, dtype: int64"
      ]
     },
     "execution_count": 83,
     "metadata": {},
     "output_type": "execute_result"
    }
   ],
   "source": [
    "tipe3_modifikasi = df[KOLOM].map(lambda x: x * KONSTANTA) # untuk setiap data dalam kolom 'Tipe3' dikalikan KONSTANTA 69\n",
    "tipe3_modifikasi.head()"
   ]
  },
  {
   "cell_type": "markdown",
   "id": "ce164d7a",
   "metadata": {},
   "source": [
    "### Langkah 3: Hitung nilai mean dan median dari modified dataset untuk melengkapi tabel pada Langkah 1 dan lakukan analisa terhadap hasil yang diperoleh sesuai pertanyaan berikut ini. "
   ]
  },
  {
   "cell_type": "code",
   "execution_count": 84,
   "id": "a3ca0f02",
   "metadata": {},
   "outputs": [
    {
     "name": "stdout",
     "output_type": "stream",
     "text": [
      "Dataset kolom Tipe3 setelah penambahan konstanta\n",
      "Mean\t: 368.4107142857143\n",
      "Median\t: 276.0\n"
     ]
    }
   ],
   "source": [
    "tipe3_modifikasi_mean = tipe3_modifikasi.mean()\n",
    "Tipe3_modifikasi_median = tipe3_modifikasi.median()\n",
    "\n",
    "print(f\"Dataset kolom {KOLOM} setelah penambahan konstanta\")\n",
    "print('Mean\\t:', tipe3_modifikasi_mean)\n",
    "print('Median\\t:', Tipe3_modifikasi_median)"
   ]
  },
  {
   "cell_type": "markdown",
   "id": "4f18de2c",
   "metadata": {},
   "source": [
    "| **Statistical Descriptive** | **Python Code**            | **Original Data**         | **Modified Data**         |\n",
    "|----------------------------|----------------------------|---------------------------|---------------------------|\n",
    "| μ (Mean)                   | `tipe3.mean()`             | 5.339285714285714        | 368.4107142857143         |\n",
    "| Median                     | `tipe3.median()`           | 4.0                       | 276.0                      |\n"
   ]
  },
  {
   "cell_type": "markdown",
   "id": "3066ca17",
   "metadata": {},
   "source": [
    "| Python Code: |       ```df['Tipe3'].map(lambda x: x * 69)```        |\n",
    "|--------------|---------------|\n",
    "| Deskripsi:   | Mengalikan sebuah konstanta sebesar **69** untuk setiap data dari variabel **Tipe3** |"
   ]
  },
  {
   "cell_type": "markdown",
   "id": "9a777ab7",
   "metadata": {},
   "source": [
    "| Bagaimana perkalian/pembagian suatu konstanta pada semua data mengubah nilai rata-rata dan median?       |\n",
    "|-----------------------------|\n",
    "| Jika semua data dikalikan atau dibagi dengan suatu konstanta $c$, maka **rata-rata (mean)** dan **median** juga akan dikalikan atau dibagi dengan konstanta tersebut. Artinya, jika setiap nilai dalam data dikalikan $c$, maka nilai mean dan median juga berubah menjadi $\\text{mean} \\times c$ dan $\\text{median} \\times c$. Begitu pula jika dibagi $c$, keduanya menjadi $\\text{mean} \\div c$ dan $\\text{median} \\div c$. Namun, seperti pada penjumlahan/pengurangan, bentuk distribusi tetap sama; hanya skala datanya saja yang berubah. Contoh dalam hal ini Median original adalah 4.0 dan median yang dimodifikasi adalah 276.0 yaitu 69 konstanta kalinya median original 4.0.  |"
   ]
  },
  {
   "cell_type": "markdown",
   "id": "ee72ac84",
   "metadata": {},
   "source": [
    "## <u>Properti #3:</u> Sensitif terhadap Outliers \n",
    "Gunakan data yang sama, apa yang akan terjadi jika kita terdapat siswa baru super genius dimana \n",
    "untuk setiap tipe ujian selalu mendapatkan poin maksimal yakni 1000. "
   ]
  },
  {
   "cell_type": "code",
   "execution_count": 85,
   "id": "f1b4f085",
   "metadata": {},
   "outputs": [
    {
     "data": {
      "text/plain": [
       "0    4\n",
       "1    2\n",
       "2    2\n",
       "3    2\n",
       "4    2\n",
       "Name: Tipe3, dtype: int64"
      ]
     },
     "execution_count": 85,
     "metadata": {},
     "output_type": "execute_result"
    }
   ],
   "source": [
    "KOLOM = 'Tipe3'\n",
    "tipe3 = df[KOLOM]\n",
    "tipe3.head()"
   ]
  },
  {
   "cell_type": "markdown",
   "id": "dfd61b48",
   "metadata": {},
   "source": [
    "### Langkah 1: Hitung nilai mean dan median sebelum memodifikasi dataset untuk variabel Tipe3 (bebas memilih)"
   ]
  },
  {
   "cell_type": "code",
   "execution_count": 86,
   "id": "1c0c8d7c",
   "metadata": {},
   "outputs": [
    {
     "name": "stdout",
     "output_type": "stream",
     "text": [
      "Dataset kolom Tipe3 sebelum penambahan konstanta\n",
      "Mean\t: 5.339285714285714\n",
      "Median\t: 4.0\n"
     ]
    }
   ],
   "source": [
    "tipe3_mean = tipe3.mean()\n",
    "tipe3_median = tipe3.median()\n",
    "\n",
    "print(f\"Dataset kolom {KOLOM} sebelum penambahan konstanta\")\n",
    "print('Mean\\t:', tipe3_mean)\n",
    "print('Median\\t:', tipe3_median)"
   ]
  },
  {
   "cell_type": "markdown",
   "id": "680e585a",
   "metadata": {},
   "source": [
    "### Langkah 2: Modifikasi dataset dengan menambahkan satu baris data. "
   ]
  },
  {
   "cell_type": "code",
   "execution_count": 87,
   "id": "1aaa37f0",
   "metadata": {},
   "outputs": [
    {
     "data": {
      "text/plain": [
       "52       8\n",
       "53      12\n",
       "54       5\n",
       "55       3\n",
       "0     1000\n",
       "dtype: int64"
      ]
     },
     "execution_count": 87,
     "metadata": {},
     "output_type": "execute_result"
    }
   ],
   "source": [
    "DATA_BARU = 1000\n",
    "tipe3_modifikasi = pd.concat([df[KOLOM], pd.Series([DATA_BARU])])\n",
    "tipe3_modifikasi.tail() # Melihatkan bahwa data baru sudah ditambahkan"
   ]
  },
  {
   "cell_type": "markdown",
   "id": "b28a5de5",
   "metadata": {},
   "source": [
    "### Langkah 3: Hitung nilai mean dan median dari modified dataset untuk melengkapi tabel pada Langkah 1 dan lakukan analisa terhadap hasil yang diperoleh sesuai pertanyaan berikut ini. "
   ]
  },
  {
   "cell_type": "code",
   "execution_count": 88,
   "id": "7bf27ea1",
   "metadata": {},
   "outputs": [
    {
     "name": "stdout",
     "output_type": "stream",
     "text": [
      "Dataset kolom Tipe3 setelah penambahan konstanta\n",
      "Mean\t: 22.789473684210527\n",
      "Median\t: 4.0\n"
     ]
    }
   ],
   "source": [
    "tipe3_modifikasi_mean = tipe3_modifikasi.mean()\n",
    "tipe3_modifikasi_median = tipe3_modifikasi.median()\n",
    "\n",
    "print(f\"Dataset kolom {KOLOM} setelah penambahan konstanta\")\n",
    "print('Mean\\t:', tipe3_modifikasi_mean)\n",
    "print('Median\\t:', tipe3_modifikasi_median)"
   ]
  },
  {
   "cell_type": "markdown",
   "id": "806b5d70",
   "metadata": {},
   "source": [
    "| **Statistical Descriptive** | **Python Code**            | **Original Data**         | **Modified Data**         |\n",
    "|----------------------------|----------------------------|---------------------------|---------------------------|\n",
    "| μ (Mean)                   | `tipe3.mean()`             | 5.339285714285714        | 127.03508771929825         |\n",
    "| Median                     | `tipe3.median()`           | 4.0                       | 4.0                      |\n"
   ]
  },
  {
   "cell_type": "markdown",
   "id": "d7db1d1e",
   "metadata": {},
   "source": [
    "| Python Code: |       ```pd.concat([df[\"Tipe3\"], pd.Series([1000])])```        |\n",
    "|--------------|---------------|\n",
    "| Deskripsi:   | Menambahkan satu baris data dengan nilai 1000 untuk variabel Tipe3 |"
   ]
  },
  {
   "cell_type": "markdown",
   "id": "5f848e58",
   "metadata": {},
   "source": [
    "| Bagaimana perkalian/pembagian suatu konstanta pada semua data mengubah nilai rata-rata dan median?       |\n",
    "|-----------------------------|\n",
    "| Penambahan satu baris data baru yang berupa nilai ekstrem (misalnya, sangat besar atau sangat kecil dibandingkan dengan nilai lainnya) akan mempengaruhi rata-rata (mean) secara signifikan, tetapi pengaruhnya terhadap median cenderung lebih kecil, tergantung pada posisi nilai ekstrem dalam data. Contoh dalam hal ini mean rata-rata berubah drastis, sedangkan median tidak berubah sama sekali |"
   ]
  }
 ],
 "metadata": {
  "kernelspec": {
   "display_name": "Python 3",
   "language": "python",
   "name": "python3"
  },
  "language_info": {
   "codemirror_mode": {
    "name": "ipython",
    "version": 3
   },
   "file_extension": ".py",
   "mimetype": "text/x-python",
   "name": "python",
   "nbconvert_exporter": "python",
   "pygments_lexer": "ipython3",
   "version": "3.10.0"
  }
 },
 "nbformat": 4,
 "nbformat_minor": 5
}
