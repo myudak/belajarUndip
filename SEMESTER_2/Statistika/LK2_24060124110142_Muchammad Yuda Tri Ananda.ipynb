{
 "cells": [
  {
   "cell_type": "markdown",
   "id": "ea02688d",
   "metadata": {},
   "source": [
    "### Nama : Muchammad Yuda Tri Ananda \n",
    "### NIM  : 24060124110142\n",
    "### Kelas  : D\n",
    "\n",
    "\n",
    "\n",
    "Untuk mempelajari lebih lanjut mengenai properti dari nilai standard deviation dan variance,  silahkan terlebih dahulu download dataset (“Latihan.csv”) dari link berikut ini:\n",
    "\n",
    "- https://s.id/aDGce  \n",
    "\n",
    "Dataset “Latihan” merupakan dataset yang berisi sampel jumlah jawaban benar untuk masing\n",
    "masing tipe soal dan skornya pada suatu Latihan untuk suatu mata kuliah tertentu.\n",
    "\n",
    "\n",
    "\n",
    "Aturan Penulisan Kode Program: \n",
    "- Gunakan Google Collaboratory dan library Pandas untuk mengerjakan lembar kerja \n",
    "berikut. \n",
    "- Simpan DataFrame hasil pembacaan file dataset “Latihan.csv” ke dalam variable “df”\n",
    "\n"
   ]
  },
  {
   "cell_type": "code",
   "execution_count": 34,
   "id": "cd1c7f4a",
   "metadata": {},
   "outputs": [
    {
     "data": {
      "text/html": [
       "<div>\n",
       "<style scoped>\n",
       "    .dataframe tbody tr th:only-of-type {\n",
       "        vertical-align: middle;\n",
       "    }\n",
       "\n",
       "    .dataframe tbody tr th {\n",
       "        vertical-align: top;\n",
       "    }\n",
       "\n",
       "    .dataframe thead th {\n",
       "        text-align: right;\n",
       "    }\n",
       "</style>\n",
       "<table border=\"1\" class=\"dataframe\">\n",
       "  <thead>\n",
       "    <tr style=\"text-align: right;\">\n",
       "      <th></th>\n",
       "      <th>Tipe1</th>\n",
       "      <th>Tipe2</th>\n",
       "      <th>Tipe3</th>\n",
       "      <th>Tipe4</th>\n",
       "    </tr>\n",
       "  </thead>\n",
       "  <tbody>\n",
       "    <tr>\n",
       "      <th>0</th>\n",
       "      <td>5</td>\n",
       "      <td>5</td>\n",
       "      <td>4</td>\n",
       "      <td>2</td>\n",
       "    </tr>\n",
       "    <tr>\n",
       "      <th>1</th>\n",
       "      <td>5</td>\n",
       "      <td>3</td>\n",
       "      <td>2</td>\n",
       "      <td>3</td>\n",
       "    </tr>\n",
       "    <tr>\n",
       "      <th>2</th>\n",
       "      <td>5</td>\n",
       "      <td>4</td>\n",
       "      <td>2</td>\n",
       "      <td>3</td>\n",
       "    </tr>\n",
       "    <tr>\n",
       "      <th>3</th>\n",
       "      <td>5</td>\n",
       "      <td>3</td>\n",
       "      <td>2</td>\n",
       "      <td>2</td>\n",
       "    </tr>\n",
       "    <tr>\n",
       "      <th>4</th>\n",
       "      <td>4</td>\n",
       "      <td>3</td>\n",
       "      <td>2</td>\n",
       "      <td>4</td>\n",
       "    </tr>\n",
       "  </tbody>\n",
       "</table>\n",
       "</div>"
      ],
      "text/plain": [
       "   Tipe1  Tipe2  Tipe3  Tipe4\n",
       "0      5      5      4      2\n",
       "1      5      3      2      3\n",
       "2      5      4      2      3\n",
       "3      5      3      2      2\n",
       "4      4      3      2      4"
      ]
     },
     "execution_count": 34,
     "metadata": {},
     "output_type": "execute_result"
    }
   ],
   "source": [
    "# Import Library\n",
    "import pandas as pd\n",
    "\n",
    "# Download File \"Latihan.csv\"\n",
    "LINK_DATASET = \"https://github.com/myudak/belajarUndip/blob/367836e9ccf8f699c44b920cebfd1b662624693e/SEMESTER_2/Statistika/Latihan.csv?raw=true\"\n",
    "\n",
    "# Simpan DataFrame ke variable df\n",
    "df = pd.read_csv(LINK_DATASET)\n",
    "\n",
    "# Isi dataframe top 5 baris\n",
    "df.head()\n"
   ]
  },
  {
   "cell_type": "markdown",
   "id": "e858ca7b",
   "metadata": {},
   "source": [
    "## <u>Properti #1:</u> Menambah atau mengurangi dengan suatu nilai konstanta untuk semua dataset. \n",
    "\n",
    "Untuk menemukan properti pertama, kita akan mencari nilai  standard deviation dan variance dari kumpulan data, lalu menambahkan (atau mengurangi) suatu nilai konstanta yang sama untuk setiap baris dalam data, dan menemukan nilai  standard deviation dan variance  yang baru."
   ]
  },
  {
   "cell_type": "code",
   "execution_count": 35,
   "id": "401d0360",
   "metadata": {},
   "outputs": [
    {
     "data": {
      "text/plain": [
       "0    2\n",
       "1    3\n",
       "2    3\n",
       "3    2\n",
       "4    4\n",
       "Name: Tipe4, dtype: int64"
      ]
     },
     "execution_count": 35,
     "metadata": {},
     "output_type": "execute_result"
    }
   ],
   "source": [
    "KOLOM = 'Tipe4'\n",
    "tipe4 = df[KOLOM]\n",
    "tipe4.head() # Melihatkan top 5 dataframe kolom Tipe4"
   ]
  },
  {
   "cell_type": "markdown",
   "id": "d270ea53",
   "metadata": {},
   "source": [
    "### Langkah 1: Hitung nilai standard deviation dan variance sebelum memodifikasi dataset untuk variabel **Tipe4** (bebas memilih) "
   ]
  },
  {
   "cell_type": "code",
   "execution_count": 36,
   "id": "a82e5f11",
   "metadata": {},
   "outputs": [
    {
     "name": "stdout",
     "output_type": "stream",
     "text": [
      "Dataset kolom Tipe4 sebelum penambahan konstanta\n",
      "Standar Deviasi\t: 1.869439807751294\n",
      "Variansi\t: 3.4948051948051946\n"
     ]
    }
   ],
   "source": [
    "tipe4_std = tipe4.std()\n",
    "tipe4_var = tipe4.var()\n",
    "\n",
    "print(f\"Dataset kolom {KOLOM} sebelum penambahan konstanta\")\n",
    "print('Standar Deviasi\\t:', tipe4_std)\n",
    "print('Variansi\\t:', tipe4_var)"
   ]
  },
  {
   "cell_type": "markdown",
   "id": "3b7e5607",
   "metadata": {},
   "source": [
    "### Langkah 2: Modifikasi satu buah variabel dari dataset terkait dengan menambahkan atau mengurangi suatu konstanta untuk setiap data."
   ]
  },
  {
   "cell_type": "code",
   "execution_count": 37,
   "id": "ac50da9c",
   "metadata": {},
   "outputs": [],
   "source": [
    "KONSTANTA = 69"
   ]
  },
  {
   "cell_type": "code",
   "execution_count": 38,
   "id": "16ac25bb",
   "metadata": {},
   "outputs": [
    {
     "data": {
      "text/plain": [
       "0    71\n",
       "1    72\n",
       "2    72\n",
       "3    71\n",
       "4    73\n",
       "Name: Tipe4, dtype: int64"
      ]
     },
     "execution_count": 38,
     "metadata": {},
     "output_type": "execute_result"
    }
   ],
   "source": [
    "tipe4_mod = df[KOLOM].map(lambda x: x + KONSTANTA)\n",
    "tipe4_mod.head()"
   ]
  },
  {
   "cell_type": "markdown",
   "id": "6607cedc",
   "metadata": {},
   "source": [
    "### Langkah 3: Hitung nilai standard deviation dan variance dari modified dataset untuk melengkapi tabel pada Langkah 1 dan lakukan analisa terhadap hasil yang diperoleh sesuai pertanyaan berikut ini. "
   ]
  },
  {
   "cell_type": "code",
   "execution_count": 39,
   "id": "e95f1eaf",
   "metadata": {},
   "outputs": [
    {
     "name": "stdout",
     "output_type": "stream",
     "text": [
      "Dataset kolom Tipe4 setelah penambahan konstanta\n",
      "Standar Deviasi\t: 1.869439807751294\n",
      "Variansi\t: 3.4948051948051946\n"
     ]
    }
   ],
   "source": [
    "tipe4_mod_std = tipe4_mod.std()\n",
    "tipe4_mod_var = tipe4_mod.var()\n",
    "\n",
    "print(f\"Dataset kolom {KOLOM} setelah penambahan konstanta\")\n",
    "print(\"Standar Deviasi\\t:\", tipe4_mod_std)\n",
    "print(\"Variansi\\t:\", tipe4_mod_var)"
   ]
  },
  {
   "cell_type": "markdown",
   "id": "39d22ed7",
   "metadata": {},
   "source": [
    "| **Statistical Descriptive** | **Python Code**            | **Original Data**         | **Modified Data**         |\n",
    "|----------------------------|----------------------------|---------------------------|---------------------------|\n",
    "| *s* (Standard Deviation):                   | `tipe4.std()`             | 1.869439807751294        | 1.869439807751294         |\n",
    "| *s²* (Variance):                      | `tipe4.var()`           | 3.4948051948051946                       | 3.4948051948051946                      |\n"
   ]
  },
  {
   "cell_type": "markdown",
   "id": "b97b4c86",
   "metadata": {},
   "source": [
    "| Python Code: |       ```df['Tipe4'].map(lambda x: x + 69)```        |\n",
    "|--------------|---------------|\n",
    "| Deskripsi:   | Menambahkan sebuah konstanta sebesar **69** untuk setiap data dari variabel **Tipe4** |"
   ]
  },
  {
   "cell_type": "markdown",
   "id": "e843ee28",
   "metadata": {},
   "source": [
    "| Bagaimana penjumlahan/pengurangan suatu konstanta pada semua data mengubah nilai standard deviation dan variance?       |\n",
    "|-----------------------------|\n",
    "| Menambahkan atau mengurangi suatu konstanta pada semua data tidak akan memengaruhi nilai varians maupun standar deviasi, karena kedua ukuran ini bergantung pada seberapa jauh data tersebar dari rata-ratanya, bukan pada posisi absolut datanya. Saat semua nilai dalam data digeser naik atau turun dengan konstanta tertentu, rata-rata juga ikut bergeser sebesar konstanta itu, tetapi selisih antara setiap data dan rata-ratanya tetap sama. Karena varians dan standar deviasi dihitung berdasarkan selisih ini (deviasi dari rata-rata), maka nilainya tidak berubah. Dengan kata lain, distribusi data tetap memiliki bentuk dan lebar yang sama, hanya lokasinya saja yang bergeser. |"
   ]
  },
  {
   "cell_type": "markdown",
   "id": "d9aea28e",
   "metadata": {},
   "source": [
    "## <u>Properti #2:</u> Mengalikan atau membagi dengan suatu nilai konstanta untuk semua dataset. \n",
    "\n",
    "Mirip dengan properti pertama, apa yang akan terjadi ketika kita mengalikan atau membagi semua data dengan suatu nilai konstanta."
   ]
  },
  {
   "cell_type": "code",
   "execution_count": 40,
   "id": "ae436fbc",
   "metadata": {},
   "outputs": [
    {
     "data": {
      "text/plain": [
       "0    4\n",
       "1    2\n",
       "2    2\n",
       "3    2\n",
       "4    2\n",
       "Name: Tipe3, dtype: int64"
      ]
     },
     "execution_count": 40,
     "metadata": {},
     "output_type": "execute_result"
    }
   ],
   "source": [
    "KOLOM = 'Tipe3'\n",
    "tipe3 = df[KOLOM]\n",
    "tipe3.head() # Melihatkan top 5 dataframe kolom Tipe4"
   ]
  },
  {
   "cell_type": "markdown",
   "id": "75213001",
   "metadata": {},
   "source": [
    "### Langkah 1: Hitung nilai standard deviation dan variance sebelum memodifikasi dataset untuk variabel Tipe3 (bebas memilih)"
   ]
  },
  {
   "cell_type": "code",
   "execution_count": 41,
   "id": "1002c4c6",
   "metadata": {},
   "outputs": [
    {
     "name": "stdout",
     "output_type": "stream",
     "text": [
      "Dataset kolom Tipe3 sebelum penambahan konstanta\n",
      "Standar Deviasi\t: 3.9046675366064867\n",
      "Variansi\t: 15.24642857142857\n"
     ]
    }
   ],
   "source": [
    "tipe3_std = tipe3.std()\n",
    "tipe3_var = tipe3.var()\n",
    "\n",
    "print(f\"Dataset kolom {KOLOM} sebelum penambahan konstanta\")\n",
    "print('Standar Deviasi\\t:', tipe3_std)\n",
    "print('Variansi\\t:', tipe3_var)"
   ]
  },
  {
   "cell_type": "markdown",
   "id": "3da634af",
   "metadata": {},
   "source": [
    "### Langkah 2: Modifikasi satu buah variabel dari dataset terkait dengan mengalikan suatu konstanta untuk setiap data. "
   ]
  },
  {
   "cell_type": "code",
   "execution_count": 42,
   "id": "a623bedb",
   "metadata": {},
   "outputs": [],
   "source": [
    "KONSTANTA = 69"
   ]
  },
  {
   "cell_type": "code",
   "execution_count": 43,
   "id": "25a975e6",
   "metadata": {},
   "outputs": [
    {
     "data": {
      "text/plain": [
       "0    276\n",
       "1    138\n",
       "2    138\n",
       "3    138\n",
       "4    138\n",
       "Name: Tipe3, dtype: int64"
      ]
     },
     "execution_count": 43,
     "metadata": {},
     "output_type": "execute_result"
    }
   ],
   "source": [
    "tipe3_mod = df[KOLOM].map(lambda x: x * KONSTANTA)\n",
    "tipe3_mod.head()"
   ]
  },
  {
   "cell_type": "markdown",
   "id": "4b723e6d",
   "metadata": {},
   "source": [
    "### Langkah 3: Hitung nilai standard deviation dan variance dari modified dataset untuk melengkapi tabel pada Langkah 1 dan lakukan analisa terhadap hasil yang diperoleh sesuai pertanyaan berikut ini. "
   ]
  },
  {
   "cell_type": "code",
   "execution_count": 44,
   "id": "87147e91",
   "metadata": {},
   "outputs": [
    {
     "name": "stdout",
     "output_type": "stream",
     "text": [
      "Dataset kolom Tipe3 setelah penambahan konstanta\n",
      "Standar Deviasi\t: 269.4220600258476\n",
      "Variansi\t: 72588.24642857142\n"
     ]
    }
   ],
   "source": [
    "tipe3_mod_std = tipe3_mod.std()\n",
    "tipe3_mod_var = tipe3_mod.var()\n",
    "\n",
    "print(f\"Dataset kolom {KOLOM} setelah penambahan konstanta\")\n",
    "print(\"Standar Deviasi\\t:\", tipe3_mod_std)\n",
    "print(\"Variansi\\t:\", tipe3_mod_var)"
   ]
  },
  {
   "cell_type": "markdown",
   "id": "a41da5c8",
   "metadata": {},
   "source": [
    "| **Statistical Descriptive** | **Python Code**            | **Original Data**         | **Modified Data**         |\n",
    "|----------------------------|----------------------------|---------------------------|---------------------------|\n",
    "| *s* (Standard Deviation):                   | `tipe3.std()`             | 3.9046675366064867        | 269.4220600258476         |\n",
    "| *s²* (Variance):                      | `tipe3.var()`           | 15.24642857142857                      | 72588.24642857142                      |\n"
   ]
  },
  {
   "cell_type": "markdown",
   "id": "9147e619",
   "metadata": {},
   "source": [
    "| Python Code: |       ```df['Tipe4'].map(lambda x: x * 69)```        |\n",
    "|--------------|---------------|\n",
    "| Deskripsi:   | Mengalikan sebuah konstanta sebesar **69** untuk setiap data dari variabel **Tipe4** |"
   ]
  },
  {
   "cell_type": "markdown",
   "id": "3bee32a2",
   "metadata": {},
   "source": [
    "| Bagaimana perkalian/pembagian suatu konstanta pada semua data mengubah nilai standard deviation dan variance?       |\n",
    "|-----------------------------|\n",
    "| Jika seluruh data dikalikan atau dibagi dengan suatu konstanta $k$, maka **variance akan berubah sebesar $k^2$ kali** dan **standard deviation akan berubah sebesar $k$ kali** artinya, operasi ini memperbesar atau memperkecil penyebaran data secara proporsional terhadap konstanta tersebut, tetapi **tidak mengubah bentuk distribusi relatif antar data**. |"
   ]
  },
  {
   "cell_type": "markdown",
   "id": "031b2215",
   "metadata": {},
   "source": [
    "## Properti #3: Sensitif terhadap Outliers \n",
    "\n",
    "Gunakan data yang sama, apa yang akan terjadi jika kita terdapat siswa baru super genius dimana untuk setiap tipe ujian selalu mendapatkan poin maksimal yakni 1000.  "
   ]
  },
  {
   "cell_type": "code",
   "execution_count": 45,
   "id": "ea129293",
   "metadata": {},
   "outputs": [
    {
     "data": {
      "text/plain": [
       "0    4\n",
       "1    2\n",
       "2    2\n",
       "3    2\n",
       "4    2\n",
       "Name: Tipe3, dtype: int64"
      ]
     },
     "execution_count": 45,
     "metadata": {},
     "output_type": "execute_result"
    }
   ],
   "source": [
    "KOLOM = 'Tipe3'\n",
    "tipe3 = df[KOLOM]\n",
    "tipe3.head() # Melihatkan top 5 dataframe kolom Tipe4"
   ]
  },
  {
   "cell_type": "markdown",
   "id": "a49965d2",
   "metadata": {},
   "source": [
    "### Langkah 1: Hitung nilai standard deviation dan variance sebelum memodifikasi dataset untuk variabel Tipe3 (bebas memilih) "
   ]
  },
  {
   "cell_type": "code",
   "execution_count": 46,
   "id": "db7b556b",
   "metadata": {},
   "outputs": [
    {
     "name": "stdout",
     "output_type": "stream",
     "text": [
      "Dataset kolom Tipe3 sebelum penambahan konstanta\n",
      "Standar Deviasi\t: 3.9046675366064867\n",
      "Variansi\t: 15.24642857142857\n"
     ]
    }
   ],
   "source": [
    "tipe3_std = tipe3.std()\n",
    "tipe3_var = tipe3.var()\n",
    "\n",
    "print(f\"Dataset kolom {KOLOM} sebelum penambahan konstanta\")\n",
    "print('Standar Deviasi\\t:', tipe3_std)\n",
    "print('Variansi\\t:', tipe3_var)"
   ]
  },
  {
   "cell_type": "markdown",
   "id": "23c62e5f",
   "metadata": {},
   "source": [
    "### Langkah 2: Modifikasi dataset dengan menambahkan satu baris data."
   ]
  },
  {
   "cell_type": "code",
   "execution_count": 47,
   "id": "feeb9ab7",
   "metadata": {},
   "outputs": [],
   "source": [
    "DATA_BARU = 1000\n",
    "tipe3_mod = pd.concat([df[KOLOM], pd.Series([DATA_BARU])])"
   ]
  },
  {
   "cell_type": "markdown",
   "id": "e3b1a3a7",
   "metadata": {},
   "source": [
    "### Langkah 3: Hitung nilai standard deviation dan variance dari modified dataset untuk melengkapi tabel pada Langkah 1 dan lakukan analisa terhadap hasil yang diperoleh sesuai pertanyaan berikut ini. "
   ]
  },
  {
   "cell_type": "code",
   "execution_count": 48,
   "id": "ab9c84d6",
   "metadata": {},
   "outputs": [
    {
     "name": "stdout",
     "output_type": "stream",
     "text": [
      "Dataset kolom Tipe3 setelah penambahan konstanta\n",
      "Standar Deviasi\t: 131.802847471152\n",
      "Variansi\t: 17371.99060150376\n"
     ]
    }
   ],
   "source": [
    "tipe3_mod_std = tipe3_mod.std()\n",
    "tipe3_mod_var = tipe3_mod.var()\n",
    "\n",
    "print(f\"Dataset kolom {KOLOM} setelah penambahan konstanta\")\n",
    "print(\"Standar Deviasi\\t:\", tipe3_mod_std)\n",
    "print(\"Variansi\\t:\", tipe3_mod_var)"
   ]
  },
  {
   "cell_type": "markdown",
   "id": "5042986f",
   "metadata": {},
   "source": [
    "| **Statistical Descriptive** | **Python Code**            | **Original Data**         | **Modified Data**         |\n",
    "|----------------------------|----------------------------|---------------------------|---------------------------|\n",
    "| *s* (Standard Deviation):                   | `tipe3.std()`             | 3.9046675366064867        |  131.802847471152         |\n",
    "| *s²* (Variance):                      | `tipe3.var()`           | 15.24642857142857                      | 17371.99060150376                   |\n"
   ]
  },
  {
   "cell_type": "markdown",
   "id": "e519efe5",
   "metadata": {},
   "source": [
    "| Python Code: |       ```pd.concat([df[\"Tipe3\"], pd.Series([1000])])```        |\n",
    "|--------------|---------------|\n",
    "| Deskripsi:   | Menambahkan satu baris data dengan nilai 1000 untuk variabel Tipe3 |"
   ]
  },
  {
   "cell_type": "markdown",
   "id": "05a04060",
   "metadata": {},
   "source": [
    "| Bagaimana pengaruh penambahan satu baris data baru berupa nilai ekstrem mengubah nilai standard deviation dan variance?     |\n",
    "|-----------------------------|\n",
    "| Menambahkan satu nilai ekstrem seperti 1000 ke dalam suatu dataset menyebabkan peningkatan yang signifikan pada nilai variance dan standard deviation karena nilai tersebut memperbesar jarak rata-rata terhadap titik-titik data lain, sehingga penyebaran keseluruhan data menjadi lebih lebar dan tidak lagi mewakili distribusi awal secara seimbang. Dengan kata lain, satu nilai outlier dapat merusak konsistensi ukuran dispersi dan membuat interpretasi data menjadi bias.|"
   ]
  }
 ],
 "metadata": {
  "kernelspec": {
   "display_name": "Python 3",
   "language": "python",
   "name": "python3"
  },
  "language_info": {
   "codemirror_mode": {
    "name": "ipython",
    "version": 3
   },
   "file_extension": ".py",
   "mimetype": "text/x-python",
   "name": "python",
   "nbconvert_exporter": "python",
   "pygments_lexer": "ipython3",
   "version": "3.10.0"
  }
 },
 "nbformat": 4,
 "nbformat_minor": 5
}
